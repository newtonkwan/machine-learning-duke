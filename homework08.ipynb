{
 "cells": [
  {
   "cell_type": "markdown",
   "metadata": {
    "tags": [
     "T"
    ]
   },
   "source": [
    "> **Student Names and IDs**:\n",
    ">\n",
    "> - Newton Kwan, nk150\n",
    "> - Joyce Choi, jc515\n",
    "> - Ashka Stephen, aas74"
   ]
  },
  {
   "cell_type": "markdown",
   "metadata": {
    "tags": [
     "AST"
    ]
   },
   "source": [
    "# Homework 8"
   ]
  },
  {
   "cell_type": "markdown",
   "metadata": {
    "tags": [
     "AST"
    ]
   },
   "source": [
    "## Part 1: Classifying Digit Images"
   ]
  },
  {
   "cell_type": "code",
   "execution_count": 84,
   "metadata": {
    "tags": [
     "AST"
    ]
   },
   "outputs": [],
   "source": [
    "from sklearn import datasets\n",
    "from sklearn.model_selection import train_test_split\n",
    "\n",
    "digits = datasets.load_digits()\n",
    "NData = len(digits.images)\n",
    "data = {'x': digits.images.reshape((NData, -1)), 'y': digits.target}\n",
    "\n",
    "testFraction = 0.6\n",
    "T, S = {}, {}\n",
    "T['x'], S['x'], T['y'], S['y'] = train_test_split(data['x'], data['y'],\n",
    " test_size=testFraction, random_state=0)\n",
    "\n",
    "NT, NS = len(T['y']), len(S['y'])\n",
    "\n",
    "def evaluate(h, T, S, name):\n",
    "    def errorRate(h, S):\n",
    "        x, y = S['x'], S['y']\n",
    "        return (1 - h.score(x, y)) * 100\n",
    "    \n",
    "    f = '{:s}: training error rate is {:.2f}, test error rate is {:.2f}'\n",
    "    err = (errorRate(h, T), errorRate(h, S), name)\n",
    "    print(f.format(name, err[0], err[1]))\n",
    "    return err\n"
   ]
  },
  {
   "cell_type": "markdown",
   "metadata": {
    "tags": [
     "AST"
    ]
   },
   "source": [
    "### Problem 1.1"
   ]
  },
  {
   "cell_type": "markdown",
   "metadata": {
    "tags": [
     "AST"
    ]
   },
   "source": [
    "Assuming that all digits appear with equal frequency in the data, what is the expected error rate (in percent) of a classifier that ignores the input and guesses the output uniformly and at random? Justify your answer with a very brief sentence."
   ]
  },
  {
   "cell_type": "markdown",
   "metadata": {
    "tags": [
     "ST"
    ]
   },
   "source": [
    "### Answer"
   ]
  },
  {
   "cell_type": "markdown",
   "metadata": {},
   "source": [
    "Expected error rate of a classifier that ignores input and guesses uniformly at random is: \n",
    "\n",
    "$$\\text{error}= 1 - (1/K)$$\n",
    "\n",
    "where K is the number of classes. Each number is guessed from a uniform probability distribution or 1/K number of times for sufficiently large number of guesses. In this specific example, the error rate is 90%. "
   ]
  },
  {
   "cell_type": "markdown",
   "metadata": {
    "tags": [
     "AST"
    ]
   },
   "source": [
    "### Problem 1.2"
   ]
  },
  {
   "cell_type": "markdown",
   "metadata": {
    "tags": [
     "AST"
    ]
   },
   "source": [
    "Train a `sklearn.tree.DecisionTreeClassifier`. Show your code and report training and test error rates."
   ]
  },
  {
   "cell_type": "markdown",
   "metadata": {
    "tags": [
     "ST"
    ]
   },
   "source": [
    "### Answer"
   ]
  },
  {
   "cell_type": "code",
   "execution_count": 85,
   "metadata": {},
   "outputs": [],
   "source": [
    "from sklearn.tree import DecisionTreeClassifier\n",
    "def information(classifier, T, S, random_state):\n",
    "    '''\n",
    "    Desribes the result of evaluating the classifier on the sets \n",
    "    '''\n",
    "    \n",
    "    clf = classifier(random_state=random_state).fit(T['x'], T['y'])\n",
    "    train_risk = clf.score(T['x'], T['y'])\n",
    "    test_risk = clf.score(S['x'], S['y'])\n",
    "    print(\"The training error rate is {:.2f}\".format(100 - train_risk*100), \"%\")\n",
    "    print(\"The test error rate is {:.2f}\".format(100 - test_risk*100), \"%\")\n",
    "    \n",
    "    return train_risk, test_risk\n"
   ]
  },
  {
   "cell_type": "code",
   "execution_count": 86,
   "metadata": {},
   "outputs": [
    {
     "name": "stdout",
     "output_type": "stream",
     "text": [
      "The training error rate is 0.00 %\n",
      "The test error rate is 20.11 %\n"
     ]
    }
   ],
   "source": [
    "d_trees = information(DecisionTreeClassifier, T, S, random_state = 0)"
   ]
  },
  {
   "cell_type": "markdown",
   "metadata": {
    "tags": [
     "AST"
    ]
   },
   "source": [
    "### Problem 1.3"
   ]
  },
  {
   "cell_type": "markdown",
   "metadata": {
    "tags": [
     "AST"
    ]
   },
   "source": [
    "Use `GridSearchCV` to find a good number of trees for a `sklearn.ensemble.RandomForestClassifier` by 10-fold cross-validation. Show your code and report (i) the number of trees in the forest you end up choosing, (ii) the training and test error rates, and (iii) the out-of-bag error rate estimate."
   ]
  },
  {
   "cell_type": "markdown",
   "metadata": {
    "tags": [
     "ST"
    ]
   },
   "source": [
    "### Answer"
   ]
  },
  {
   "cell_type": "code",
   "execution_count": 108,
   "metadata": {},
   "outputs": [],
   "source": [
    "from sklearn.model_selection import GridSearchCV\n",
    "from sklearn.ensemble import RandomForestClassifier\n",
    "K = 10  # K-fold cross-validation \n",
    "# create dictionary of hyper parameters \n",
    "param_grid = {} \n",
    "param_grid['random_state'] = [0]\n",
    "param_grid['n_estimators'] = range(100, 500, 100)\n",
    "\n",
    "#print(param_grid) # print out parameters as sanity check"
   ]
  },
  {
   "cell_type": "code",
   "execution_count": 109,
   "metadata": {},
   "outputs": [],
   "source": [
    "# Perform cross validation for K = 10 \n",
    "rforest_clf = GridSearchCV(RandomForestClassifier(), param_grid, scoring = 'accuracy', cv = K)\n",
    "rforest_clf.fit(T['x'], T['y'])\n",
    "hyp_params = rforest_clf.cv_results_['params']           # list of dictionaries of hyper parameters\n",
    "test_scores = rforest_clf.cv_results_['mean_test_score'] # list of test scores (whose index corresponds to hyp_params) \n",
    "best_params = rforest_clf.best_params_                   # gives the best paramters found by GridSearchCV"
   ]
  },
  {
   "cell_type": "code",
   "execution_count": 110,
   "metadata": {},
   "outputs": [
    {
     "name": "stdout",
     "output_type": "stream",
     "text": [
      "The number of trees in the forest: 100\n",
      "The training error rate is is 0.00 %\n",
      "The test error rate is 3.61 %\n",
      "The out-of-bag error rate is 5.29 %\n"
     ]
    }
   ],
   "source": [
    "# Retrain on T with best hyper parameters \n",
    "best_n_estimators = best_params['n_estimators'] # best hyper paramter n_estimators from clf\n",
    "new_rforest_clf = RandomForestClassifier(n_estimators = best_n_estimators, random_state=0, oob_score = True).fit(T['x'], T['y'])\n",
    "new_rforest_train_risk = new_rforest_clf.score(T['x'], T['y']) # training accuracy \n",
    "new_rforest_test_risk = new_rforest_clf.score(S['x'], S['y']) # test accuracy \n",
    "print(\"The number of trees in the forest:\", best_n_estimators)\n",
    "print(\"The training error rate is is {:.2f}\".format(100 - new_rforest_train_risk*100), \"%\")\n",
    "print(\"The test error rate is {:.2f}\".format(100 - new_rforest_test_risk*100), \"%\")\n",
    "print(\"The out-of-bag error rate is {:.2f}\".format(100 - new_rforest_clf.oob_score_*100), \"%\")"
   ]
  },
  {
   "cell_type": "markdown",
   "metadata": {
    "tags": [
     "AST"
    ]
   },
   "source": [
    "### Problem 1.4"
   ]
  },
  {
   "cell_type": "markdown",
   "metadata": {
    "tags": [
     "AST"
    ]
   },
   "source": [
    "Train a `sklearn.linear_model.LogisticRegression` classifier. Show your code and report training and test error rates."
   ]
  },
  {
   "cell_type": "markdown",
   "metadata": {
    "tags": [
     "ST"
    ]
   },
   "source": [
    "### Answer"
   ]
  },
  {
   "cell_type": "code",
   "execution_count": 91,
   "metadata": {},
   "outputs": [],
   "source": [
    "from sklearn.linear_model import LogisticRegression\n",
    "def information(classifier, T, S, C, solver, multi_class, random_state):\n",
    "    '''\n",
    "    Desribes the result of evaluating the classifier on the sets \n",
    "    '''\n",
    "    \n",
    "    clf = classifier(C=C, solver=solver, multi_class=multi_class, random_state=random_state).fit(T['x'], T['y'])\n",
    "    train_risk = clf.score(T['x'], T['y'])\n",
    "    test_risk = clf.score(S['x'], S['y'])\n",
    "    print(\"The training error rate is {:.2f}\".format(100 - train_risk*100), \"%\")\n",
    "    print(\"The test error rate is {:.2f}\".format(100 - test_risk*100), \"%\")\n",
    "    \n",
    "    return train_risk, test_risk"
   ]
  },
  {
   "cell_type": "code",
   "execution_count": 92,
   "metadata": {},
   "outputs": [
    {
     "name": "stdout",
     "output_type": "stream",
     "text": [
      "The training error rate is 0.00 %\n",
      "The test error rate is 4.45 %\n"
     ]
    }
   ],
   "source": [
    "log_reg = information(LogisticRegression, T, S, 1e5, 'lbfgs', 'multinomial', random_state = 0)"
   ]
  },
  {
   "cell_type": "markdown",
   "metadata": {
    "tags": [
     "AST"
    ]
   },
   "source": [
    "### Problem 1.5"
   ]
  },
  {
   "cell_type": "markdown",
   "metadata": {
    "tags": [
     "AST"
    ]
   },
   "source": [
    "Use `GridSearchCV` to find a good number of neighbors for a `sklearn.neighbors.KNeighborsClassifier` by 10-fold cross-validation. Show your code and report (i) the number of neighbors you end up choosing, and (ii) the training and test error rates."
   ]
  },
  {
   "cell_type": "markdown",
   "metadata": {},
   "source": [
    "#### Programming Note\n",
    "\n",
    "Neighbors are in the single digits. No point in trying dozens of neighbors."
   ]
  },
  {
   "cell_type": "markdown",
   "metadata": {
    "tags": [
     "ST"
    ]
   },
   "source": [
    "### Answer"
   ]
  },
  {
   "cell_type": "code",
   "execution_count": 111,
   "metadata": {},
   "outputs": [],
   "source": [
    "from sklearn.neighbors import KNeighborsClassifier\n",
    "K = 10  # K-fold cross-validation \n",
    "# create dictionary of hyper parameters \n",
    "param_grid = {} \n",
    "param_grid['n_neighbors'] = range(1, 10, 1)\n",
    "\n",
    "#print(param_grid) # print out parameters as sanity check"
   ]
  },
  {
   "cell_type": "code",
   "execution_count": 112,
   "metadata": {},
   "outputs": [],
   "source": [
    "# Perform cross validation for K = 10 \n",
    "knn_clf = GridSearchCV(KNeighborsClassifier(), param_grid, cv = K)\n",
    "knn_clf.fit(T['x'], T['y'])\n",
    "hyp_params = knn_clf.cv_results_['params']           # list of dictionaries of hyper parameters\n",
    "test_scores = knn_clf.cv_results_['mean_test_score'] # list of test scores (whose index corresponds to hyp_params) \n",
    "best_params = knn_clf.best_params_                   # gives the best paramters found by GridSearchCV"
   ]
  },
  {
   "cell_type": "code",
   "execution_count": 113,
   "metadata": {},
   "outputs": [
    {
     "name": "stdout",
     "output_type": "stream",
     "text": [
      "The number of neighbors: 1\n",
      "The training error rate is is 0.00 %\n",
      "The test error rate is 1.58 %\n"
     ]
    }
   ],
   "source": [
    "# Retrain on T with best hyper parameters \n",
    "best_n_neighbors = best_params['n_neighbors'] # best hyper paramter n_estimators from knn_clf\n",
    "new_knn_clf = KNeighborsClassifier(n_neighbors = best_n_neighbors).fit(T['x'], T['y'])\n",
    "new_knn_train_risk = new_knn_clf.score(T['x'], T['y']) # training accuracy \n",
    "new_knn_test_risk = new_knn_clf.score(S['x'], S['y']) # test accuracy \n",
    "print(\"The number of neighbors:\", best_n_neighbors)\n",
    "print(\"The training error rate is is {:.2f}\".format(100 - new_knn_train_risk*100), \"%\")\n",
    "print(\"The test error rate is {:.2f}\".format(100 - new_knn_test_risk*100), \"%\")"
   ]
  },
  {
   "cell_type": "markdown",
   "metadata": {
    "tags": [
     "AST"
    ]
   },
   "source": [
    "### Problem 1.6"
   ]
  },
  {
   "cell_type": "markdown",
   "metadata": {
    "tags": [
     "AST"
    ]
   },
   "source": [
    "Let us define the _overfit rate_ of a classifier as the difference between testing error and training error, both expressed as percentages. Write code that prints out the overfit rates for the tree, forest, linear classifier, and k-NN classifier, in this order, one per line. Your printout should say which is which."
   ]
  },
  {
   "cell_type": "markdown",
   "metadata": {
    "tags": [
     "ST"
    ]
   },
   "source": [
    "### Answer"
   ]
  },
  {
   "cell_type": "code",
   "execution_count": 98,
   "metadata": {},
   "outputs": [
    {
     "name": "stdout",
     "output_type": "stream",
     "text": [
      "tree overfit rate: 20.11 %\n",
      "forest overfit rate: 3.61 %\n",
      "linear classifier overfit rate: 4.45 %\n",
      "k-NN overfit rate: 1.58 %\n"
     ]
    }
   ],
   "source": [
    "print(\"tree overfit rate: {:.2f}\".format((d_trees[0] - d_trees[1])*100), \"%\")\n",
    "print(\"forest overfit rate: {:.2f}\".format((new_rforest_train_risk - new_rforest_test_risk)*100), \"%\")\n",
    "print(\"linear classifier overfit rate: {:.2f}\".format((log_reg[0] - log_reg[1])*100), \"%\")\n",
    "print(\"k-NN overfit rate: {:.2f}\".format((new_knn_train_risk - new_knn_test_risk)*100), \"%\")"
   ]
  },
  {
   "cell_type": "markdown",
   "metadata": {},
   "source": [
    "Write code that prints out the overfit rates for the tree, forest, linear classifier, and k-NN classifier, "
   ]
  },
  {
   "cell_type": "markdown",
   "metadata": {
    "tags": [
     "AST"
    ]
   },
   "source": [
    "### Problem 1.7"
   ]
  },
  {
   "cell_type": "markdown",
   "metadata": {
    "tags": [
     "AST"
    ]
   },
   "source": [
    "Discuss briefly the results you obtained, by answering the following questions:\n",
    "- Which classifier works best on this data set?\n",
    "- Why doesn't everyone always use the best-performing classifier for a problem like this?\n",
    "- Do random forests reduce overfitting when compared with decision trees?\n",
    "- In what ways is a linear classifier more convenient than algorithms that may perform better, when optimal performance is not crucial?\n",
    "- For all but one of the classifiers used, a zero training error rate is no surprise. Which is the odd-man-out, and why?"
   ]
  },
  {
   "cell_type": "markdown",
   "metadata": {
    "tags": [
     "ST"
    ]
   },
   "source": [
    "### Answer"
   ]
  },
  {
   "cell_type": "markdown",
   "metadata": {},
   "source": [
    "- The k-NN classifier works the best with test error rate of 1.58%. \n",
    "- We don’t always use the best-performing classifier because it depends on the dataset. Sometimes the best performing classifier might not generalize well enough. It could also be because we want to trade-off accuracy for time to have a classifier that’s faster and “good enough”.\n",
    "- Yes, random forest reduce overfitting when compared with decision trees. We see a reduction in the overfit rate from 20.11% to 3.61% \n",
    "- Linear classifiers generalize well to other problems, which might be preferable to having a very specific, complex model. It also could have faster calculations than a more complex classifier.\n",
    "- We expect 0% for decision trees, k-nearest, and random forests. Therefore we are surprised that logistic regression is able to achieve 0% error because that means the decision region is convex (aka the data is linearly separable). This does not happen too often (dataset dependent), especially as we get into higher dimensions."
   ]
  },
  {
   "cell_type": "markdown",
   "metadata": {
    "tags": [
     "AST"
    ]
   },
   "source": [
    "## Part 2: Closed Convex Polyhedral Cones"
   ]
  },
  {
   "cell_type": "markdown",
   "metadata": {
    "tags": [
     "AST"
    ]
   },
   "source": [
    "### Problem 2.1"
   ]
  },
  {
   "cell_type": "markdown",
   "metadata": {
    "tags": [
     "AST"
    ]
   },
   "source": [
    "Write a function with header\n",
    "    `def parametric(a):`\n",
    "that takes a list `a` with the vectors of an implicit representation of a CCP cone on the plane and returns a list with the generators of the parametric representation."
   ]
  },
  {
   "cell_type": "markdown",
   "metadata": {
    "tags": [
     "T"
    ]
   },
   "source": [
    "Show your code in a new code cell under the _Answer_ header below. The tests after that will draw your results if your code has no bugs. Of course, you need to make sure that the drawings make sense."
   ]
  },
  {
   "cell_type": "markdown",
   "metadata": {
    "tags": [
     "ST"
    ]
   },
   "source": [
    "### Answer"
   ]
  },
  {
   "cell_type": "code",
   "execution_count": 99,
   "metadata": {},
   "outputs": [],
   "source": [
    "import numpy as np\n",
    "import math\n",
    "\n",
    "def parametric(l):\n",
    "    # edge 1: check if superimposed or only one vector \n",
    "    if (len(l)==1) or (checkNormal(l)):\n",
    "        for eachPoint in l:\n",
    "            generated = generatePoints(eachPoint[0],eachPoint[1])\n",
    "        generated.append(l[0])\n",
    "        # print(\" - final result: \", removeDuplicates(generated))\n",
    "        return (removeDuplicates(generated))\n",
    " \n",
    "    #edge 2: check if pointing opposite\n",
    "    opposite = list([-l[0][0], -l[0][1]])\n",
    "    if (checkNormal([opposite,l[1]])):\n",
    "        for eachPoint in l:\n",
    "            generated = generatePoints(eachPoint[0],eachPoint[1])\n",
    "        # print(\" - final result: \", removeDuplicates(generated))\n",
    "        return (removeDuplicates(generated))\n",
    "\n",
    "    saved = []\n",
    "    for eachPoint in l:\n",
    "        generated = generatePoints(eachPoint[0],eachPoint[1])\n",
    "        for eachR in generated:\n",
    "            if (checkDotProd(eachR,l)):\n",
    "                saved.append(eachR)\n",
    "    # print(\" - final result: \", removeDuplicates(saved))\n",
    "    return saved\n",
    "  \n",
    "\n",
    "def removeDuplicates(l):\n",
    "    final_list = [] \n",
    "    for point in l: \n",
    "        if point not in final_list: \n",
    "            final_list.append(point) \n",
    "    return final_list \n",
    "\n",
    "'''\n",
    "check if two vectors have the same normal\n",
    "'''\n",
    "def checkNormal(l):\n",
    "    list0 = list(l[0])\n",
    "    list1 = list(l[1])\n",
    "    \n",
    "    len0 = math.sqrt(list0[0]**2 + list0[1]**2)\n",
    "    len1 = math.sqrt(list1[0]**2 + list1[1]**2)\n",
    "    \n",
    "    newList0 = [x / len0 for x in list0]\n",
    "    newList1 = [x / len1 for x in list1]\n",
    "    \n",
    "    return (newList0 == newList1)\n",
    "\n",
    "'''\n",
    "  given an x and y - output list of orthogonal\n",
    "'''\n",
    "def generatePoints(x,y):\n",
    "    return [(-y,x),(y,-x)] \n",
    "    \n",
    "'''\n",
    "output the list of points that satisfy all constraints w dot product check\n",
    "given an r vector (testR) and a list of all a's to compare (l)\n",
    "'''\n",
    "def checkDotProd(testR, l):\n",
    "    for each in l:\n",
    "        if np.dot(testR, each) < 0: \n",
    "            # should not happen \n",
    "            return False\n",
    "    return True\n"
   ]
  },
  {
   "cell_type": "code",
   "execution_count": 100,
   "metadata": {
    "tags": [
     "AST"
    ]
   },
   "outputs": [
    {
     "name": "stdout",
     "output_type": "stream",
     "text": [
      "implicit:{(0, 1), (1, 0)}; parametric: {(1, 0), (0, 1)}\n",
      "implicit:{(1, 2), (2, 1)}; parametric: {(2, -1), (-1, 2)}\n",
      "implicit:{(1, 2), (-1, 0)}; parametric: {(-2, 1), (0, 1)}\n",
      "implicit:{(1, 1), (-1, -1)}; parametric: {(1, -1), (-1, 1)}\n",
      "implicit:{(0, 1)}; parametric: {(-1, 0), (1, 0), (0, 1)}\n"
     ]
    },
    {
     "data": {
      "image/png": "[encoded data removed]",
      "text/plain": [
       "<matplotlib.figure.Figure at 0x113d6dbe0>"
      ]
     },
     "metadata": {},
     "output_type": "display_data"
    }
   ],
   "source": [
    "### Tests; Your code should be in a separate code cell above this one\n",
    "\n",
    "%matplotlib inline\n",
    "\n",
    "tests = [[(0, 1), (1, 0)],\n",
    "         [(1, 2), (2, 1)],\n",
    "         [(1, 2), (-1, 0)],\n",
    "         [(1, 1), (-1, -1)],\n",
    "         [(0, 1)]]\n",
    "\n",
    "def vectorString(a):\n",
    "    return '{' + ', '.join(['(' + ', '.join([str(b[i]) \\\n",
    "        for i in range(len(b))]) + ')' for b in a]) + '}'\n",
    "\n",
    "import matplotlib.pyplot as plt\n",
    "def draw(a, p, k):\n",
    "    plt.subplot(2, 3, k)\n",
    "    for b in a:\n",
    "        plt.quiver(0, 0, b[0], b[1], color='r', units='width', scale=5)    \n",
    "    for q in p:\n",
    "        plt.quiver(0, 0, q[0], q[1], color='b', units='width', scale=5)\n",
    "    plt.axis('equal')\n",
    "    plt.axis('off')\n",
    "    plt.xlim([-1, 1])\n",
    "    plt.ylim([-1, 1])\n",
    "\n",
    "try:\n",
    "    plt.figure()\n",
    "    k = 1\n",
    "    for a in tests:\n",
    "        p = parametric(a)\n",
    "        print('implicit:', vectorString(a), '; parametric: ', vectorString(p), sep='')\n",
    "        draw(a, p, k)\n",
    "        k += 1\n",
    "    plt.show()\n",
    "except NameError:\n",
    "    pass\n"
   ]
  },
  {
   "cell_type": "markdown",
   "metadata": {
    "tags": [
     "AST"
    ]
   },
   "source": [
    "### Problem 2.2"
   ]
  },
  {
   "cell_type": "markdown",
   "metadata": {
    "tags": [
     "AST"
    ]
   },
   "source": [
    "Write a function with header\n",
    "    `def implicit(p):`\n",
    "that takes a list `p` with the generators of a parametric representation of a CCP cone on the plane and returns a list with the vectors for the implicit representation."
   ]
  },
  {
   "cell_type": "markdown",
   "metadata": {
    "tags": [
     "T"
    ]
   },
   "source": [
    "Show your code in a code cell under the _Answer_ header below. The tests after that will draw your results if your code has no bugs. Of course, you need to make sure that the drawings make sense."
   ]
  },
  {
   "cell_type": "markdown",
   "metadata": {
    "tags": [
     "ST"
    ]
   },
   "source": [
    "### Answer"
   ]
  },
  {
   "cell_type": "code",
   "execution_count": 101,
   "metadata": {},
   "outputs": [],
   "source": [
    "def implicit(l):\n",
    "    # edge 1: check if superimposed or only one vector \n",
    "    if (len(l)==1) or (checkNormal(l)):\n",
    "        for eachPoint in l:\n",
    "            generated = generatePoints(eachPoint[0],eachPoint[1])\n",
    "        generated.append(l[0])\n",
    "        # print(\" - final result: \", removeDuplicates(generated))\n",
    "        return (removeDuplicates(generated))\n",
    " \n",
    "    #edge 2: check if pointing opposite\n",
    "    opposite = list([-l[0][0], -l[0][1]])\n",
    "    if (checkNormal([opposite,l[1]])):\n",
    "        for eachPoint in l:\n",
    "            generated = generatePoints(eachPoint[0],eachPoint[1])\n",
    "        # print(\" - final result: \", removeDuplicates(generated))\n",
    "        return (removeDuplicates(generated))\n",
    "\n",
    "    saved = []\n",
    "    for eachPoint in l:\n",
    "        generated = generatePoints(eachPoint[0],eachPoint[1])\n",
    "        for eachR in generated:\n",
    "            if (checkDotProd(eachR,l)):\n",
    "                saved.append(eachR)\n",
    "    # print(\" - final result: \", removeDuplicates(saved))\n",
    "    return saved\n"
   ]
  },
  {
   "cell_type": "code",
   "execution_count": 102,
   "metadata": {
    "tags": [
     "AST"
    ]
   },
   "outputs": [
    {
     "name": "stdout",
     "output_type": "stream",
     "text": [
      "parametric: {(0, 1), (1, 0)}; implicit:{(1, 0), (0, 1)}\n",
      "parametric: {(1, 2), (2, 1)}; implicit:{(2, -1), (-1, 2)}\n",
      "parametric: {(1, 2), (-1, 0)}; implicit:{(-2, 1), (0, 1)}\n",
      "parametric: {(1, 1), (-1, -1)}; implicit:{(1, -1), (-1, 1)}\n",
      "parametric: {(0, 1)}; implicit:{(-1, 0), (1, 0), (0, 1)}\n"
     ]
    },
    {
     "data": {
      "image/png": "[encoded data removed]",
      "text/plain": [
       "<matplotlib.figure.Figure at 0x11d1470f0>"
      ]
     },
     "metadata": {},
     "output_type": "display_data"
    }
   ],
   "source": [
    "### Tests; Your code should be in a separate code cell above this one\n",
    "\n",
    "try:\n",
    "    plt.figure()\n",
    "    k = 1\n",
    "    for p in tests:\n",
    "        a = implicit(p)\n",
    "        print('parametric: ', vectorString(p), '; implicit:', vectorString(a), sep='')\n",
    "        draw(a, p, k)\n",
    "        k += 1\n",
    "    plt.show()\n",
    "except NameError:\n",
    "    pass"
   ]
  },
  {
   "cell_type": "markdown",
   "metadata": {
    "tags": [
     "AST"
    ]
   },
   "source": [
    "### Problem 2.3"
   ]
  },
  {
   "cell_type": "markdown",
   "metadata": {
    "tags": [
     "AST"
    ]
   },
   "source": [
    "Let\n",
    "\n",
    "$$ P = \\{\\mathbf{u}\\in\\mathbb{R}^2\\ :\\ \\mathbf{a}_1^T\\mathbf{u} \\geq 0 \\;\\;\\text{and}\\;\\;\n",
    "\\mathbf{a}_2^T\\mathbf{u} \\geq 0\\ \\}$$\n",
    "\n",
    "where\n",
    "\n",
    "$$ \\mathbf{a}_1^T = (0, 1) \\;\\;\\;\\text{and}\\;\\;\\; \\mathbf{a}_2^T = (-2, 1)\\;. $$\n",
    "\n",
    "What is the _implicit_ (not parametric!) representation of the dual $D$ of $P$?\n",
    "\n",
    "_Hint:_ The previous problems may help."
   ]
  },
  {
   "cell_type": "markdown",
   "metadata": {
    "tags": [
     "ST"
    ]
   },
   "source": [
    "### Answer"
   ]
  },
  {
   "cell_type": "code",
   "execution_count": 107,
   "metadata": {},
   "outputs": [
    {
     "name": "stdout",
     "output_type": "stream",
     "text": [
      "The implicit representation of the dual D of P is a1 = (-1, 0) and a2 = (1, 2)\n"
     ]
    }
   ],
   "source": [
    "answer = implicit([(0, 1), (-2, 1)])\n",
    "print(\"The implicit representation of the dual D of P is a1 =\",answer[0], \"and a2 =\",answer[1])"
   ]
  },
  {
   "cell_type": "markdown",
   "metadata": {
    "tags": [
     "AST"
    ]
   },
   "source": [
    "## Part 3: Convex Programs"
   ]
  },
  {
   "cell_type": "markdown",
   "metadata": {
    "tags": [
     "AST"
    ]
   },
   "source": [
    "### Problem 3.1"
   ]
  },
  {
   "cell_type": "markdown",
   "metadata": {
    "tags": [
     "AST"
    ]
   },
   "source": [
    "Use the definition of function convexity to prove that the function\n",
    "\n",
    "$$ f(u, v) = u + v $$\n",
    "\n",
    "is (weakly) convex in the vector $\\mathbf{u} = (u, v)$."
   ]
  },
  {
   "cell_type": "markdown",
   "metadata": {
    "tags": [
     "ST"
    ]
   },
   "source": [
    "### Answer"
   ]
  },
  {
   "cell_type": "markdown",
   "metadata": {},
   "source": [
    "$f$ is convex is for every $\\mathbf{u}, \\mathbf{v} \\in R^m$ and $t \\in [0,1]$ the following inequality holds \n",
    "\n",
    "$$ f(t\\mathbf{u} + (1-t)\\mathbf{v}) \\leq tf(\\mathbf{u}) + (1-t)f(\\mathbf{v})$$\n",
    "\n",
    "Let $\\mathbf{u} = (u, v)$ and $\\mathbf{v} = (u_2, v_2)$. Showing that the left side of the inequality is equivalent to the right side of the inequality will be sufficient proof that $f$ is weakly convex.\n",
    "\n",
    "Starting with the left side of the inequality, \n",
    "\n",
    "$$f(t\\mathbf{u} + (1-t)\\mathbf{v}) = f(t\\begin{bmatrix} u \\\\ v \\end{bmatrix} + (1-t)\\begin{bmatrix} u_2 \\\\ v_2 \\end{bmatrix}) = f(\\begin{bmatrix} tu + u_2 - tu_2 \\\\ tv + v_2 - tv_2 \\end{bmatrix}) = t(u - u_2 + v - v_2) + u_2 + v_2$$\n",
    "\n",
    "Now expanding the right side of the inequality, \n",
    "\n",
    "$$tf(\\mathbf{u}) + (1-t)f(\\mathbf{v}) = t(u + v) + (1-t)(u_2+v_2) = tu - tu_2 + tv  - tv_2 +u_2+v_2 = t(u + - u_2 + v  - v_2) + u_2 + v_2$$ \n",
    "\n",
    "Both sides of the inequality are equal, which is sufficient to prove that $f$ is weakly convex. \n"
   ]
  },
  {
   "cell_type": "markdown",
   "metadata": {
    "tags": [
     "AST"
    ]
   },
   "source": [
    "### Problem 3.2"
   ]
  },
  {
   "cell_type": "markdown",
   "metadata": {
    "tags": [
     "AST"
    ]
   },
   "source": [
    "Use the KKT conditions (1) and (2) to write expressions for $\\alpha_1$ and $\\alpha_2$ in terms of $u_1$, $a_1$, $u_2$, $a_2$."
   ]
  },
  {
   "cell_type": "markdown",
   "metadata": {
    "tags": [
     "ST"
    ]
   },
   "source": [
    "### Answer"
   ]
  },
  {
   "cell_type": "markdown",
   "metadata": {},
   "source": [
    "$$\\alpha_1 = 2(u_1 - a_1)$$\n",
    "$$\\alpha_2 = 2(u_2 - a_2)$$"
   ]
  },
  {
   "cell_type": "markdown",
   "metadata": {
    "tags": [
     "AST"
    ]
   },
   "source": [
    "### Problem 3.3"
   ]
  },
  {
   "cell_type": "markdown",
   "metadata": {
    "tags": [
     "AST"
    ]
   },
   "source": [
    "For $\\mathbf{a} = \\mathbf{a}_1$ (given in the preamble), compute the values of the Lagrange multipliers $\\alpha_1$ and $\\alpha_2$ for each of the four test points using the expressions you found in Problem 3.2, and check which of the test points, if any, satisfies the remaining KKT conditions (5), (6), (7). Based on this check, is any of the four test points a solution to the convex program? If so, which?\n",
    "\n",
    "Your answer should just\n",
    "- state which of the four points solve(s) the convex program,\n",
    "- list the corresponding values of $\\alpha_1$ and $\\alpha_2$, and\n",
    "- give the active set $\\mathcal{A}$ for the solution.\n",
    "\n",
    "If there is no solution, so state."
   ]
  },
  {
   "cell_type": "markdown",
   "metadata": {
    "tags": [
     "ST"
    ]
   },
   "source": [
    "### Answer"
   ]
  },
  {
   "cell_type": "markdown",
   "metadata": {},
   "source": [
    "- $\\mathbf{v}_4$ solves the convex program\n",
    "- $\\alpha_1 = 0$; $\\alpha_2 = 0$\n",
    "- $A = \\{\\}$ is the active set for the solution"
   ]
  },
  {
   "cell_type": "markdown",
   "metadata": {
    "tags": [
     "AST"
    ]
   },
   "source": [
    "### Problem 3.4"
   ]
  },
  {
   "cell_type": "markdown",
   "metadata": {
    "tags": [
     "AST"
    ]
   },
   "source": [
    "Same as Problem 3.3, but for $\\mathbf{a} = \\mathbf{a}_2$."
   ]
  },
  {
   "cell_type": "markdown",
   "metadata": {
    "tags": [
     "ST"
    ]
   },
   "source": [
    "### Answer"
   ]
  },
  {
   "cell_type": "markdown",
   "metadata": {},
   "source": [
    "- $\\mathbf{v}_2$ solves the convex program \n",
    "- $\\alpha_1 = 2$; $\\alpha_2 = 0$\n",
    "- $A = \\{1\\}$ is the active set for the solution"
   ]
  },
  {
   "cell_type": "markdown",
   "metadata": {
    "tags": [
     "AST"
    ]
   },
   "source": [
    "### Problem 3.5"
   ]
  },
  {
   "cell_type": "markdown",
   "metadata": {
    "tags": [
     "AST"
    ]
   },
   "source": [
    "Same as Problem 3.3, but for $\\mathbf{a} = \\mathbf{a}_3$."
   ]
  },
  {
   "cell_type": "markdown",
   "metadata": {
    "tags": [
     "ST"
    ]
   },
   "source": [
    "### Answer"
   ]
  },
  {
   "cell_type": "markdown",
   "metadata": {},
   "source": [
    "- $\\mathbf{v}_1$ solves the convex program \n",
    "- $\\alpha_1 = 2$; $\\alpha_2 = 4$\n",
    "- $A = \\{1,2\\}$ is the active set for the solution"
   ]
  }
 ],
 "metadata": {
  "kernelspec": {
   "display_name": "Python 3",
   "language": "python",
   "name": "python3"
  },
  "language_info": {
   "codemirror_mode": {
    "name": "ipython",
    "version": 3
   },
   "file_extension": ".py",
   "mimetype": "text/x-python",
   "name": "python",
   "nbconvert_exporter": "python",
   "pygments_lexer": "ipython3",
   "version": "3.6.3"
  }
 },
 "nbformat": 4,
 "nbformat_minor": 2
}
