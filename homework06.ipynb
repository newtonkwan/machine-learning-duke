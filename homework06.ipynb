{
 "cells": [
  {
   "cell_type": "markdown",
   "metadata": {
    "tags": [
     "T"
    ]
   },
   "source": [
    "> **Student Names and IDs**:\n",
    ">\n",
    "> Newton Kwan, nk150 "
   ]
  },
  {
   "cell_type": "markdown",
   "metadata": {
    "tags": [
     "AST"
    ]
   },
   "source": [
    "# Homework 6"
   ]
  },
  {
   "cell_type": "markdown",
   "metadata": {
    "tags": [
     "AST"
    ]
   },
   "source": [
    "## Part 1: Newton's Method"
   ]
  },
  {
   "cell_type": "markdown",
   "metadata": {
    "tags": [
     "AST"
    ]
   },
   "source": [
    "### Problem 1.1"
   ]
  },
  {
   "cell_type": "markdown",
   "metadata": {
    "tags": [
     "AST"
    ]
   },
   "source": [
    "Write a function with header\n",
    "\n",
    "    def Newton(f, g, H, z0, maxK=1000, delta=hw6.small, , normalize=False):\n",
    "    \n",
    "that takes three functions `f`, `g`, `H` that compute value, gradient, and Hessian of some function $f$ and a starting point `z0` (a one-dimensional `numpy` array) and finds a minimum of $f$ by Newton's method. The optional parameter `maxK` is the maximum number of iterations, and `delta` is a threshold on the Euclidean norm of $\\mathbf{z}_{k+1} - \\mathbf{z}_{k}$. The algorithm stops when that norm falls below `delta`. See the programming notes for the meaning of `normalize`.\n",
    "\n",
    "Show your code and the value `zNewton[-1]` found by running `Newton` on the Rosenbrock function, starting at $\\mathbf{z}_0 = (-1.2, 1)$. Also print out the number of points in `zNewton`."
   ]
  },
  {
   "cell_type": "markdown",
   "metadata": {
    "tags": [
     "ST"
    ]
   },
   "source": [
    "### Answer"
   ]
  },
  {
   "cell_type": "code",
   "execution_count": 79,
   "metadata": {},
   "outputs": [],
   "source": [
    "import hw6\n",
    "import numpy as np \n",
    "import math"
   ]
  },
  {
   "cell_type": "code",
   "execution_count": 80,
   "metadata": {},
   "outputs": [],
   "source": [
    "def Newton(f, g, H, z0, maxK=1000, delta=hw6.small, normalize=False):\n",
    "    '''\n",
    "    implementation of Newton's method. returns the input of f that gives the minimum. \n",
    "    '''\n",
    "    \n",
    "    count = 0 \n",
    "    answer = [] \n",
    "    answer.append(z0)\n",
    "    dz_norm = 100000 # intialize the norm to a very high number \n",
    "    \n",
    "    while count < maxK:\n",
    "        \n",
    "        eig_vals = np.linalg.eigvals(H(z0)) #finds eigenvalues \n",
    "        \n",
    "        if np.all(eig_vals >= 0): # checks if it is positive semi-definite (evals >= 0)\n",
    "        \n",
    "            dz = np.dot(np.linalg.pinv(H(z0)), -g(z0))\n",
    "            z1 = dz + z0 \n",
    "            dz_norm = np.linalg.norm(dz)  \n",
    "            if dz_norm < hw6.small:\n",
    "                break \n",
    "            \n",
    "        if not np.all(eig_vals >= 0): # if even one is negative, use lineSearch()\n",
    "            z1 = hw6.lineSearch(f, g, z0, delta=hw6.small)\n",
    "            if normalize:\n",
    "                if not np.all(z1 == 0):\n",
    "                    z1 /= np.linalg.norm(z1)\n",
    "            dz = z1 - z0 \n",
    "            dz_norm = np.linalg.norm(dz)\n",
    "            if dz_norm < hw6.small:\n",
    "                break\n",
    "         \n",
    "\n",
    "        if normalize:\n",
    "            if not np.all(z1 == 0):\n",
    "                z1 /= np.linalg.norm(z1)\n",
    "               \n",
    "        answer.append(z1)\n",
    "        z0 = z1\n",
    "        count += 1\n",
    "        \n",
    "    return answer\n"
   ]
  },
  {
   "cell_type": "code",
   "execution_count": 81,
   "metadata": {},
   "outputs": [
    {
     "name": "stdout",
     "output_type": "stream",
     "text": [
      "The minimum found by Newton's method is [1. 1.]\n",
      "Number of points in zNewton: 7\n"
     ]
    }
   ],
   "source": [
    "z0 = np.array([-1.2, 1])\n",
    "zNewton = Newton(hw6.Rosenbrock, hw6.RosenGrad, hw6.RosenHess, z0, maxK=1000, delta=hw6.small, normalize=False) # list of steps \n",
    "minNewton = zNewton[-1] # minimum found by Newton \n",
    "stepsNewton = len(zNewton) # number of steps taken in Newton \n",
    "#print(\"Values in zNewton\", zNewton)\n",
    "print(\"The minimum found by Newton's method is\", minNewton)\n",
    "print(\"Number of points in zNewton:\", stepsNewton)"
   ]
  },
  {
   "cell_type": "markdown",
   "metadata": {
    "tags": [
     "AST"
    ]
   },
   "source": [
    "### Problem 1.2"
   ]
  },
  {
   "cell_type": "markdown",
   "metadata": {
    "tags": [
     "AST"
    ]
   },
   "source": [
    "How does the number of iterations from `Newton` compare with that you found for steepest descent in homework 5 on the same optimization problem? You need not give exact numbers."
   ]
  },
  {
   "cell_type": "markdown",
   "metadata": {
    "tags": [
     "ST"
    ]
   },
   "source": [
    "### Answer"
   ]
  },
  {
   "cell_type": "markdown",
   "metadata": {},
   "source": [
    "There are orders of magnitude less steps in Newton's method. We take 6 steps in Newton's method to reach the global minimum (first value of zNewton is the starting point). Compare this to the 1000 steps we took in steepest descent using line search and we still did not find the minimum. Trying to use line search with steepest descent in the above function for a 1000 iterations only brings us to [0.91289501 0.83317358], which is still quite a ways from the minimum. Newton's method dramatically trumps steepest descent with line search. "
   ]
  },
  {
   "cell_type": "markdown",
   "metadata": {
    "tags": [
     "AST"
    ]
   },
   "source": [
    "## Part 2: The Geometry of Newton's Method"
   ]
  },
  {
   "cell_type": "markdown",
   "metadata": {
    "tags": [
     "AST"
    ]
   },
   "source": [
    "### Problem 2.1"
   ]
  },
  {
   "cell_type": "markdown",
   "metadata": {
    "tags": [
     "AST"
    ]
   },
   "source": [
    "Write a function with header\n",
    "\n",
    "    def ellipse(z0, z1, Hessian, color='red'):\n",
    "    \n",
    "that takes two consecutive points `z0` and `z1` on a Newton optimization path and a function `Hessian` that computes the Hessian of some function from $\\mathbb{R}^2$ to $\\mathbb{R}$ and returns the ellipse $E$ associated with that step.\n",
    "\n",
    "Show your code and display the ellipse for the first Newton step of your optimization in the previous part."
   ]
  },
  {
   "cell_type": "markdown",
   "metadata": {
    "tags": [
     "ST"
    ]
   },
   "source": [
    "### Answer"
   ]
  },
  {
   "cell_type": "code",
   "execution_count": 82,
   "metadata": {},
   "outputs": [],
   "source": [
    "import matplotlib\n",
    "import matplotlib.pyplot as plt\n",
    "%precision %g\n",
    "%config InlineBackend.figure_format = 'retina'\n",
    "matplotlib.rcParams['savefig.dpi'] = 120\n",
    "matplotlib.rcParams['figure.dpi'] = 120\n",
    "%matplotlib inline"
   ]
  },
  {
   "cell_type": "code",
   "execution_count": 83,
   "metadata": {},
   "outputs": [],
   "source": [
    "def ellipse(z0, z1, Hessian, color='red'):\n",
    "    '''\n",
    "    returns the components needed to describe an ellipse \n",
    "    -center of ellipse (tuple in x,y)\n",
    "    -angle between first axis and reference axis \n",
    "    -full lengths \n",
    "    '''\n",
    "    \n",
    "    # determine center \n",
    "    center = z1\n",
    "\n",
    "    # determine angle     \n",
    "    H0 = Hessian(z0)\n",
    "    evals, V = np.linalg.eigh(H0)\n",
    "    theta_rad = np.arctan2(V[1][0], V[0][0]) # in radians \n",
    "    theta = theta_rad * (180/np.pi)          # convert radians to degrees \n",
    "    \n",
    "    # determine width and height \n",
    "    dz = z1 - z0\n",
    "    dzH0 = np.dot(dz, H0)\n",
    "    a = np.dot(dzH0, dz)                     # scaling factor \n",
    "    D = np.diag(evals)                       # square matrix with eigenvalues of H0 on the diagonal \n",
    "    Linv = np.sqrt(D/a)\n",
    "    L = np.linalg.inv(np.sqrt(D / a))\n",
    "    width = 2*L[0][0]\n",
    "    height = 2*L[1][1]\n",
    "    \n",
    "    ellipse = matplotlib.patches.Ellipse(center, width, height, theta, edgecolor = color, facecolor = 'none')\n",
    "    \n",
    "    return ellipse\n"
   ]
  },
  {
   "cell_type": "code",
   "execution_count": 84,
   "metadata": {},
   "outputs": [],
   "source": [
    "z0 = zNewton[0]\n",
    "z1 = zNewton[1]\n",
    "x0, y0 = z0[0], z0[1]\n",
    "x1, y1 = z1[0], z1[1]"
   ]
  },
  {
   "cell_type": "code",
   "execution_count": 85,
   "metadata": {},
   "outputs": [
    {
     "name": "stderr",
     "output_type": "stream",
     "text": [
      "/anaconda3/lib/python3.6/site-packages/numpy/ma/core.py:6434: MaskedArrayFutureWarning: In the future the default for ma.minimum.reduce will be axis=0, not the current None, to match np.minimum.reduce. Explicitly pass 0 or None to silence this warning.\n",
      "  return self.reduce(a)\n",
      "/anaconda3/lib/python3.6/site-packages/numpy/ma/core.py:6434: MaskedArrayFutureWarning: In the future the default for ma.maximum.reduce will be axis=0, not the current None, to match np.maximum.reduce. Explicitly pass 0 or None to silence this warning.\n",
      "  return self.reduce(a)\n"
     ]
    },
    {
     "data": {
      "text/plain": [
       "<matplotlib.text.Text at 0x1a0b1f3320>"
      ]
     },
     "execution_count": 85,
     "metadata": {},
     "output_type": "execute_result"
    },
    {
     "data": {
      "image/png": "[encoded data removed]",
      "text/plain": [
       "<matplotlib.figure.Figure at 0x1a0b207b38>"
      ]
     },
     "metadata": {
      "image/png": {
       "height": 265,
       "width": 259
      }
     },
     "output_type": "display_data"
    }
   ],
   "source": [
    "fig, ax = hw6.RosenContours()\n",
    "ell = ellipse(z0, z1, hw6.RosenHess, color = 'red')\n",
    "ax.add_artist(ell)  \n",
    "plt.plot(x0, y0, 'ro')\n",
    "plt.plot(x1, y1, 'rx')\n",
    "plt.title(\"Newton steps\")"
   ]
  },
  {
   "cell_type": "markdown",
   "metadata": {
    "tags": [
     "AST"
    ]
   },
   "source": [
    "### Problem 2.2"
   ]
  },
  {
   "cell_type": "markdown",
   "metadata": {
    "tags": [
     "AST"
    ]
   },
   "source": [
    "Make a new plot that displays the ellipses for the first four steps of your Newton optimization path you found in the previous part of this assignment.\n",
    "\n",
    "Show your code and the resulting plot."
   ]
  },
  {
   "cell_type": "markdown",
   "metadata": {
    "tags": [
     "ST"
    ]
   },
   "source": [
    "### Answer"
   ]
  },
  {
   "cell_type": "code",
   "execution_count": 86,
   "metadata": {},
   "outputs": [],
   "source": [
    "# initial and first 4 steps \n",
    "z0 = zNewton[0] \n",
    "z1 = zNewton[1]\n",
    "z2 = zNewton[2]\n",
    "z3 = zNewton[3]\n",
    "z4 = zNewton[4]\n",
    "x0, y0 = z0[0], z0[1]\n",
    "x1, y1 = z1[0], z1[1]\n",
    "x2, y2 = z2[0], z2[1]\n",
    "x3, y3 = z3[0], z3[1]\n",
    "x4, y4 = z4[0], z4[1]"
   ]
  },
  {
   "cell_type": "code",
   "execution_count": 87,
   "metadata": {},
   "outputs": [
    {
     "name": "stderr",
     "output_type": "stream",
     "text": [
      "/anaconda3/lib/python3.6/site-packages/numpy/ma/core.py:6434: MaskedArrayFutureWarning: In the future the default for ma.minimum.reduce will be axis=0, not the current None, to match np.minimum.reduce. Explicitly pass 0 or None to silence this warning.\n",
      "  return self.reduce(a)\n",
      "/anaconda3/lib/python3.6/site-packages/numpy/ma/core.py:6434: MaskedArrayFutureWarning: In the future the default for ma.maximum.reduce will be axis=0, not the current None, to match np.maximum.reduce. Explicitly pass 0 or None to silence this warning.\n",
      "  return self.reduce(a)\n"
     ]
    },
    {
     "data": {
      "text/plain": [
       "<matplotlib.text.Text at 0x1a0c0767f0>"
      ]
     },
     "execution_count": 87,
     "metadata": {},
     "output_type": "execute_result"
    },
    {
     "data": {
      "image/png": "[encoded data removed]",
      "text/plain": [
       "<matplotlib.figure.Figure at 0x1a0bee2518>"
      ]
     },
     "metadata": {
      "image/png": {
       "height": 265,
       "width": 259
      }
     },
     "output_type": "display_data"
    }
   ],
   "source": [
    "fig, ax = hw6.RosenContours()\n",
    "ellipse1 = ellipse(z0, z1, hw6.RosenHess, color = 'red')\n",
    "ellipse2 = ellipse(z1, z2, hw6.RosenHess, color = 'green')\n",
    "ellipse3 = ellipse(z2, z3, hw6.RosenHess, color = 'blue')\n",
    "ellipse4 = ellipse(z3, z4, hw6.RosenHess, color = 'orange')\n",
    "ax.add_artist(ellipse1)  \n",
    "ax.add_artist(ellipse2)  \n",
    "ax.add_artist(ellipse3)  \n",
    "ax.add_artist(ellipse4)  \n",
    "plt.plot(x0, y0, 'r.')\n",
    "plt.plot(x1, y1, 'rx')\n",
    "plt.plot(x1, y1, 'g.')\n",
    "plt.plot(x2, y2, 'gx')\n",
    "plt.plot(x2, y2, 'b.')\n",
    "plt.plot(x3, y3, 'bx')\n",
    "plt.plot(x3, y3, '.', color = 'orange')\n",
    "plt.plot(x4, y4, 'x', color = 'orange')\n",
    "plt.title(\"Newton steps\")"
   ]
  },
  {
   "cell_type": "markdown",
   "metadata": {
    "tags": [
     "AST"
    ]
   },
   "source": [
    "## Part 3: Binary Linear Classifiers"
   ]
  },
  {
   "cell_type": "markdown",
   "metadata": {
    "tags": [
     "AST"
    ]
   },
   "source": [
    "### Problem 3.1"
   ]
  },
  {
   "cell_type": "markdown",
   "metadata": {
    "tags": [
     "AST"
    ]
   },
   "source": [
    "Define functions with headers\n",
    "\n",
    "    def lossXE(y, p):\n",
    "    def score(x, v):\n",
    "\n",
    "that implement the cross-entropy loss and score function for a logistic-regression classifier.\n",
    "\n",
    "Show your code, and a single diagram that shows the two plots of `lossXE(0, p)` and `lossXE(1, p)` for p between $10^{-3}$ and $1 - 10^{-3}$."
   ]
  },
  {
   "cell_type": "markdown",
   "metadata": {
    "tags": [
     "ST"
    ]
   },
   "source": [
    "### Answer"
   ]
  },
  {
   "cell_type": "code",
   "execution_count": 88,
   "metadata": {},
   "outputs": [],
   "source": [
    "T, S = hw6.makeData()"
   ]
  },
  {
   "cell_type": "code",
   "execution_count": 89,
   "metadata": {},
   "outputs": [],
   "source": [
    "def lossXE(y,p):\n",
    "    '''\n",
    "    computes the cross entropy loss \n",
    "    '''\n",
    "    loss = (-y*np.log(p)) - ((1-y)*np.log(1-p))\n",
    "    return loss"
   ]
  },
  {
   "cell_type": "code",
   "execution_count": 90,
   "metadata": {},
   "outputs": [],
   "source": [
    "def score(x,v):\n",
    "    '''\n",
    "    assigns a p value using the logistic function \n",
    "    '''\n",
    "    a = v[0] + np.dot(v[1:], x)\n",
    "    a = max(-10, min(10, a))\n",
    "    score = 1 / (1 + np.exp(-a))\n",
    "    return score"
   ]
  },
  {
   "cell_type": "code",
   "execution_count": 91,
   "metadata": {},
   "outputs": [],
   "source": [
    "p_range = np.linspace(10e-3, 1-10e-3, 100) # set up the range of p \n",
    "\n",
    "# initialize lists holding losses of y = 0 and y = 1\n",
    "loss_0 = []\n",
    "loss_1 = []\n",
    "\n",
    "for p in p_range:\n",
    "    \n",
    "    loss = lossXE(0, p)\n",
    "    loss_0.append(loss)\n",
    "    loss = lossXE(1, p)\n",
    "    loss_1.append(loss)\n"
   ]
  },
  {
   "cell_type": "code",
   "execution_count": 92,
   "metadata": {},
   "outputs": [
    {
     "data": {
      "text/plain": [
       "<matplotlib.legend.Legend at 0x1a0d191278>"
      ]
     },
     "execution_count": 92,
     "metadata": {},
     "output_type": "execute_result"
    },
    {
     "data": {
      "image/png": "[encoded data removed]",
      "text/plain": [
       "<matplotlib.figure.Figure at 0x1a0be3f6a0>"
      ]
     },
     "metadata": {
      "image/png": {
       "height": 265,
       "width": 367
      }
     },
     "output_type": "display_data"
    }
   ],
   "source": [
    "plt.plot(p_range, loss_0, label = 'loss_0')\n",
    "plt.plot(p_range, loss_1, label = 'loss_1')\n",
    "plt.title(\"Cross Entropy Loss\")\n",
    "plt.legend(loc = \"upper right\")"
   ]
  },
  {
   "cell_type": "markdown",
   "metadata": {
    "tags": [
     "AST"
    ]
   },
   "source": [
    "### Problem 3.2"
   ]
  },
  {
   "cell_type": "markdown",
   "metadata": {
    "tags": [
     "AST"
    ]
   },
   "source": [
    "Define functions with headers\n",
    "\n",
    "    def riskXE(v):\n",
    "    def riskXEGrad(v):\n",
    "    def riskXEHess(v):\n",
    "    \n",
    "that implement the cross-entropy risk on set `T` (loaded by `hw6.makeData()`), its gradient, and Hessian, following the formulas in the notes.\n",
    "\n",
    "Then run your own `Newton` to train the optimal parameter vector $\\mathbf{v}$ on `T`, starting with a vector $\\mathbf{v}_0$ of all zeros.\n",
    "\n",
    "Show your code and give the number of iterations to convergence."
   ]
  },
  {
   "cell_type": "markdown",
   "metadata": {
    "tags": [
     "ST"
    ]
   },
   "source": [
    "### Answer"
   ]
  },
  {
   "cell_type": "code",
   "execution_count": 93,
   "metadata": {},
   "outputs": [],
   "source": [
    "def riskXE(v):\n",
    "    '''\n",
    "    calculates risk of the cross entropy loss \n",
    "    '''\n",
    "    \n",
    "    risk = 0         # initialize risk to 0 \n",
    "    N = len(T['x'])  # number of training examples in T \n",
    "    x_data = T['x']  \n",
    "    y_data = T['y']\n",
    "    \n",
    "    for i in range(N):\n",
    "        p = score(x_data[i], v)\n",
    "        loss = lossXE(y_data[i], p)\n",
    "        risk += loss\n",
    "    risk = (1/N) * risk\n",
    "    \n",
    "    return risk"
   ]
  },
  {
   "cell_type": "code",
   "execution_count": 94,
   "metadata": {},
   "outputs": [],
   "source": [
    "def riskXEGrad(v):\n",
    "    '''\n",
    "    calculates the risk of the gradient of the cross entropy loss \n",
    "    '''\n",
    "    risk = 0         # initialize risk to 0 \n",
    "    N = len(T['x'])  # number of training examples in T \n",
    "    x_data = T['x']  \n",
    "    y_data = T['y']\n",
    "    \n",
    "    for i in range(N):\n",
    "        p = score(x_data[i], v)\n",
    "        constant = p - y_data[i]      # constant to multiply vector by \n",
    "        b = np.insert(x_data[i], 0, 1)\n",
    "        loss = constant*b\n",
    "        risk += loss\n",
    "        \n",
    "    risk = (1/N) * risk\n",
    "        \n",
    "    return risk "
   ]
  },
  {
   "cell_type": "code",
   "execution_count": 95,
   "metadata": {},
   "outputs": [],
   "source": [
    "def riskXEHess(v):\n",
    "    '''\n",
    "    calculates the risk of the Hessian of the cross entropy loss \n",
    "    '''\n",
    "    \n",
    "    risk = 0\n",
    "    N = len(T['x'])  # number of training examples in T \n",
    "    x_data = T['x']  \n",
    "    y_data = T['y']\n",
    "    \n",
    "    for i in range(N):\n",
    "        p = score(x_data[i], v)\n",
    "        constant = p * (1-p)           # constant to multiply matrix by \n",
    "        #a = np.array(x_data[i])\n",
    "        a = x_data[i]\n",
    "        b = np.insert(a, 0, 1)\n",
    "        d = np.reshape(b, (len(b), 1))\n",
    "        loss = constant * d * b\n",
    "        risk += loss\n",
    "        \n",
    "    risk = (1/N) * risk\n",
    "    \n",
    "    return risk"
   ]
  },
  {
   "cell_type": "code",
   "execution_count": 96,
   "metadata": {},
   "outputs": [],
   "source": [
    "# initialize \n",
    "m = len(T['x'][0]) + 1 # m = d + 1\n",
    "v0 = np.zeros(m)       # starting weights are all 0 "
   ]
  },
  {
   "cell_type": "code",
   "execution_count": 97,
   "metadata": {},
   "outputs": [
    {
     "name": "stdout",
     "output_type": "stream",
     "text": [
      "Length of zNewton: 31\n"
     ]
    }
   ],
   "source": [
    "zNewton = Newton(riskXE, riskXEGrad, riskXEHess, v0, maxK=30, delta=hw6.small, normalize=True)\n",
    "print(\"Length of zNewton:\", len(zNewton))"
   ]
  },
  {
   "cell_type": "markdown",
   "metadata": {
    "tags": [
     "AST"
    ]
   },
   "source": [
    "### Problem 3.3"
   ]
  },
  {
   "cell_type": "markdown",
   "metadata": {
    "tags": [
     "AST"
    ]
   },
   "source": [
    "Why do we normalize the value of $\\mathbf{v}$ at every iteration? Answer this question by explaining why the norm of $\\mathbf{v}$ is meaningless for this problem."
   ]
  },
  {
   "cell_type": "markdown",
   "metadata": {
    "tags": [
     "ST"
    ]
   },
   "source": [
    "### Answer"
   ]
  },
  {
   "cell_type": "markdown",
   "metadata": {},
   "source": [
    "We want to assign a label $y = 0$ or $y = 1$. The norm of $\\textbf{v}$ is meaningless because logistic-regression classification does not care about constants. If they were important, we would need to introduce a scaling factor $f$ and then find a way to determine this value. We're better off without it. "
   ]
  },
  {
   "cell_type": "markdown",
   "metadata": {
    "tags": [
     "AST"
    ]
   },
   "source": [
    "### Problem 3.4"
   ]
  },
  {
   "cell_type": "markdown",
   "metadata": {
    "tags": [
     "AST"
    ]
   },
   "source": [
    "Write functions with headers\n",
    "\n",
    "    def h(x, v):\n",
    "    def risk01(v, S):\n",
    "    \n",
    "that implement the logistic-regression classifier $h$ with parameter $\\mathbf{v}$ and the zero-one risk on set $S$.\n",
    "\n",
    "Show your code and the values of _zero-one_ training and test risk for the optimal parameter vector $\\mathbf{v}^{\\ast}$ you found in the previous problem. Express these risks as _percentage_ values."
   ]
  },
  {
   "cell_type": "markdown",
   "metadata": {
    "tags": [
     "ST"
    ]
   },
   "source": [
    "### Answer"
   ]
  },
  {
   "cell_type": "code",
   "execution_count": 98,
   "metadata": {},
   "outputs": [],
   "source": [
    "def h(x, v): \n",
    "    '''\n",
    "    \n",
    "    '''\n",
    "    a = v[0] + np.dot(v[1:], x)\n",
    "    a = max(-10, min(10, a))\n",
    "    score = 1 / (1 + np.exp(-a))\n",
    "    \n",
    "    return score"
   ]
  },
  {
   "cell_type": "code",
   "execution_count": 99,
   "metadata": {},
   "outputs": [],
   "source": [
    "def risk01(v, S):\n",
    "    '''\n",
    "    \n",
    "    '''\n",
    "    risk = 0 \n",
    "    x_data = S['x']\n",
    "    y_data = S['y']\n",
    "    N = len(S['x'])\n",
    "    \n",
    "    for i in range(N):\n",
    "        p = h(x_data[i], v_star)\n",
    "        loss = -y_data[i]*np.log(p) - (1 - y_data[i])*np.log(1-p)\n",
    "        risk += loss \n",
    "        \n",
    "    answer = (1/N) * risk \n",
    "    \n",
    "    return answer "
   ]
  },
  {
   "cell_type": "code",
   "execution_count": 100,
   "metadata": {},
   "outputs": [],
   "source": [
    "v_star = zNewton[-1]               # most optimal found above\n",
    "test_risk = risk01(v_star, S)      # test set risk \n",
    "training_risk = riskXE(v_star)     # training set risk "
   ]
  },
  {
   "cell_type": "code",
   "execution_count": 101,
   "metadata": {},
   "outputs": [
    {
     "name": "stdout",
     "output_type": "stream",
     "text": [
      "Training risk: 0.38022897757800966\n",
      "Test risk 0.3949603662545597\n",
      "Percentage training to test risk: 96.27016026538335 %\n"
     ]
    }
   ],
   "source": [
    "print(\"Training risk:\", training_risk)\n",
    "print(\"Test risk\", test_risk)\n",
    "print(\"Percentage training to test risk:\", 100 * training_risk / test_risk, \"%\")"
   ]
  },
  {
   "cell_type": "markdown",
   "metadata": {},
   "source": [
    "The training risk and test risk value are similar; the closer the training and tests risks are to each other, the closer to 100 the percentage will be. From this, I can confidently that this set of parameters will do well on unseen data. "
   ]
  }
 ],
 "metadata": {
  "kernelspec": {
   "display_name": "Python 3",
   "language": "python",
   "name": "python3"
  },
  "language_info": {
   "codemirror_mode": {
    "name": "ipython",
    "version": 3
   },
   "file_extension": ".py",
   "mimetype": "text/x-python",
   "name": "python",
   "nbconvert_exporter": "python",
   "pygments_lexer": "ipython3",
   "version": "3.6.3"
  }
 },
 "nbformat": 4,
 "nbformat_minor": 2
}
