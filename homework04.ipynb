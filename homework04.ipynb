{
 "cells": [
  {
   "cell_type": "markdown",
   "metadata": {
    "tags": [
     "T"
    ]
   },
   "source": [
    "> **Student Names and IDs**:\n",
    ">\n",
    "> - Newton Kwan, nk150 "
   ]
  },
  {
   "cell_type": "markdown",
   "metadata": {
    "tags": [
     "AST"
    ]
   },
   "source": [
    "# Homework 4"
   ]
  },
  {
   "cell_type": "markdown",
   "metadata": {
    "tags": [
     "AST"
    ]
   },
   "source": [
    "## Part 1: Nearest Neighbors"
   ]
  },
  {
   "cell_type": "code",
   "execution_count": 1,
   "metadata": {
    "tags": [
     "AST"
    ]
   },
   "outputs": [],
   "source": [
    "import numpy as np\n",
    "from sklearn import neighbors\n",
    "\n",
    "def risk(k, T, S):\n",
    "    h = neighbors.KNeighborsClassifier(k) # Classifier implementing the k-nearest neighbors vote\n",
    "    h.fit(T['x'], T['y']) # Fit the model using X as training data and y as target values\n",
    "    y = h.predict(S['x']) # Predict the class labels for the provided data\n",
    "    return 1 - np.sum(S['y'] == y) / len(S['y'])"
   ]
  },
  {
   "cell_type": "markdown",
   "metadata": {
    "tags": [
     "AST"
    ]
   },
   "source": [
    "### Problem 1.1"
   ]
  },
  {
   "cell_type": "markdown",
   "metadata": {
    "tags": [
     "AST"
    ]
   },
   "source": [
    "What loss does the `risk` function above use?"
   ]
  },
  {
   "cell_type": "markdown",
   "metadata": {
    "tags": [
     "ST"
    ]
   },
   "source": [
    "### Answer"
   ]
  },
  {
   "cell_type": "markdown",
   "metadata": {},
   "source": [
    "The loss the risk function uses is the percentage of incorrect predictions. Incorrect predictions increase the risk while correct predictions decrease the risk for [0,1]. If the predictor predicts every item in $S$ correctly, the risk function will return 0. Conversely, if the predictor predicts every item in $S$ incorrectly, the risk function will return 1. Concretely, if there are 10 items in $S$, the predictor predicts 4 of them correctly, and 6 of them incorrectly, the risk function will return 0.6 -- the number of incorrect predictions. "
   ]
  },
  {
   "cell_type": "markdown",
   "metadata": {
    "tags": [
     "AST"
    ]
   },
   "source": [
    "### Problem 1.2"
   ]
  },
  {
   "cell_type": "markdown",
   "metadata": {
    "tags": [
     "AST"
    ]
   },
   "source": [
    "What is the value of\n",
    "\n",
    "    risk(1, T, T)\n",
    "    \n",
    "regardless of what training set $T$ is used, assuming that all data points $\\mathbf{x}$ in $T$ are distinct? Justify your answer with brief and clear text that involves this last assumption."
   ]
  },
  {
   "cell_type": "markdown",
   "metadata": {
    "tags": [
     "ST"
    ]
   },
   "source": [
    "### Answer"
   ]
  },
  {
   "cell_type": "markdown",
   "metadata": {},
   "source": [
    "    risk(1, T, T) = 0\n",
    "\n",
    "In this case, training set = testing set. If we train a predictor with training set $\\textit{T}$ and then use that predictor to find the 1-nearest neighbor in our testing set (which equal to our training set $\\textit{T}$), the predictor will look for the 1-nearest neighbor (which will always be the exact point used to train the predictor) and classify the testing set with 100% accuracy and return a risk of 0. "
   ]
  },
  {
   "cell_type": "markdown",
   "metadata": {
    "tags": [
     "AST"
    ]
   },
   "source": [
    "### Problem 1.3"
   ]
  },
  {
   "cell_type": "markdown",
   "metadata": {
    "tags": [
     "AST"
    ]
   },
   "source": [
    "Would your answer to problem 1.2 change for the call\n",
    "\n",
    "    risk(k, T, T)\n",
    "    \n",
    "with $k > 1$? Explain briefly and clearly."
   ]
  },
  {
   "cell_type": "markdown",
   "metadata": {
    "tags": [
     "ST"
    ]
   },
   "source": [
    "### Answer"
   ]
  },
  {
   "cell_type": "markdown",
   "metadata": {},
   "source": [
    "It is possible that the risk would not be 0 when $k >1$ because it is possible for a majority of the points nearest the the point in question to be labelled in the other classifier. A clear example may be when k = n, where n is the number of training examples. If our classifier has predictions squares and circles, where there were many more squares than circles in the training data, say 80 squares to 20 circles, the $k$ nearest neighbors when $k = n$ would return whichever label there was more of in the training set. "
   ]
  },
  {
   "cell_type": "markdown",
   "metadata": {
    "tags": [
     "AST"
    ]
   },
   "source": [
    "### Problem 1.4"
   ]
  },
  {
   "cell_type": "markdown",
   "metadata": {
    "tags": [
     "AST"
    ]
   },
   "source": [
    "Let us now remove the assumption that all data points $\\mathbf{x}$ in $T$ are distinct. Describe briefly and clearly what would have to happen for the value of\n",
    "\n",
    "    risk(1, T, T)\n",
    "    \n",
    "to have a different value from what you gave in your answer to problem 1.2."
   ]
  },
  {
   "cell_type": "markdown",
   "metadata": {
    "tags": [
     "ST"
    ]
   },
   "source": [
    "### Answer"
   ]
  },
  {
   "cell_type": "markdown",
   "metadata": {},
   "source": [
    "Removing the assumption that all of the data points $\\mathbf{x}$ in $\\textit{T}$ are distinct, one way that we could get a different value from \n",
    "\n",
    "      risk(1, T, T)\n",
    "      \n",
    "is if the training data contained at least two $\\mathbf{x}$'s that mapped to different outcomes. For example, if the training data you received had (5,4) mapping to $y$ = 'square' and somewhere else in the data had (5,4) mapping to $y$ = 'circle', then your classifier would pick whichever $y$ value it found first or randomly, depending on how the code was written. "
   ]
  },
  {
   "cell_type": "markdown",
   "metadata": {
    "tags": [
     "AST"
    ]
   },
   "source": [
    "### Data"
   ]
  },
  {
   "cell_type": "code",
   "execution_count": 2,
   "metadata": {
    "tags": [
     "AST"
    ]
   },
   "outputs": [
    {
     "data": {
      "image/png": "[encoded data removed]",
      "text/plain": [
       "<matplotlib.figure.Figure at 0x1092a28d0>"
      ]
     },
     "metadata": {},
     "output_type": "display_data"
    }
   ],
   "source": [
    "%matplotlib inline\n",
    "\n",
    "from sklearn import datasets\n",
    "import matplotlib.pyplot as plt\n",
    "digits = datasets.load_digits()\n",
    "images_and_labels = list(zip(digits.images, digits.target))\n",
    "for index, (image, label) in enumerate(images_and_labels[:4]):\n",
    "    plt.subplot(2, 4, index + 1)\n",
    "    plt.axis('off')\n",
    "    plt.imshow(image, cmap=plt.cm.gray_r, interpolation='nearest')\n",
    "    plt.title('Training: %i' % label)\n",
    "plt.show()\n",
    "data = {'x': digits.images.reshape((len(digits.images), -1)), 'y': digits.target}"
   ]
  },
  {
   "cell_type": "markdown",
   "metadata": {
    "tags": [
     "AST"
    ]
   },
   "source": [
    "### Some Useful Code"
   ]
  },
  {
   "cell_type": "code",
   "execution_count": 3,
   "metadata": {
    "tags": [
     "AST"
    ]
   },
   "outputs": [],
   "source": [
    "from math import floor\n",
    "def progress(p=0):\n",
    "    try:\n",
    "        progress.initialized = progress.initialized\n",
    "    except AttributeError:\n",
    "        progress.initialized = True\n",
    "        progress.count, progress.last, progress.decade = 0, 0, 0\n",
    "    if  p > 0:\n",
    "        progress.count, progress.last, progress.decade = 0, p, 0\n",
    "    else:\n",
    "        progress.count += 1\n",
    "        decade = floor(10 * progress.count / progress.last)\n",
    "        if decade > progress.decade:\n",
    "            progress.decade = decade\n",
    "            print(10 * decade, '%', sep='', end=' ')\n",
    "            if decade == 10:\n",
    "                print()"
   ]
  },
  {
   "cell_type": "code",
   "execution_count": 4,
   "metadata": {
    "tags": [
     "AST"
    ]
   },
   "outputs": [],
   "source": [
    "def showRisk(kValues, mean, std):\n",
    "    plt.figure()\n",
    "    ax = plt.axes([0, 0, 1, 1])\n",
    "    plt.errorbar(kValues, mean, yerr=std, fmt='-o', lw=2,\n",
    "                 capsize=5, ecolor='orange')\n",
    "    ax.set_xticks(kValues)\n",
    "    plt.xlabel('k')\n",
    "    plt.ylabel('Risk (Percent)')\n",
    "    plt.show()"
   ]
  },
  {
   "cell_type": "markdown",
   "metadata": {
    "tags": [
     "AST"
    ]
   },
   "source": [
    "### Problem 1.5"
   ]
  },
  {
   "cell_type": "markdown",
   "metadata": {
    "tags": [
     "AST"
    ]
   },
   "source": [
    "Write code that repeats the following computation $30$ times: Split the `data` into a training set `T` that contains about 3/4 of the `data`, _selected at random_, and a test set `S` that contains the remaining `data`. For each split, compute the\n",
    "\n",
    "    risk(k, T, S)\n",
    "    \n",
    "for all odd values of $k$ between $1$ and $21$ inclusive (we consider odd values only so we never have ties). Plot the risk values with error bars. The half-length of the bar for value $k$ is the standard deviation of the risk values over the 30 trials for that value of $k$.\n",
    "\n",
    "Show your code and the resulting plot, with axes appropriately labeled (`showRisk` does this for you), and report the mean risk for $k=1$, as a percentage (not a fraction) and with two decimal digits after the period."
   ]
  },
  {
   "cell_type": "markdown",
   "metadata": {
    "tags": [
     "ST"
    ]
   },
   "source": [
    "### Answer"
   ]
  },
  {
   "cell_type": "code",
   "execution_count": 5,
   "metadata": {},
   "outputs": [],
   "source": [
    "# initialize a dictionary to hold a list of risks for each odd k value from 1-21 \n",
    "risks = {} \n",
    "for k in range(1,22, 2):\n",
    "    risks[str(k)] = []\n",
    "    \n",
    "data_length = len(data['x'])                      # 1797 total data points \n",
    "\n",
    "# perform the computation 30 times \n",
    "for i in range(0, 30):\n",
    "    \n",
    "    # zip the data and randomly shuffle it \n",
    "    zip_data = list(zip(data['x'], data['y']))\n",
    "    np.random.shuffle(zip_data)\n",
    "    \n",
    "    # intialize training and test set dictionaries \n",
    "    T = {}\n",
    "    T['x'] = []\n",
    "    T['y'] = []\n",
    "    S = {}\n",
    "    S['x'] = []\n",
    "    S['y'] = []\n",
    "    \n",
    "    for i in range(0, 1347):                      # data points from 1 - 1346 (roughly 3/4 of data)\n",
    "        T['x'].append(zip_data[i][0])\n",
    "        T['y'].append(zip_data[i][1]) \n",
    "    for i in range(1347, data_length):            # data points from 1347 - 1797 (roughly 1/4 of data)\n",
    "        S['x'].append(zip_data[i][0])\n",
    "        S['y'].append(zip_data[i][1])\n",
    "    \n",
    "    r = []                                        # initialize risk list for the ith iteration \n",
    "    for k in range(1,22, 2):\n",
    "        risk_iter = risk(k, T, S)                 # calculate risk for k for ith iteration \n",
    "        r.append(risk_iter)                       # append the risk to the r list for current ith iteration \n",
    "        risks[str(k)].append(risk_iter)           # append risk to the appropriate list in the risks dictionary \n"
   ]
  },
  {
   "cell_type": "code",
   "execution_count": 6,
   "metadata": {},
   "outputs": [],
   "source": [
    "# Calculate means and standard deviations \n",
    "k_values = range(1, 22, 2)    # k values from 1 to 21 \n",
    "std = []                      # initialize standard deviation list \n",
    "m = []                        # initialize means list \n",
    "for i in k_values:\n",
    "    sd = np.std(risks[str(i)])\n",
    "    mean = np.mean(risks[str(i)])\n",
    "    std.append(sd)\n",
    "    m.append(mean)"
   ]
  },
  {
   "cell_type": "code",
   "execution_count": 7,
   "metadata": {},
   "outputs": [
    {
     "data": {
      "image/png": "[encoded data removed]",
      "text/plain": [
       "<matplotlib.figure.Figure at 0x1095f8eb8>"
      ]
     },
     "metadata": {},
     "output_type": "display_data"
    }
   ],
   "source": [
    "showRisk(k_values, m, std)"
   ]
  },
  {
   "cell_type": "code",
   "execution_count": 8,
   "metadata": {},
   "outputs": [
    {
     "name": "stdout",
     "output_type": "stream",
     "text": [
      "The mean risk for k = 1 is 1.230%\n"
     ]
    }
   ],
   "source": [
    "print(\"The mean risk for k = 1 is {:.3}0%\".format(m[0]*100))"
   ]
  },
  {
   "cell_type": "markdown",
   "metadata": {
    "tags": [
     "AST"
    ]
   },
   "source": [
    "### Problem 1.6"
   ]
  },
  {
   "cell_type": "markdown",
   "metadata": {
    "tags": [
     "AST"
    ]
   },
   "source": [
    "Is a $1$-NN classifier likely to do better when most margins are positive or negative? Justify your answer briefly and clearly."
   ]
  },
  {
   "cell_type": "markdown",
   "metadata": {
    "tags": [
     "ST"
    ]
   },
   "source": [
    "### Answer"
   ]
  },
  {
   "cell_type": "markdown",
   "metadata": {},
   "source": [
    "A 1-NN classifier is likely to do better when most margins are positive because a positive margin means that there is a distinct point $\\mathbf{x}$ with the same label that is closer to the point in question than a distinct point $\\mathbf{x}$ with a different label. If most margins are positive, most of the points with the same labels will be closer together and there is likely clustering with nice structure that is more likely to predict more accurately for future data. "
   ]
  },
  {
   "cell_type": "markdown",
   "metadata": {
    "tags": [
     "AST"
    ]
   },
   "source": [
    "### Problem 1.7"
   ]
  },
  {
   "cell_type": "markdown",
   "metadata": {
    "tags": [
     "AST"
    ]
   },
   "source": [
    "Write code to compute a 100-bin histogram of the margin $\\mu(\\mathbf{x})$ of the data in `data`. Show your code and the resulting plot. Your histogram should have properly labeled axes. The values in the histogram should add up to the number of data points, not to $1$. Also report the percentage (not fraction) of points with a negative margin. Display three decimal digits after the period."
   ]
  },
  {
   "cell_type": "markdown",
   "metadata": {
    "tags": [
     "ST"
    ]
   },
   "source": [
    "### Answer"
   ]
  },
  {
   "cell_type": "code",
   "execution_count": 9,
   "metadata": {},
   "outputs": [],
   "source": [
    "import math\n",
    "from scipy.spatial import distance"
   ]
  },
  {
   "cell_type": "code",
   "execution_count": 10,
   "metadata": {},
   "outputs": [],
   "source": [
    "margin = [] # initialize margin list \n",
    "\n",
    "progress(len(data['x']))\n",
    "# loop over all data points in data \n",
    "for i in range(0, len(data['x'])):\n",
    "    progress(len(data['x']))\n",
    "    d_d = math.inf                # initialize the distance to different to infinity \n",
    "    d_s = math.inf                # initialize the distance to same to infinity \n",
    "    for j in range(0, len(data['x'])):\n",
    "        if i != j: \n",
    "            eucl_dist = distance.euclidean(data['x'][i], data['x'][j]) # compute the euclidean distance between data point i and j \n",
    "            if data['y'][i] != data['y'][j] and eucl_dist < d_d:       # different y values \n",
    "                d_d = eucl_dist \n",
    "            if data['y'][i] == data['y'][j] and eucl_dist < d_s:       # same y values and closer to each other \n",
    "                d_s = eucl_dist \n",
    "    mu = d_d - d_s \n",
    "    margin.append(mu)"
   ]
  },
  {
   "cell_type": "code",
   "execution_count": 11,
   "metadata": {},
   "outputs": [
    {
     "data": {
      "text/plain": [
       "<matplotlib.text.Text at 0x1096bd048>"
      ]
     },
     "execution_count": 11,
     "metadata": {},
     "output_type": "execute_result"
    },
    {
     "data": {
      "image/png": "[encoded data removed]",
      "text/plain": [
       "<matplotlib.figure.Figure at 0x109663a58>"
      ]
     },
     "metadata": {},
     "output_type": "display_data"
    }
   ],
   "source": [
    "m_min = min(margin) # find the minimum of the margin \n",
    "m_max = max(margin) # find the maximum of the margin \n",
    "x_axis = np.linspace(m_min, m_max, 100) # split the maximum margin - minimum margin into 100 bins \n",
    "\n",
    "plt.hist(margin, bins=100)\n",
    "#print(sum(hist[0]))\n",
    "plt.xlabel(\"margin\")\n",
    "plt.ylabel(\"number of data points\")\n",
    "plt.title(\"Histogram of margins\")"
   ]
  },
  {
   "cell_type": "code",
   "execution_count": 12,
   "metadata": {},
   "outputs": [],
   "source": [
    "negatives = 0 \n",
    "for i in range(0, len(margin)):\n",
    "    if margin[i] < 0:\n",
    "        negatives += 1"
   ]
  },
  {
   "cell_type": "code",
   "execution_count": 13,
   "metadata": {},
   "outputs": [
    {
     "name": "stdout",
     "output_type": "stream",
     "text": [
      "The percentage of points with a negative margin is 1.169%\n"
     ]
    }
   ],
   "source": [
    "neg_margin_pct = (negatives / len(margin))*100\n",
    "print(\"The percentage of points with a negative margin is {:.4}%\".format(neg_margin_pct))"
   ]
  },
  {
   "cell_type": "markdown",
   "metadata": {
    "tags": [
     "AST"
    ]
   },
   "source": [
    "## Part 2: Differentiation"
   ]
  },
  {
   "cell_type": "code",
   "execution_count": 14,
   "metadata": {
    "tags": [
     "AST"
    ]
   },
   "outputs": [
    {
     "name": "stderr",
     "output_type": "stream",
     "text": [
      "/anaconda3/lib/python3.6/site-packages/numpy/ma/core.py:6434: MaskedArrayFutureWarning: In the future the default for ma.minimum.reduce will be axis=0, not the current None, to match np.minimum.reduce. Explicitly pass 0 or None to silence this warning.\n",
      "  return self.reduce(a)\n",
      "/anaconda3/lib/python3.6/site-packages/numpy/ma/core.py:6434: MaskedArrayFutureWarning: In the future the default for ma.maximum.reduce will be axis=0, not the current None, to match np.maximum.reduce. Explicitly pass 0 or None to silence this warning.\n",
      "  return self.reduce(a)\n"
     ]
    },
    {
     "data": {
      "image/png": "[encoded data removed]",
      "text/plain": [
       "<matplotlib.figure.Figure at 0x10c654ef0>"
      ]
     },
     "metadata": {},
     "output_type": "display_data"
    },
    {
     "name": "stdout",
     "output_type": "stream",
     "text": [
      "(100, 100, 2)\n"
     ]
    }
   ],
   "source": [
    "import numpy as np\n",
    "import matplotlib.pyplot as plt\n",
    "\n",
    "def showContours(X, Y):\n",
    "    fig, ax = plt.subplots()\n",
    "    cs = ax.contour(X[:, :, 0], X[:, :, 1], Y, 12)\n",
    "    ax.clabel(cs, inline=1, fontsize=10)\n",
    "    plt.xlabel('x1')\n",
    "    plt.ylabel('x2')\n",
    "    plt.axis('image')\n",
    "    plt.show()\n",
    "\n",
    "n, mn, mx = 100, -2, 4\n",
    "x = np.linspace(mn, mx, n)\n",
    "X = np.dstack(np.meshgrid(x, x))\n",
    "\n",
    "def inner(x, y):\n",
    "    return x[:, :, 0] ** 2 + y[:, :, 1] ** 2\n",
    "\n",
    "c, scale = [2, 1], 10\n",
    "\n",
    "def f(x):\n",
    "    d = np.zeros(x.shape)\n",
    "    for i in range(2):\n",
    "        d[:, :, i] = x[:, :, i] - c[i]\n",
    "    y = inner(x, x) / scale + np.exp(-inner(d, d))\n",
    "    return y\n",
    "\n",
    "Y = f(X)\n",
    "showContours(X, Y)\n",
    "print(X.shape)"
   ]
  },
  {
   "cell_type": "markdown",
   "metadata": {
    "tags": [
     "AST"
    ]
   },
   "source": [
    "### Problem 2.1"
   ]
  },
  {
   "cell_type": "markdown",
   "metadata": {
    "tags": [
     "AST"
    ]
   },
   "source": [
    "Write mathematical formulas for the gradient $\\nabla f(\\mathbf{x})$ and the Hessian $H_f(\\mathbf{x})$ of $f$. If you are not sure of your result, show your calculations."
   ]
  },
  {
   "cell_type": "markdown",
   "metadata": {
    "tags": [
     "ST"
    ]
   },
   "source": [
    "### Answer"
   ]
  },
  {
   "cell_type": "markdown",
   "metadata": {},
   "source": [
    "##### Writing out the function explicitly\n",
    "\n",
    "$$f(\\mathbf{x}) = \\frac{x_{1}^{2} + x_{2}^{2}}{10} + e^{-(\\mathbf{x}-\\mathbf{c})^{T}(\\mathbf{x} - \\mathbf{c})} = \n",
    "\\frac{x_{1}^{2} + x_{2}^{2}}{10} + e^{-[(x_1 - 2)^{2} + (x_2-1)^{2}]}\n",
    "$$\n",
    "\n",
    "##### Gradient \n",
    "$$\n",
    "\\nabla f(\\mathbf{x})=\n",
    "\\left[\\begin{array}{c}\n",
    "\\frac{\\partial f}{\\partial x_1}\\\\\n",
    "\\vdots\\\\\n",
    "\\frac{\\partial f}{\\partial x_n}\\\\\n",
    "\\end{array}\\right]\n",
    "$$\n",
    "\n",
    "where $f(\\mathbf{x})$ is n dimensions and the gradient of $f(\\mathbf{x})$ is an n-dimensional vector\n",
    "\n",
    "$$\n",
    "\\nabla f(\\mathbf{x})=\n",
    "\\left[\\begin{array}{c}\n",
    "\\frac{\\partial f}{\\partial x_1}\\\\\n",
    "\\frac{\\partial f}{\\partial x_2}\\\\\n",
    "\\end{array}\\right] =\n",
    "\\left[\\begin{array}{c}\n",
    "\\frac{x_1}{5} - 2(x_1 - 2)e^{-[(x_1 - 2)^{2} + (x_2-1)^{2}]}\\\\\n",
    "\\frac{x_2}{5} - 2(x_2 - 1)e^{-[(x_1 - 2)^{2} + (x_2-1)^{2}]}\\\\\n",
    "\\end{array}\\right]\n",
    "$$\n",
    "##### Hessian\n",
    "\n",
    "$$\n",
    "H(\\mathbf{x})=\n",
    "\\left[\\begin{array}{ccc}\n",
    "\\frac{\\partial^2 f}{\\partial x_{1}^2} & \\cdots & \\frac{\\partial^2 f}{\\partial x_{1} \\partial x_{m}}\\\\\n",
    "\\vdots & & \\vdots\\\\\n",
    "\\frac{\\partial^2 f}{\\partial x_{m} \\partial x_{1}} & \\cdots & \\frac{\\partial^2 f}{\\partial x_{m}^2}\\\\\n",
    "\\end{array}\\right]\n",
    "$$\n",
    "\n",
    "where $\\mathbf{z} \\in \\mathbb{R^{m}}$ "
   ]
  },
  {
   "cell_type": "markdown",
   "metadata": {},
   "source": [
    "$$\n",
    "H(\\mathbf{x})=\n",
    "\\left[\\begin{array}{ccc}\n",
    "\\frac{\\partial^2 f}{\\partial x_{1}^2} & \\frac{\\partial^2 f}{\\partial x_{1} \\partial x_{2}}\\\\\n",
    "\\frac{\\partial^2 f}{\\partial x_{2} \\partial x_{1}} & \\frac{\\partial^2 f}{\\partial x_{2}^2}\\\\\n",
    "\\end{array}\\right] = \n",
    "\\left[\\begin{array}{ccc}\n",
    "\\frac{1}{5} - 2e^{-[(x_{1}-2)^{2}+(x_{2}-1)^{2}]} (1 - 2(x_{1}-2)^{2}) & 4e^{-[(x_{1}-2)^{2}+(x_{2}-1)^{2}]}(x_{1}-2)(x_{2}-1)\\\\\n",
    "4e^{-[(x_{1}-2)^{2}+(x_{2}-1)^{2}]}(x_{1}-2)(x_{2}-1) & \\frac{1}{5} - 2e^{-[(x_{1}-2)^{2}+(x_{2}-1)^{2}]} (1 - 2(x_{2}-1)^{2}) \\\\\n",
    "\\end{array}\\right] \n",
    "$$"
   ]
  },
  {
   "cell_type": "markdown",
   "metadata": {
    "tags": [
     "AST"
    ]
   },
   "source": [
    "### Problem 2.2"
   ]
  },
  {
   "cell_type": "markdown",
   "metadata": {
    "tags": [
     "AST"
    ]
   },
   "source": [
    "Use your formulas to write code that draws a labeled contour plots of the norm of the gradient of $f$ on a grid of $100\\times 100$ equi-spaced samples in the square $-2 \\leq x_1, x_2 \\leq 4$. Show your code and the resulting plot."
   ]
  },
  {
   "cell_type": "markdown",
   "metadata": {
    "tags": [
     "ST"
    ]
   },
   "source": [
    "### Answer"
   ]
  },
  {
   "cell_type": "code",
   "execution_count": 15,
   "metadata": {},
   "outputs": [
    {
     "name": "stderr",
     "output_type": "stream",
     "text": [
      "/anaconda3/lib/python3.6/site-packages/numpy/ma/core.py:6434: MaskedArrayFutureWarning: In the future the default for ma.minimum.reduce will be axis=0, not the current None, to match np.minimum.reduce. Explicitly pass 0 or None to silence this warning.\n",
      "  return self.reduce(a)\n",
      "/anaconda3/lib/python3.6/site-packages/numpy/ma/core.py:6434: MaskedArrayFutureWarning: In the future the default for ma.maximum.reduce will be axis=0, not the current None, to match np.maximum.reduce. Explicitly pass 0 or None to silence this warning.\n",
      "  return self.reduce(a)\n"
     ]
    },
    {
     "data": {
      "image/png": "[encoded data removed]",
      "text/plain": [
       "<matplotlib.figure.Figure at 0x109580f60>"
      ]
     },
     "metadata": {},
     "output_type": "display_data"
    }
   ],
   "source": [
    "def grad_f(x):\n",
    "    d = np.zeros(x.shape)\n",
    "    for i in range(2):\n",
    "        d[:, :, i] = x[:, :, i] - c[i]\n",
    "    y_1 = x[:, :, 0] / 5 - 2*(x[:, :, 0] - c[0])* np.exp(-inner(d, d))\n",
    "    y_2 = x[:, :, 1] / 5 - 2*(x[:, :, 1] - c[1])* np.exp(-inner(d, d))\n",
    "    y = np.sqrt(np.square(y_1) + np.square(y_2))\n",
    "    return y\n",
    "\n",
    "Y = grad_f(X)\n",
    "showContours(X, Y)"
   ]
  },
  {
   "cell_type": "markdown",
   "metadata": {
    "tags": [
     "AST"
    ]
   },
   "source": [
    "### Problem 2.3"
   ]
  },
  {
   "cell_type": "markdown",
   "metadata": {
    "tags": [
     "AST"
    ]
   },
   "source": [
    "Use your formulas to write code that draws an image whose color depends on the signs of the eigenvalues of $H_f(\\mathbf{x})$ on a grid of $100\\times 100$ equi-spaced samples in the square $-2 \\leq x_1, x_2 \\leq 4$. Show your code and the resulting plot."
   ]
  },
  {
   "cell_type": "code",
   "execution_count": 16,
   "metadata": {
    "tags": [
     "AST"
    ]
   },
   "outputs": [],
   "source": [
    "def showLambdas(Lambda):\n",
    "    L0 = Lambda[:, :, 0] > 0\n",
    "    L1 = Lambda[:, :, 1] > 0\n",
    "    sign = 0.5 * np.ones(Lambda.shape[:2])\n",
    "    sign[L0 & L1] = 1\n",
    "    sign[(~L0) & (~L1)] = 0\n",
    "    \n",
    "    fig, ax = plt.subplots()\n",
    "    ax.imshow(sign, origin='lower')\n",
    "    plt.axis('off')\n",
    "    plt.show()\n",
    "    print('Mapping from colors to signs of the eigenvalues:')\n",
    "    print('Yellow: both positive; Green: mixed; Black: both negative')\n"
   ]
  },
  {
   "cell_type": "markdown",
   "metadata": {
    "tags": [
     "ST"
    ]
   },
   "source": [
    "### Answer"
   ]
  },
  {
   "cell_type": "code",
   "execution_count": 17,
   "metadata": {},
   "outputs": [],
   "source": [
    "def H(x):\n",
    "    '''\n",
    "    Returns the Hessian of x. This really returns a 2x2 matrix with each entry being a 100x100 matrix. We find the Hessian of each \n",
    "    (x1, x2) pair by creating a 2x2 matrix from real number elements and we find the eigenvalues of this Hessian. \n",
    "    '''\n",
    "    d = np.zeros(x.shape)\n",
    "    x1 = x[:,:,0]\n",
    "    x2 = x[:,:,1]\n",
    "    for i in range(2):\n",
    "        d[:, :, i] = x[:, :, i] - c[i]\n",
    "    y11 = (1/5) - 2*np.exp(-inner(d,d))*(1-2*(x1 -2)**2)\n",
    "    y12 = 4*np.exp(-inner(d,d))*(x1-2)*(x2-1)\n",
    "    y21 = 4*np.exp(-inner(d,d))*(x1-2)*(x2-1)\n",
    "    y22 = (1/5) - 2*np.exp(-inner(d,d))*(1-2*(x2 -1)**2)\n",
    "    \n",
    "    lmbda = np.zeros(x.shape)\n",
    "    for i in range(0, 100):\n",
    "        for j in range(0, 100):\n",
    "            h = np.array([[y11[i][j], y12[i][j]], [y21[i][j], y22[i][j]]])\n",
    "            ev = np.linalg.eigvals(h)\n",
    "            lmbda[i, j, :] = ev\n",
    "    return lmbda\n"
   ]
  },
  {
   "cell_type": "code",
   "execution_count": 18,
   "metadata": {},
   "outputs": [
    {
     "data": {
      "image/png": "[encoded data removed]",
      "text/plain": [
       "<matplotlib.figure.Figure at 0x109503e10>"
      ]
     },
     "metadata": {},
     "output_type": "display_data"
    },
    {
     "name": "stdout",
     "output_type": "stream",
     "text": [
      "Mapping from colors to signs of the eigenvalues:\n",
      "Yellow: both positive; Green: mixed; Black: both negative\n"
     ]
    }
   ],
   "source": [
    "lmbda = H(X)\n",
    "showLambdas(lmbda)"
   ]
  },
  {
   "cell_type": "markdown",
   "metadata": {
    "tags": [
     "AST"
    ]
   },
   "source": [
    "### Problem 2.4"
   ]
  },
  {
   "cell_type": "markdown",
   "metadata": {
    "tags": [
     "AST"
    ]
   },
   "source": [
    "How many stationary points, and of what types (maximum, minimum, saddle) does $f$ plausibly have in the region of the plot? Justify your answer."
   ]
  },
  {
   "cell_type": "markdown",
   "metadata": {
    "tags": [
     "ST"
    ]
   },
   "source": [
    "### Answer"
   ]
  },
  {
   "cell_type": "markdown",
   "metadata": {},
   "source": [
    "There are there stationary points: one maximum, one minimum, and one saddle. In the contour plot, notice that there is a minimum, maximum, and saddle point in the regions corresponding to the graph of the Hessian. Thus, it is plausible that $\\text{f}$ has these stationary points in the regions corresponding to the different colors and that there are three of them because there are three regions with distinct colors. "
   ]
  },
  {
   "cell_type": "code",
   "execution_count": null,
   "metadata": {},
   "outputs": [],
   "source": []
  }
 ],
 "metadata": {
  "kernelspec": {
   "display_name": "Python 3",
   "language": "python",
   "name": "python3"
  },
  "language_info": {
   "codemirror_mode": {
    "name": "ipython",
    "version": 3
   },
   "file_extension": ".py",
   "mimetype": "text/x-python",
   "name": "python",
   "nbconvert_exporter": "python",
   "pygments_lexer": "ipython3",
   "version": "3.6.3"
  }
 },
 "nbformat": 4,
 "nbformat_minor": 2
}
