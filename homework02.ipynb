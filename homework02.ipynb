{
 "cells": [
  {
   "cell_type": "markdown",
   "metadata": {
    "tags": [
     "names"
    ]
   },
   "source": [
    "> **Student Names and IDs**:\n",
    ">\n",
    "> Newton Kwan, nk150 "
   ]
  },
  {
   "cell_type": "markdown",
   "metadata": {
    "tags": [
     "header"
    ]
   },
   "source": [
    "# Homework 2"
   ]
  },
  {
   "cell_type": "markdown",
   "metadata": {
    "tags": [
     "header"
    ]
   },
   "source": [
    "## Part 1: Intuition in Many Dimensions"
   ]
  },
  {
   "cell_type": "markdown",
   "metadata": {
    "tags": [
     "question"
    ]
   },
   "source": [
    "### Problem 1.1\n",
    "\n",
    "What is the volume $c(d, a)$ of $C(d, a)$ and, in particular, what is $c(d, 1)$? No need to prove your answers."
   ]
  },
  {
   "cell_type": "markdown",
   "metadata": {},
   "source": [
    "### Solution 1.1\n",
    "\n",
    "$$ \\text{Volume of c(d,a)} = a^d$$\n",
    "$$ \\text{Volume of c(d,1)} = 1$$"
   ]
  },
  {
   "cell_type": "markdown",
   "metadata": {
    "tags": [
     "question"
    ]
   },
   "source": [
    "### Problem 1.2"
   ]
  },
  {
   "cell_type": "markdown",
   "metadata": {
    "tags": [
     "question"
    ]
   },
   "source": [
    "Give a simple formula for the volume $e(d, \\epsilon)$ of $E(d, \\epsilon)$ in terms of $d$ and $\\epsilon$."
   ]
  },
  {
   "cell_type": "markdown",
   "metadata": {},
   "source": [
    "### Solution 1.2\n",
    "\n",
    "For a unit cube C(d,1), \n",
    "\n",
    "$$e(d, \\epsilon) = 1 - (1-\\epsilon)^d$$"
   ]
  },
  {
   "cell_type": "markdown",
   "metadata": {
    "tags": [
     "question"
    ]
   },
   "source": [
    "### Problem 1.3\n",
    "\n",
    "Use the function `matplotlib.pyplot.loglog` to plot $e(d, 10^{-3})$ for $d$ between $1$ and $10^{6}$, and with logarithmic scaling on both axes. Label the axes. "
   ]
  },
  {
   "cell_type": "markdown",
   "metadata": {},
   "source": [
    "### Solution 1.3"
   ]
  },
  {
   "cell_type": "code",
   "execution_count": 16,
   "metadata": {},
   "outputs": [
    {
     "data": {
      "text/plain": [
       "<matplotlib.text.Text at 0x1131115c0>"
      ]
     },
     "execution_count": 16,
     "metadata": {},
     "output_type": "execute_result"
    },
    {
     "data": {
      "image/png": "[encoded data removed]",
      "text/plain": [
       "<matplotlib.figure.Figure at 0x10fe946d8>"
      ]
     },
     "metadata": {},
     "output_type": "display_data"
    }
   ],
   "source": [
    "%matplotlib inline\n",
    "\n",
    "import numpy as np\n",
    "import matplotlib.pyplot as plt\n",
    "\n",
    "d = np.linspace(1, 10**6, 20000)\n",
    "def skin_volume(epsilon, d):\n",
    "    return 1 - (1-epsilon)**d\n",
    "epsilon = 10**-3\n",
    "skin_volumes = []\n",
    "for i in d:\n",
    "    skin = skin_volume(epsilon, i)\n",
    "    skin_volumes.append(skin)\n",
    "    \n",
    "plt.loglog(d, skin_volumes)\n",
    "plt.xlabel(\"d\")\n",
    "plt.ylabel(\"skin volume\")\n"
   ]
  },
  {
   "cell_type": "markdown",
   "metadata": {
    "tags": [
     "question"
    ]
   },
   "source": [
    "### Problem 1.4\n",
    "\n",
    "Write a simple sentence that describes where most of the points in the unit cube are when the number $d$ of dimensions is large and $\\epsilon$ is small. What is the approximate numerical value of the fraction of points in the $\\epsilon$-skin of the unit cube when $d=2$ and $\\epsilon=10^{-3}$?\n",
    "\n"
   ]
  },
  {
   "cell_type": "code",
   "execution_count": 2,
   "metadata": {},
   "outputs": [
    {
     "name": "stdout",
     "output_type": "stream",
     "text": [
      "0.001998999999999973\n"
     ]
    }
   ],
   "source": [
    "d =  2\n",
    "epsilon = 10**-3\n",
    "skin = skin_volume(epsilon, d)\n",
    "print(skin)"
   ]
  },
  {
   "cell_type": "markdown",
   "metadata": {},
   "source": [
    "### Solution 1.4"
   ]
  },
  {
   "cell_type": "markdown",
   "metadata": {},
   "source": [
    "When the number $\\textit{d}$ of dimensions is large and $\\epsilon$ is small, most of the points in the unit cube are in the skin i.e. the volume of the skin is very close to 1\n",
    "<br> \n",
    "The approximate numerical value of the fraction of points in the e-skin of the unit cube when $d=2$ and $\\epsilon=10^{-3}$ is \n",
    "0.001998999999999973"
   ]
  },
  {
   "cell_type": "markdown",
   "metadata": {
    "tags": [
     "question"
    ]
   },
   "source": [
    "### Problem 1.5\n",
    "\n",
    "Write a formula for the ratio $r(d)$ between the volume of the unit sphere and that of the 2-cube. Simplify your formula if possible and show your calculations."
   ]
  },
  {
   "cell_type": "markdown",
   "metadata": {},
   "source": [
    "### Solution 1.5"
   ]
  },
  {
   "cell_type": "markdown",
   "metadata": {},
   "source": [
    "The volume of a $\\text{unit sphere} = \\frac{2\\pi^{d/2}}{d \\Gamma(d/2)}$ and the volume of a $\\text{2-cube} = 2^d$\n",
    "\n",
    "\n",
    "$$r(d) = \\frac{\\text{Vol of unit sphere}}{\\text{Vol of 2-cube}} = \\frac{\\frac{2\\pi^{d/2}}{d\\Gamma(d/2)}}{2^d} = \\frac{2^{1-d}\\pi^{d/2}}{d\\Gamma(d/2)} $$"
   ]
  },
  {
   "cell_type": "markdown",
   "metadata": {
    "tags": [
     "question"
    ]
   },
   "source": [
    "### Problem 1.6\n",
    "\n",
    "Plot $r(d)$ (as a regular plot, no logarithms) for every integer $d$ between 1 and 10. Since only integer values of $d$ make sense, draw dots connected by a solid line (that is, specify options `marker='.', markersize=12` for `matplotlib.pyplot.plot`)."
   ]
  },
  {
   "cell_type": "markdown",
   "metadata": {},
   "source": [
    "### Solution 1.6"
   ]
  },
  {
   "cell_type": "code",
   "execution_count": 3,
   "metadata": {},
   "outputs": [
    {
     "data": {
      "text/plain": [
       "<matplotlib.text.Text at 0x11133ad68>"
      ]
     },
     "execution_count": 3,
     "metadata": {},
     "output_type": "execute_result"
    },
    {
     "data": {
      "image/png": "[encoded data removed]",
      "text/plain": [
       "<matplotlib.figure.Figure at 0x10fe72c18>"
      ]
     },
     "metadata": {},
     "output_type": "display_data"
    }
   ],
   "source": [
    "from scipy import special\n",
    "\n",
    "# Plotting r(d) \n",
    "\n",
    "d = range(1, 11) # integers from 1 - 10 inclusive \n",
    "def ratio(d):\n",
    "    top = 2**(1-d) * np.pi**(d/2)\n",
    "    bottom = d*special.gamma(d/2)\n",
    "    return top / bottom\n",
    "\n",
    "ratios = []\n",
    "for i in d:\n",
    "    r = ratio(i)\n",
    "    ratios.append(r)\n",
    "\n",
    "plt.plot(d, ratios, marker='.', markersize=12, ls='-')\n",
    "plt.xlabel(\"d\")\n",
    "plt.ylabel(\"r(d)\")\n",
    "plt.title(\"r(d) vs. d\")\n"
   ]
  },
  {
   "cell_type": "markdown",
   "metadata": {
    "tags": [
     "question"
    ]
   },
   "source": [
    "### Problem 1.7\n",
    "\n",
    "Approximately what percentage of the volume of a cube is contained in the sphere inscribed the cube when $d=2$? And when $d=10$?"
   ]
  },
  {
   "cell_type": "markdown",
   "metadata": {},
   "source": [
    "### Solution 1.7 "
   ]
  },
  {
   "cell_type": "code",
   "execution_count": 4,
   "metadata": {},
   "outputs": [
    {
     "name": "stdout",
     "output_type": "stream",
     "text": [
      "The percentage of the volume of a cube contained in the sphere inscribed in the cube when d = 2 is 78.540 %\n",
      "The percentage of the volume of a cube contained in the sphere inscribed in the cube when d = 10 is 0.249 %\n"
     ]
    }
   ],
   "source": [
    "d2 = 2 \n",
    "d10 = 10\n",
    "\n",
    "ratio2 = ratio(d2)\n",
    "ratio10 = ratio(d10)\n",
    "\n",
    "print(\"The percentage of the volume of a cube contained in the sphere inscribed in the cube when d = 2 is {:.3f}\".format(ratio2*100),\"%\")\n",
    "print(\"The percentage of the volume of a cube contained in the sphere inscribed in the cube when d = 10 is {:.3f}\".format(ratio10*100),\"%\")"
   ]
  },
  {
   "cell_type": "markdown",
   "metadata": {
    "tags": [
     "header"
    ]
   },
   "source": [
    "## Part 2: Loss"
   ]
  },
  {
   "cell_type": "markdown",
   "metadata": {
    "tags": [
     "question"
    ]
   },
   "source": [
    "### Problem 2.1\n",
    "\n",
    "The output $y$ to a classifier $h$ is the activity performed by the single person visible in the image $\\mathbf{x}$. That person is playing tennis, and the possible activities are _serve_, _forehand_, _backhand_, _volley_, and _other_. The _other_ activity covers any shot that is not of the other types, and any other activity or lack thereof."
   ]
  },
  {
   "cell_type": "markdown",
   "metadata": {
    "tags": [
     "question"
    ]
   },
   "source": [
    "> a. If the signature of $h$ is $X\\rightarrow Y$, what are $X$ and $Y$, in terms of quantities given in the text for this part?\n",
    ">\n",
    "> b. Write the zero-one loss matrix for this classifier.\n",
    "\n",
    "Label your answers a and b."
   ]
  },
  {
   "cell_type": "markdown",
   "metadata": {
    "tags": [
     "template"
    ]
   },
   "source": [
    "To help you with math formatting, here is a small matrix with two rows and two columns:\n",
    "\n",
    "$$\n",
    "\\left[\\begin{array}{cc}\n",
    "11 & 12 \\\\\n",
    "21 & 22\n",
    "\\end{array}\\right]\n",
    "$$\n",
    "\n",
    "and here is the symbol for set of real numbers: $\\mathbb{R}$."
   ]
  },
  {
   "cell_type": "markdown",
   "metadata": {},
   "source": [
    "### Solution 2.1.a"
   ]
  },
  {
   "cell_type": "markdown",
   "metadata": {},
   "source": [
    "$\\textit{X}$ is the set of all images $\\textbf{x}$ in the training set. In this case, it is a set of black-and-white images with $307,200 = 480 \\times 640$ pixels arranged in $480$ rows and $640$ columns.\n",
    "\n",
    "$$\\textit{X} = \\{\\mathbf{x_1}, ..., \\mathbf{x_N}\\}$$\n",
    "\n",
    "where $N$ is the number of training examples\n",
    "\n",
    "$\\textit{Y}$ is the set of all activities performed by the single person visible in the image $\\textbf{x}$. In this case, it would be $$\\textit{Y} = \\{serve, forehand, backhand, volley, other\\}$$\n"
   ]
  },
  {
   "cell_type": "markdown",
   "metadata": {},
   "source": [
    "### Solution 2.1.b"
   ]
  },
  {
   "cell_type": "markdown",
   "metadata": {},
   "source": [
    "$$\n",
    "\\ell(y, y')=\n",
    "\\left[\\begin{array}{cc}\n",
    "0 & 1 & 1 & 1 & 1\\\\\n",
    "1 & 0 & 1 & 1 & 1\\\\\n",
    "1 & 1 & 0 & 1 & 1\\\\\n",
    "1 & 1 & 1 & 0 & 1\\\\\n",
    "1 & 1 & 1 & 1 & 0\\\\\n",
    "\\end{array}\\right]\n",
    "$$"
   ]
  },
  {
   "cell_type": "markdown",
   "metadata": {
    "tags": [
     "question"
    ]
   },
   "source": [
    "### Problem 2.2"
   ]
  },
  {
   "cell_type": "markdown",
   "metadata": {
    "tags": [
     "question"
    ]
   },
   "source": [
    "> a. Is $h$ a classifier or a regressor?\n",
    ">\n",
    "> b. If the signature of $h$ is $X\\rightarrow Y$, what are $X$ and $Y$, in terms of quantities given in the text for this part?\n",
    ">\n",
    "> c. Why can the loss function not be represented by a matrix for this problem?"
   ]
  },
  {
   "cell_type": "markdown",
   "metadata": {},
   "source": [
    "### Solution 2.2.a"
   ]
  },
  {
   "cell_type": "markdown",
   "metadata": {},
   "source": [
    "$\\textit{h}$ is a regressor "
   ]
  },
  {
   "cell_type": "markdown",
   "metadata": {},
   "source": [
    "### Solution 2.2.b"
   ]
  },
  {
   "cell_type": "markdown",
   "metadata": {},
   "source": [
    "$\\textit{X}$ is the set of all images $\\textbf{x}$ in the training set. In this case, it is a set of black-and-white images with $307,200 = 480 \\times 640$ pixels arranged in $480$ rows and $640$ columns.\n",
    "\n",
    "$$\\textit{X} = \\{\\mathbf{x_1}, ..., \\mathbf{x_N}\\}$$\n",
    "\n",
    "$\\textit{Y}$ is the set of vectors of 25 parameters that describe the tennis player's body configuration in the given image $\\textbf{x}$. In this case, it would be $$\\textit{Y} = \\{\\mathbf{y_1}, ..., \\mathbf{y_N}\\}$$\n",
    "\n",
    "where $N$ is the number of training examples in the training set"
   ]
  },
  {
   "cell_type": "markdown",
   "metadata": {},
   "source": [
    "### Solution 2.2.c"
   ]
  },
  {
   "cell_type": "markdown",
   "metadata": {},
   "source": [
    "We cannot represent the loss function as a matrix for this problem because $\\mathit{Y}$ is infinite and structured, therefore a $\\mathit{regression}$ problem. In this problem, the output of $\\mathit{h}$ is a real-valued vector, in contrast to problem 2.1, where the output is a single value (i.e. serve, forehand, backhand, etc.) whose ordering does not matter (categorical set). "
   ]
  },
  {
   "cell_type": "markdown",
   "metadata": {
    "tags": [
     "header"
    ]
   },
   "source": [
    "### Data"
   ]
  },
  {
   "cell_type": "code",
   "execution_count": 5,
   "metadata": {
    "tags": [
     "question"
    ]
   },
   "outputs": [],
   "source": [
    "import pickle\n",
    "\n",
    "with open('data.pickle', 'rb') as f:\n",
    "    data = pickle.load(f)"
   ]
  },
  {
   "cell_type": "markdown",
   "metadata": {
    "tags": [
     "question"
    ]
   },
   "source": [
    "### Problem 3.1\n",
    "\n",
    "Write a function `train` with two arguments. The first argument `T` is a training set represented like `data['T']` above. The second argument `k` is a nonnegative integer. The function `train` fits a univariate polynomial of degree `k` to the data in `T`.\n",
    "\n",
    "Show your code and the result of fitting a polynomial of degree 3 to `data['T']`. Specifically, show the coefficients of the polynomial in decreasing order of degree and with three decimals after the period, and then use the function `show` below (similar to that in homework 1, but using `numpy.polyval`) to plot both training set and polynomial."
   ]
  },
  {
   "cell_type": "markdown",
   "metadata": {},
   "source": [
    "### Solution 3.1 "
   ]
  },
  {
   "cell_type": "code",
   "execution_count": 6,
   "metadata": {},
   "outputs": [],
   "source": [
    "import numpy as np"
   ]
  },
  {
   "cell_type": "code",
   "execution_count": 7,
   "metadata": {},
   "outputs": [],
   "source": [
    "def train(T, k):\n",
    "    '''\n",
    "    This function fits a univariate polynomial of degree k \n",
    "    to the data in T\n",
    "    Input:\n",
    "    T, a dictionary with keys 'x' and 'y'\n",
    "    which correspond to x and y of our training set\n",
    "    k, a nonnegative integer\n",
    "    '''\n",
    "    coeffs = np.polyfit(x_data, y_data, k)\n",
    "    return coeffs\n"
   ]
  },
  {
   "cell_type": "code",
   "execution_count": 8,
   "metadata": {
    "tags": [
     "question"
    ]
   },
   "outputs": [],
   "source": [
    "%matplotlib inline\n",
    "\n",
    "import numpy as np\n",
    "import matplotlib.pyplot as plt\n",
    "\n",
    "def show(x, y, hList = []):\n",
    "    plt.plot(x, y, marker='.', markersize=12, ls='')\n",
    "    npt = 100\n",
    "    xrange = [min(x), max(x)]\n",
    "    xFine = np.linspace(xrange[0], xrange[1], npt)\n",
    "    for h in hList:\n",
    "        hxFine = np.polyval(h, xFine)\n",
    "        plt.plot(xFine, hxFine, label= 'degree ' + str(len(h)-1))\n",
    "\n",
    "    plt.xlabel('x')\n",
    "    plt.ylabel('y')\n",
    "    plt.legend()\n",
    "    plt.show()"
   ]
  },
  {
   "cell_type": "code",
   "execution_count": 9,
   "metadata": {},
   "outputs": [
    {
     "name": "stdout",
     "output_type": "stream",
     "text": [
      "c3 = 0.036\n",
      "c2 = -0.336\n",
      "c1 = 0.661\n",
      "c0 = 0.139\n"
     ]
    },
    {
     "data": {
      "image/png": "[encoded data removed]",
      "text/plain": [
       "<matplotlib.figure.Figure at 0x114410d30>"
      ]
     },
     "metadata": {},
     "output_type": "display_data"
    }
   ],
   "source": [
    "k = 3\n",
    "T = data['T']\n",
    "x_data = T['x']\n",
    "y_data = T['y']\n",
    "coeffs = train(T, k)\n",
    "c3 = coeffs[0]\n",
    "c2 = coeffs[1]\n",
    "c1 = coeffs[2]\n",
    "c0 = coeffs[3]\n",
    "print(\"c3 = {:.3f}\".format(c3))\n",
    "print(\"c2 = {:.3f}\".format(c2))\n",
    "print(\"c1 = {:.3f}\".format(c1))\n",
    "print(\"c0 = {:.3f}\".format(c0))\n",
    "show(x_data, y_data, [coeffs])"
   ]
  },
  {
   "cell_type": "markdown",
   "metadata": {
    "tags": [
     "question"
    ]
   },
   "source": [
    "### Problem 3.2\n",
    "\n",
    "Write a function `loss(y, yp)` that takes the true value `y` and the predicted value `yp` for a regression problem and returns the quadratic loss $\\ell(y, y') = (y - y')^2$. The arguments are `numpy` arrays of equal size, and the output is an array of the same size with all of the losses.\n",
    "\n",
    "Then write a function `L(h, T, l)` that takes a `numpy` vector `h` of polynomial coefficients, a training set `T` represented as a dictionary with entries `x` and `y` as shown earlier, and a loss function `l` of the same signature as `loss`, and computes the empirical risk of `h` on `T` with loss `l`:\n",
    "\n",
    "$$\n",
    "L_T(h) = \\frac{1}{N} \\sum_{n=1}^N \\ell(y_n, h(x_n))\n",
    "$$\n",
    "\n",
    "where $N$ is the number of samples in $T$.\n",
    "\n",
    "Show your code and the numerical value of the empirical risk for the fit in problem 3.1. Use three decimal digits after the period."
   ]
  },
  {
   "cell_type": "markdown",
   "metadata": {},
   "source": [
    "### Solution 3.2 "
   ]
  },
  {
   "cell_type": "code",
   "execution_count": 10,
   "metadata": {},
   "outputs": [],
   "source": [
    "def loss(y, yp):\n",
    "    '''\n",
    "    This functions returns an array of losses \n",
    "    Input: \n",
    "    y, an array of the true value \n",
    "    yp, an array of the predicted values \n",
    "    Output: \n",
    "    loss, an array of losses\n",
    "    '''\n",
    "    \n",
    "    loss = np.square(y - yp)\n",
    "    return loss"
   ]
  },
  {
   "cell_type": "code",
   "execution_count": 11,
   "metadata": {},
   "outputs": [],
   "source": [
    "def L(h, T, l):\n",
    "    '''\n",
    "    This computes the empirical risk of h on T with loss l \n",
    "    Inputs:\n",
    "    h, a numpy vector of polynomial coefficients\n",
    "    T, a dictionary representation of the training set with entries x and y \n",
    "    l, a loss function of the same signature as loss \n",
    "    Outputs: \n",
    "    risk, the empirical risk of h on T with loss l \n",
    "    '''\n",
    "    x_data = T['x']\n",
    "    y_data = T['y']\n",
    "    yp = np.polyval(h, x_data)\n",
    "    l = loss(y_data, yp)\n",
    "    risk = np.mean(l)\n",
    "    return risk\n"
   ]
  },
  {
   "cell_type": "code",
   "execution_count": 12,
   "metadata": {},
   "outputs": [
    {
     "name": "stdout",
     "output_type": "stream",
     "text": [
      "Empirical risk = 0.207\n"
     ]
    }
   ],
   "source": [
    "y = T['y']                   # true values y \n",
    "x = T['x']                   # true values x \n",
    "yp = np.polyval(coeffs, x)   # predicted values yp\n",
    "l = loss(y, yp)              # quadratic loss \n",
    "k = 3                        # polynomial degree \n",
    "T = data['T']                # training data \n",
    "h = train(T, k)              # polynomial coefficients\n",
    "risk = L(h, T, l)            # emperical risk \n",
    "print(\"Empirical risk = {:.3f}\".format(risk))"
   ]
  },
  {
   "cell_type": "markdown",
   "metadata": {
    "tags": [
     "question"
    ]
   },
   "source": [
    "### Problem 3.3\n",
    "\n",
    "Make a figure that superimposes two plots in the same diagram, each plot represented as a sequence of dots conencted by lines (as in the function `show` above).\n",
    "\n",
    "The first plot is the _training risk_, that is, the empirical risk on `data['T']` for the fit in problem 3.1 but for polynomial degrees $k = 0,\\ldots, 12$, using the quadratic loss. The second plot is the _validation risk_, that is, the analogous quantity estimated on `data['V']` (of course, for both plots the polynomials are trained on `data['T']`).\n",
    "\n",
    "Label the axes of the figure as \"k\" and \"risk\" and place a legend that specifies which plot is which.\n",
    "\n",
    "Show both code and plot."
   ]
  },
  {
   "cell_type": "markdown",
   "metadata": {},
   "source": [
    "### Solution 3.3 "
   ]
  },
  {
   "cell_type": "code",
   "execution_count": 13,
   "metadata": {},
   "outputs": [
    {
     "data": {
      "text/plain": [
       "<matplotlib.legend.Legend at 0x112f9f2e8>"
      ]
     },
     "execution_count": 13,
     "metadata": {},
     "output_type": "execute_result"
    },
    {
     "data": {
      "image/png": "[encoded data removed]",
      "text/plain": [
       "<matplotlib.figure.Figure at 0x111478d68>"
      ]
     },
     "metadata": {},
     "output_type": "display_data"
    }
   ],
   "source": [
    "T = data['T']         # Training data\n",
    "V = data['V']         # Validation data \n",
    "y_t = T['y']          # Y of training data \n",
    "x_t = T['x']          # X of training data\n",
    "y_v = V['y']          # Y of validation data\n",
    "x_v = V['x']          # X of validation data \n",
    "t_risk = []\n",
    "v_risk = []\n",
    "for k in range(0, 13):\n",
    "    h = train(T, k)\n",
    "    yp_t = np.polyval(h, x_t)\n",
    "    yp_v = np.polyval(h, x_v)\n",
    "    l_t = loss(y_t, yp_t)\n",
    "    l_v = loss(y_v, yp_v)\n",
    "    risk_t = L(h, T, l_t)\n",
    "    risk_v = L(h, V, l_v)\n",
    "    t_risk.append(risk_t)\n",
    "    v_risk.append(risk_v)\n",
    "\n",
    "\n",
    "plt.plot(range(0, 13), t_risk, label= 'training data')\n",
    "plt.plot(range(0, 13), v_risk, label= 'validation data')\n",
    "plt.xlabel(\"k\")\n",
    "plt.ylabel(\"risk\")\n",
    "plt.title(\"risk vs. k\")\n",
    "plt.legend(loc = \"upper right\")"
   ]
  },
  {
   "cell_type": "markdown",
   "metadata": {
    "tags": [
     "question"
    ]
   },
   "source": [
    "### Problem 3.4\n",
    "\n",
    "For what value $k^{\\star}$ of $k$ does the fit generalize best to the validation data? Also use the function `show` to display the validation points and the fit to the training data for $k^{\\star}$."
   ]
  },
  {
   "cell_type": "markdown",
   "metadata": {},
   "source": [
    "### Solution 3.4"
   ]
  },
  {
   "cell_type": "code",
   "execution_count": 14,
   "metadata": {},
   "outputs": [
    {
     "name": "stdout",
     "output_type": "stream",
     "text": [
      "The value of k in which the fit generalizes best is when the difference of t_risk and v_risk is smallest\n",
      "The smallest difference between is 0.0409\n",
      "This occurs at k = 4\n",
      "Therefore, k* = 4\n"
     ]
    }
   ],
   "source": [
    "differences = []\n",
    "for i in range(0, 13):\n",
    "    diff = np.linalg.norm(t_risk[i] - v_risk[i])\n",
    "    differences.append(diff)\n",
    "\n",
    "\n",
    "print(\"The value of k in which the fit generalizes best is when the difference of t_risk and v_risk is smallest\")\n",
    "print(\"The smallest difference between is {:.3}\".format(min(differences)))\n",
    "print(\"This occurs at k =\", differences.index(min(differences)))\n",
    "print(\"Therefore, k* = 4\")"
   ]
  },
  {
   "cell_type": "code",
   "execution_count": 15,
   "metadata": {},
   "outputs": [
    {
     "data": {
      "image/png": "[encoded data removed]",
      "text/plain": [
       "<matplotlib.figure.Figure at 0x1143ea278>"
      ]
     },
     "metadata": {},
     "output_type": "display_data"
    }
   ],
   "source": [
    "# Plot of k = 4 and validation data \n",
    "k = 4                 # k*\n",
    "V = data['V']         # Validation data \n",
    "y_v = V['y']          # Y of validation data\n",
    "x_v = V['x']          # X of validation data \n",
    "h = train(V, k)\n",
    "show(x_v, y_v, [h])"
   ]
  },
  {
   "cell_type": "markdown",
   "metadata": {
    "tags": [
     "question"
    ]
   },
   "source": [
    "### Problem 3.5\n",
    "\n",
    "Why is the plot for the training risk in problem 3.3 monotonic non-increasing? (If your plot doesn't look that way, you may want to review your solution to 3.3.) Explain briefly and clearly."
   ]
  },
  {
   "cell_type": "markdown",
   "metadata": {},
   "source": [
    "### Solution 3.5\n",
    "The training risk is monotonic non-increasing because as we increase k, we are approaching a function that will exactly fit all of the points in the training data. In other words, the risk will continue to decrease because we are fitting a better and better polynomial to the training data, eventually getting to an exact fit when N is sufficiently close to the number of training examples. Unfortunately, this is not very useful in machine learning because we want our function to generalize i.e. work on previously unseen data. This is the reason why we tried many values of k and compare them to the validation training data: we wanted to see which degree polynomial would generalize best i.e. have the smallest difference between training risk and validation risk. "
   ]
  },
  {
   "cell_type": "markdown",
   "metadata": {
    "tags": [
     "question"
    ]
   },
   "source": [
    "### Problem 3.6\n",
    "\n",
    "There are two technical terms that denote the fact that the validation risk is (i) higher for $k < k^{\\star}$ and (ii) higher for $k > k^{\\star}$, when compared to the validation risk at $k^{\\star}$. What are the two terms? Specify which term is for which case ((i) or (ii))."
   ]
  },
  {
   "cell_type": "markdown",
   "metadata": {},
   "source": [
    "### Solution 3.6\n",
    "(i) Underfitting (high bias) \n",
    "<br> \n",
    "(ii) Overfitting (high variance) "
   ]
  }
 ],
 "metadata": {
  "kernelspec": {
   "display_name": "Python 3",
   "language": "python",
   "name": "python3"
  },
  "language_info": {
   "codemirror_mode": {
    "name": "ipython",
    "version": 3
   },
   "file_extension": ".py",
   "mimetype": "text/x-python",
   "name": "python",
   "nbconvert_exporter": "python",
   "pygments_lexer": "ipython3",
   "version": "3.6.3"
  }
 },
 "nbformat": 4,
 "nbformat_minor": 2
}
