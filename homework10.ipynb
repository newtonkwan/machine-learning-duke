{
 "cells": [
  {
   "cell_type": "markdown",
   "metadata": {
    "tags": [
     "T"
    ]
   },
   "source": [
    "> **Student Names and IDs**:\n",
    ">\n",
    "> - Newton Kwan, nk150\n",
    "> - Joyce Choi, jc515\n",
    "> - Ashka Stevens, aas74"
   ]
  },
  {
   "cell_type": "markdown",
   "metadata": {
    "tags": [
     "AST"
    ]
   },
   "source": [
    "# Homework 10"
   ]
  },
  {
   "cell_type": "markdown",
   "metadata": {
    "tags": [
     "AST"
    ]
   },
   "source": [
    "## Part 1: Correlation"
   ]
  },
  {
   "cell_type": "markdown",
   "metadata": {
    "tags": [
     "AST"
    ]
   },
   "source": [
    "### Problem 1.1"
   ]
  },
  {
   "cell_type": "markdown",
   "metadata": {},
   "source": [
    "Let\n",
    "\n",
    "$$\n",
    "\\mathbf{x} = [1, 0, 2, -1, 3]^T \\;\\;\\;\\text{and}\\;\\;\\; \\mathbf{g} = [-1, 2, 1]^T\\;.\n",
    "$$"
   ]
  },
  {
   "cell_type": "markdown",
   "metadata": {},
   "source": [
    "Give the valid correlation $\\mathbf{z}_v$ and the shape-preserving correlation $\\mathbf{z}_s$ of signal $\\mathbf{x}$ with kernel $\\mathbf{g}$."
   ]
  },
  {
   "cell_type": "markdown",
   "metadata": {
    "tags": [
     "ST"
    ]
   },
   "source": [
    "### Answer"
   ]
  },
  {
   "cell_type": "markdown",
   "metadata": {},
   "source": [
    "One dimensional correlation of input x with kernel g \n",
    "\n",
    "$$ z_i = \\sum^{k-1}_{a=0} g_ax_{i+a} \\text{ for } i = 0, ..., e-1 = d-k$$ \n",
    "\n",
    "Signal $\\mathbf{x}$\n",
    "- $x \\in \\mathbb{R}^d$ \n",
    "- d = 5\n",
    "- k = 3\n",
    "\n",
    "In this specific case,\n",
    "\n",
    "$$ z_i = \\sum^{2}_{a=0} g_ax_{i+a} \\text{ for } i = 0, 1, 2$$ \n",
    "\n",
    "$$ z_0 = g_0x_0 + g_1x_1 + g_2x_2 $$ \n",
    "$$ z_1 = g_0x_1 + g_1x_2 + g_2x_3 $$ \n",
    "$$ z_2 = g_0x_2 + g_1x_3 + g_2x_4  $$ \n",
    "\n",
    "Valid correlation \n",
    "$$ \\mathbf{z_v} = [1, 3, -1] $$ \n",
    "\n",
    "Padded signal $\\mathbf{x'} = [1, 0, 2, -1, 3, 0, 0]$ \n",
    "- $x' \\in \\mathbb{R}^{d+k-1}$ \n",
    "- d+k-1 = 7\n",
    "- k=3\n",
    "\n",
    "In this specific case,\n",
    "\n",
    "$$ z_i = \\sum^{2}_{a=0} g_ax_{i+a} \\text{ for } i = 0, 1, 2, 3, 4$$ \n",
    "\n",
    "$$ z_0 = g_0x_0 + g_1x_1 + g_2x_2 $$ \n",
    "$$ z_1 = g_0x_1 + g_1x_2 + g_2x_3 $$ \n",
    "$$ z_2 = g_0x_2 + g_1x_3 + g_2x_4  $$ \n",
    "$$ z_3 = g_0x_3 + g_1x_4 + g_2x_5  $$ \n",
    "$$ z_4 = g_0x_4 + g_1x_5 + g_2x_6  $$ \n",
    "\n",
    "Shape-preserving or padded correlation \n",
    "$$ \\mathbf{z_s} = [1, 3, -1, 7, -3 ] $$ "
   ]
  },
  {
   "cell_type": "markdown",
   "metadata": {
    "tags": [
     "AST"
    ]
   },
   "source": [
    "### Problem 1.2"
   ]
  },
  {
   "cell_type": "markdown",
   "metadata": {
    "tags": [
     "AST"
    ]
   },
   "source": [
    "Using the values in the previous problem, give the matrices $V_v$ and $V_s$ such that\n",
    "\n",
    "$$\n",
    "\\mathbf{z}_v = V_v \\mathbf{x} \\;\\;\\;\\text{and}\\;\\;\\; \\mathbf{z}_s = V_s \\mathbf{x} \\;.\n",
    "$$"
   ]
  },
  {
   "cell_type": "markdown",
   "metadata": {
    "tags": [
     "ST"
    ]
   },
   "source": [
    "### Answer"
   ]
  },
  {
   "cell_type": "markdown",
   "metadata": {},
   "source": [
    "$$\n",
    "V_v = \\left[\\begin{array}{rrrrr}\n",
    "g_0 & g_1 & g_2 & 0 & 0 \\\\\n",
    "0 & g_0 & g_1 & g_2 & 0 \\\\\n",
    "0 & 0 & g_0 & g_1 & g_2 \n",
    "\\end{array}\\right]\n",
    "= \\left[\\begin{array}{rrrrr}\n",
    "-1 & 2 & 1 & 0 & 0 \\\\\n",
    "0 & -1 & 2 & 1 & 0 \\\\\n",
    "0 & 0 & -1 & 2 & 1 \n",
    "\\end{array}\\right]\n",
    "$$ \n",
    "\n",
    "<br>\n",
    "\n",
    "$$\n",
    "V_s = \\left[\\begin{array}{rrrrrrr}\n",
    "g_0 & g_1 & g_2 & 0 & 0 & 0 & 0\\\\\n",
    "0 & g_0 & g_1 & g_2 & 0 & 0 & 0\\\\\n",
    "0 & 0 & g_0 & g_1 & g_2 & 0 & 0\\\\\n",
    "0 & 0 & 0 & g_0 & g_1 & g_2 & 0\\\\\n",
    "0 & 0 & 0 & 0 & g_0 & g_1 & g_2\\\\\n",
    "\\end{array}\\right]\n",
    "= \\left[\\begin{array}{rrrrrrr}\n",
    "-1 & 2 & 1 & 0 & 0 & 0 & 0\\\\\n",
    "0 & -1 & 2 & 1 & 0 & 0 & 0\\\\\n",
    "0 & 0 & -1 & 2 & 1 & 0 & 0\\\\\n",
    "0 & 0 & 0 & -1 & 2 & 1 & 0\\\\\n",
    "0 & 0 & 0 & 0 & -1 & 2 & 1\\\\\n",
    "\\end{array}\\right]\n",
    "$$ "
   ]
  },
  {
   "cell_type": "markdown",
   "metadata": {
    "tags": [
     "AST"
    ]
   },
   "source": [
    "### Problem 1.3"
   ]
  },
  {
   "cell_type": "markdown",
   "metadata": {
    "tags": [
     "AST"
    ]
   },
   "source": [
    "Let\n",
    "\n",
    "$$\n",
    "X = \\left[\\begin{array}{rrrrr}\n",
    "2 & 1 & 3 & -1 & 4 \\\\\n",
    "0 & -2 & 1 & 0 & 3\n",
    "\\end{array}\\right]\n",
    "\\;\\;\\;\\text{and}\\;\\;\\;\n",
    "G = \\left[\\begin{array}{rr}\n",
    "1 & 2 \\\\ -3 & 0\n",
    "\\end{array}\\right]\\;.\n",
    "$$"
   ]
  },
  {
   "cell_type": "markdown",
   "metadata": {
    "tags": [
     "AST"
    ]
   },
   "source": [
    "Give the valid correlation $Z_v$ and the shape-preserving correlation $Z_s$ of image $X$ with kernel $G$."
   ]
  },
  {
   "cell_type": "markdown",
   "metadata": {
    "tags": [
     "ST"
    ]
   },
   "source": [
    "### Answer"
   ]
  },
  {
   "cell_type": "markdown",
   "metadata": {},
   "source": [
    "$$\n",
    "X = \\left[\\begin{array}{rrrrr}\n",
    "x_{00} & x_{01} & x_{02} & x_{03} & x_{04} \\\\\n",
    "x_{10} & x_{11} & x_{12} & x_{13} & x_{14}\n",
    "\\end{array}\\right]\n",
    "\\;\\;\\;\\text{and}\\;\\;\\;\n",
    "G = \\left[\\begin{array}{rr}\n",
    "g_{00} & g_{01} \\\\ \n",
    "g_{10} & g_{11} \n",
    "\\end{array}\\right]\\;.\n",
    "$$"
   ]
  },
  {
   "cell_type": "markdown",
   "metadata": {},
   "source": [
    "In general, the two-dimensional correlation of input X with kernel G is \n",
    "\n",
    "$$z_{ij} = \\sum^{k_1-1}_{a=0} \\sum^{k_2-1}_{b=0} g_{ab}x_{i+a, j+b} \\text{ for } i = 0, ..., e_1 - 1 = d_1 - k_1 \\text{ and } j = 0, ...,e_2 - 1 = d_2 - k_2$$"
   ]
  },
  {
   "cell_type": "markdown",
   "metadata": {},
   "source": [
    "For our example, G has the following specifications\n",
    "- $G \\in \\mathbb{R}^{2 \\times 2}$\n",
    "- $k_1 = 2$\n",
    "- $k_2 = 2$"
   ]
  },
  {
   "cell_type": "markdown",
   "metadata": {},
   "source": [
    "For the valid correlation $Z_v$ \n",
    "\n",
    "- $X \\in \\mathbb{R}^{2 \\times 5}$\n",
    "- $d_1 = 2$\n",
    "- $d_2 = 5$\n",
    "- $d_1 - k_1 = 0$\n",
    "- $d_2 - k_2 = 3$\n",
    "- $e_1 = 1$\n",
    "- $e_2 = 4$"
   ]
  },
  {
   "cell_type": "markdown",
   "metadata": {},
   "source": [
    "$$z_{ij} = \\sum^{1}_{a=0} \\sum^{1}_{b=0} g_{ab}x_{i+a, j+b} \\text{ for } i = 0 \\text{ and } j = 0, ..., 3$$"
   ]
  },
  {
   "cell_type": "markdown",
   "metadata": {},
   "source": [
    "$$ z_{00} = g_{00}x_{00} + g_{01}x_{01} + g_{10}x_{10} + g_{11}x_{11} \\text{ for } i = 0, j = 0$$\n",
    "$$ z_{01} = g_{00}x_{01} + g_{01}x_{02} + g_{10}x_{11} + g_{11}x_{12} \\text{ for } i = 0, j = 1$$\n",
    "$$ z_{02} = g_{00}x_{02} + g_{01}x_{03} + g_{10}x_{12} + g_{11}x_{13} \\text{ for } i = 0, j = 2$$\n",
    "$$ z_{03} = g_{00}x_{03} + g_{01}x_{04} + g_{10}x_{13} + g_{11}x_{14} \\text{ for } i = 0, j = 3$$"
   ]
  },
  {
   "cell_type": "markdown",
   "metadata": {},
   "source": [
    "$$ Z_v = [4, 13, -2, 7]$$ "
   ]
  },
  {
   "cell_type": "markdown",
   "metadata": {},
   "source": [
    "For the shape preserving correlation $Z_s$ \n",
    "\n",
    "Padding is computed using \n",
    "\n",
    "$$ p_m = k_m - 1$$ \n",
    "\n",
    "- $p_1 = k_1 - 1 = 1$\n",
    "- $p_2 = k_2 - 1 = 1 $\n",
    "\n",
    "We add a row to the bottom and a column to the right of $X$ to get $X'$\n",
    "\n",
    "- $X' \\in \\mathbb{R}^{3 \\times 6}$\n",
    "- $d_1 = 3$\n",
    "- $d_2 = 6$\n",
    "- $d_1 - k_1 = 1$\n",
    "- $d_2 - k_2 = 4$\n",
    "- $e_1 = 2$\n",
    "- $e_2 = 5$"
   ]
  },
  {
   "cell_type": "markdown",
   "metadata": {},
   "source": [
    "$$z_{ij} = \\sum^{1}_{a=0} \\sum^{1}_{b=0} g_{ab}x_{i+a, j+b} \\text{ for } i = 0, 1 \\text{ and } j = 0,...,4$$"
   ]
  },
  {
   "cell_type": "markdown",
   "metadata": {},
   "source": [
    "$$ z_{00} = g_{00}x_{00} + g_{01}x_{01} + g_{10}x_{10} + g_{11}x_{11} \\text{ for } i = 0, j = 0$$\n",
    "$$ z_{01} = g_{00}x_{01} + g_{01}x_{02} + g_{10}x_{11} + g_{11}x_{12} \\text{ for } i = 0, j = 1$$\n",
    "$$ z_{02} = g_{00}x_{02} + g_{01}x_{03} + g_{10}x_{12} + g_{11}x_{13} \\text{ for } i = 0, j = 2$$\n",
    "$$ z_{03} = g_{00}x_{03} + g_{01}x_{04} + g_{10}x_{13} + g_{11}x_{14} \\text{ for } i = 0, j = 3$$\n",
    "$$ z_{04} = g_{00}x_{04} + g_{01}x_{05} + g_{10}x_{14} + g_{11}x_{15} \\text{ for } i = 0, j = 4$$\n",
    "<br>\n",
    "$$ z_{10} = g_{00}x_{10} + g_{01}x_{11} + g_{10}x_{20} + g_{11}x_{21} \\text{ for } i = 1, j = 0$$\n",
    "$$ z_{11} = g_{00}x_{11} + g_{01}x_{12} + g_{10}x_{21} + g_{11}x_{22} \\text{ for } i = 1, j = 1$$\n",
    "$$ z_{12} = g_{00}x_{12} + g_{01}x_{13} + g_{10}x_{22} + g_{11}x_{23} \\text{ for } i = 1, j = 2$$\n",
    "$$ z_{13} = g_{00}x_{13} + g_{01}x_{14} + g_{10}x_{23} + g_{11}x_{24} \\text{ for } i = 1, j = 3$$\n",
    "$$ z_{14} = g_{00}x_{14} + g_{01}x_{15} + g_{10}x_{24} + g_{11}x_{25} \\text{ for } i = 1, j = 4$$\n",
    "\n"
   ]
  },
  {
   "cell_type": "markdown",
   "metadata": {},
   "source": [
    "$$\n",
    "Z_s = \\left[\\begin{array}{rrrrr}\n",
    "z_{00} & z_{01} & z_{02} & z_{03} & z_{04} \\\\\n",
    "z_{10} & z_{11} & z_{12} & z_{13} & z_{14} \\\\\n",
    "\\end{array}\\right]\n",
    "$$ "
   ]
  },
  {
   "cell_type": "markdown",
   "metadata": {},
   "source": [
    "$$\n",
    "Z_s = \\left[\\begin{array}{rrrrr}\n",
    "4 & 13 & -2 & 7 & -5 \\\\\n",
    "-4 & 0 & 1 & 6 & 3 \\\\\n",
    "\\end{array}\\right]\n",
    "$$ "
   ]
  },
  {
   "cell_type": "markdown",
   "metadata": {
    "tags": [
     "AST"
    ]
   },
   "source": [
    "### Problem 1.4"
   ]
  },
  {
   "cell_type": "markdown",
   "metadata": {
    "tags": [
     "AST"
    ]
   },
   "source": [
    "Give the image $Z_v$ as defined in the previous problem, except that stride 2 is used."
   ]
  },
  {
   "cell_type": "markdown",
   "metadata": {
    "tags": [
     "ST"
    ]
   },
   "source": [
    "### Answer"
   ]
  },
  {
   "cell_type": "markdown",
   "metadata": {},
   "source": [
    "Stride = $s_m$ = 2 \n",
    "\n",
    "\n",
    "- $d_1 = 2$\n",
    "- $d_2 = 5$\n",
    "- $s_1 = 2$\n",
    "- $s_2 = 2$\n",
    "- $e_1 \\approx d_1/s_1 \\approx 1$\n",
    "- $e_2 \\approx d_2/s_2 \\approx 2$\n",
    "- $Z_v \\in \\mathbb{R}^{1 \\times 2}$\n",
    "\n",
    "$$ z_{00} = g_{00}x_{00} + g_{01}x_{01} + g_{10}x_{10} + g_{11}x_{11}$$ \n",
    "$$ z_{01} = g_{00}x_{02} + g_{01}x_{03} + g_{10}x_{12} + g_{11}x_{13}$$ \n",
    "\n",
    "$$Z_v = [4, -2]$$"
   ]
  },
  {
   "cell_type": "markdown",
   "metadata": {
    "tags": [
     "AST"
    ]
   },
   "source": [
    "## Part 2: Layers"
   ]
  },
  {
   "cell_type": "code",
   "execution_count": 424,
   "metadata": {
    "collapsed": true,
    "tags": [
     "AST"
    ]
   },
   "outputs": [],
   "source": [
    "import numpy as np\n",
    "\n",
    "def tensorize(x):\n",
    "    return np.squeeze(np.asfarray(x))\n",
    "\n",
    "\n",
    "class Layer:\n",
    "    \n",
    "    def __init__(self, parms, f, dfdx):\n",
    "        self.parms = [tensorize(p) for p in parms]\n",
    "        self.f = f\n",
    "        self.dfdx = dfdx\n",
    "        self.x = None\n",
    "        \n",
    "        \n",
    "    def reset(self, r=None):\n",
    "        self.x = None\n",
    "        \n",
    "    \n",
    "    def getWeights(self):\n",
    "        if len(self.parms) == 0:\n",
    "            return []\n",
    "        else:\n",
    "            return np.concatenate([p.flatten() for p in self.parms])\n",
    "        \n",
    "        \n",
    "    def setWeights(self, w):\n",
    "        if len(w) > 0:\n",
    "            w = tensorize(w)\n",
    "            for k in range(len(self.parms)):\n",
    "                s = self.parms[k].shape\n",
    "                n = 1 if len(s) == 0 else np.prod(s)\n",
    "                self.parms[k] = np.reshape(w[:n], s)\n",
    "                w = w[n:]\n",
    "                \n",
    "\n",
    "    def dfdw(self):\n",
    "        assert self.x is not None, 'dfdw called before f'\n",
    "        return np.empty((len(self.x), 0))\n",
    "    \n",
    "\n",
    "class FCLayer(Layer):\n",
    "    \n",
    "    def __init__(self, V, b):\n",
    "        V, b = tensorize(V), tensorize(b)\n",
    "            \n",
    "        def f(x):\n",
    "            self.x = tensorize(x)\n",
    "            return np.dot(self.parms[0], self.x) + self.parms[1]\n",
    "        \n",
    "        def dfdx():\n",
    "            assert self.x is not None, 'dfdx called before f'\n",
    "            return self.parms[0]\n",
    "        \n",
    "        Layer.__init__(self, [V, b], f, dfdx)\n",
    "        \n",
    "\n",
    "    def dfdw(self):\n",
    "        assert self.x is not None, 'dfdw called before f'\n",
    "        m, n = self.parms[0].shape\n",
    "        D = np.zeros((m, m * (n + 1)))\n",
    "        js, je = 0, n\n",
    "        for i in range(m):\n",
    "            D[i][js:je] = self.x\n",
    "            js, je = js + n, je + n\n",
    "        D[:, (m * n):] = np.diag(np.ones(m))\n",
    "        return D\n",
    "        \n",
    "\n",
    "    def __initialWeights(m, n, r=None):\n",
    "        if r is None:\n",
    "            r = np.sqrt(2/m) # Formula by He et al.\n",
    "        V = np.random.randn(n, m) * r\n",
    "        b = np.zeros(n)\n",
    "        return V, b\n",
    "    \n",
    "        \n",
    "    @classmethod\n",
    "    def ofShape(cls, m, n, r=None):\n",
    "        V, b = FCLayer.__initialWeights(m, n, r)\n",
    "        return cls(V, b)\n",
    "    \n",
    "    \n",
    "    def reset(self, r=None):\n",
    "        self.x = None\n",
    "        n, m = self.parms[0].shape\n",
    "        V, b = FCLayer.__initialWeights(m, n, r)\n",
    "        self.parms = [V, b]"
   ]
  },
  {
   "cell_type": "markdown",
   "metadata": {
    "tags": [
     "AST"
    ]
   },
   "source": [
    "### Problem 2.1"
   ]
  },
  {
   "cell_type": "markdown",
   "metadata": {
    "tags": [
     "AST"
    ]
   },
   "source": [
    "Write an explicit formula for the Jacobian matrix $J_{\\rho}$ of\n",
    "$$\n",
    "\\mathbf{z} = \\rho(\\mathbf{x})\n",
    "$$\n",
    "where $\\rho$ is the ReLU and $\\mathbf{x} = [a, b]^T$."
   ]
  },
  {
   "cell_type": "markdown",
   "metadata": {
    "tags": [
     "ST"
    ]
   },
   "source": [
    "### Answer"
   ]
  },
  {
   "cell_type": "markdown",
   "metadata": {},
   "source": [
    "In general,\n",
    "\n",
    "$$\n",
    "J_{\\rho} = \\frac{\\partial \\mathbf{z}}{\\partial \\mathbf{x}} = \\left[\\begin{array}{rr}\n",
    "\\frac{\\partial z_1}{\\partial x_1} & \\frac{\\partial z_1}{\\partial x_2} \\\\\n",
    "\\frac{\\partial z_2}{\\partial x_1} & \\frac{\\partial z_2}{\\partial x_2} \\\\\n",
    "\\end{array}\\right]\n",
    "= \\left[\\begin{array}{rr}\n",
    "\\frac{1}{2}(1 + sign(x_1)) & 0 \\\\\n",
    "0 & \\frac{1}{2}(1 + sign(x_2)) \\\\\n",
    "\\end{array}\\right]\n",
    "= \\left[\\begin{array}{rr}\n",
    "\\frac{1}{2}(1 + sign(a)) & 0 \\\\\n",
    "0 & \\frac{1}{2}(1 + sign(b)) \\\\\n",
    "\\end{array}\\right]\n",
    "$$ "
   ]
  },
  {
   "cell_type": "markdown",
   "metadata": {
    "tags": [
     "AST"
    ]
   },
   "source": [
    "### Problem 2.2"
   ]
  },
  {
   "cell_type": "markdown",
   "metadata": {
    "tags": [
     "AST"
    ]
   },
   "source": [
    "The code below is a partial implementation of a ReLU layer. Replace the two `pass` commands with code so that the `ReLULayer` class works correctly."
   ]
  },
  {
   "cell_type": "markdown",
   "metadata": {
    "tags": [
     "ST"
    ]
   },
   "source": [
    "### Answer (when Completed)"
   ]
  },
  {
   "cell_type": "code",
   "execution_count": 425,
   "metadata": {
    "collapsed": true,
    "tags": [
     "AT"
    ]
   },
   "outputs": [],
   "source": [
    "class ReLULayer(Layer):\n",
    "    \n",
    "    def __init__(self):\n",
    "    \n",
    "        def f(x):\n",
    "            self.x = tensorize(x)\n",
    "            return np.maximum(0, self.x)\n",
    "    \n",
    "        def dfdx():\n",
    "            assert self.x is not None, 'dfdx called before f'\n",
    "            diagVals = 0.5*(1+np.sign(self.x))\n",
    "            diagValsTen = tensorize(diagVals)\n",
    "            if diagValsTen.size >= 2:\n",
    "                dfdxMatrix = np.diag(diagValsTen)\n",
    "                return dfdxMatrix\n",
    "            return diagValsTen\n",
    "\n",
    "        Layer.__init__(self, [], f, dfdx)\n"
   ]
  },
  {
   "cell_type": "code",
   "execution_count": 426,
   "metadata": {
    "tags": [
     "AST"
    ]
   },
   "outputs": [
    {
     "data": {
      "image/png": "[encoded data removed]",
      "text/plain": [
       "<matplotlib.figure.Figure at 0x11537cb38>"
      ]
     },
     "metadata": {},
     "output_type": "display_data"
    }
   ],
   "source": [
    "try:\n",
    "    xs = np.linspace(-1, 1, 101)\n",
    "    relu = ReLULayer()\n",
    "    out = [(relu.f(x), relu.dfdx()) for x in xs]\n",
    "    y = [a[0] for a in out]\n",
    "    dydx = [a[1] for a in out]\n",
    "\n",
    "    import matplotlib.pyplot as plt\n",
    "    %matplotlib inline\n",
    "\n",
    "    plt.figure()\n",
    "    plt.plot(xs, y, label='ReLU')\n",
    "    plt.plot(xs, dydx, label='ReLU derivative')\n",
    "    plt.legend()\n",
    "    plt.show()\n",
    "except:\n",
    "    pass"
   ]
  },
  {
   "cell_type": "markdown",
   "metadata": {
    "tags": [
     "AST"
    ]
   },
   "source": [
    "### Problem 2.3"
   ]
  },
  {
   "cell_type": "markdown",
   "metadata": {
    "tags": [
     "AST"
    ]
   },
   "source": [
    "Show that if $\\mathbf{s} = \\sigma(\\mathbf{x})$ then\n",
    "$$\n",
    "J_{\\sigma} = \\text{diag}(\\mathbf{s}) - \\mathbf{s}\\, \\mathbf{s}^T\n",
    "$$\n",
    "where $\\text{diag}(\\mathbf{s})$ is a square matrix with the entries of $\\mathbf{s}$ on its main diagonal."
   ]
  },
  {
   "cell_type": "markdown",
   "metadata": {
    "tags": [
     "ST"
    ]
   },
   "source": [
    "### Answer"
   ]
  },
  {
   "cell_type": "markdown",
   "metadata": {},
   "source": [
    "The index in the numerator is the row and the index in the denominator is the column. "
   ]
  },
  {
   "cell_type": "markdown",
   "metadata": {},
   "source": [
    "Generic entry on the diagonal\n",
    "\n",
    "$$\\frac{\\partial \\sigma_i}{\\partial x_i} = \\frac{e^{x_i}(\\sum_{k=0}^{d-1}e^{x_k}, i \\neq k)}{\\sum_{k=0}^{d-1}(e^{x_k})^2}$$"
   ]
  },
  {
   "cell_type": "markdown",
   "metadata": {},
   "source": [
    "Generic entry on the off diagonal\n",
    "\n",
    "$$\\frac{\\partial \\sigma_i}{\\partial x_j} = -\\frac{e^{x_i}e^{x_j}}{\\sum_{k=0}^{d-1}(e^{x_k})^2}$$"
   ]
  },
  {
   "cell_type": "markdown",
   "metadata": {
    "tags": [
     "AST"
    ]
   },
   "source": [
    "### Problem 2.4"
   ]
  },
  {
   "cell_type": "markdown",
   "metadata": {
    "tags": [
     "AST"
    ]
   },
   "source": [
    "Show that if $c$ is any real number and $\\sigma(\\mathbf{x})$ is the `softmax` function, then\n",
    "$$\n",
    "\\sigma(\\mathbf{x} - c) = \\sigma(\\mathbf{x})\\;.\n",
    "$$\n",
    "\n",
    "Subtracting a scalar from a vector subtracts the scalar from each entry of the vector."
   ]
  },
  {
   "cell_type": "markdown",
   "metadata": {
    "tags": [
     "ST"
    ]
   },
   "source": [
    "### Answer"
   ]
  },
  {
   "cell_type": "markdown",
   "metadata": {},
   "source": [
    "Looking at the $i$th entry of $\\sigma(\\mathbf{x} - c)$, \n",
    "\n",
    "$$ \\sigma_i(\\mathbf{x} - c) = \\frac{e^{x_i - c}}{e^{x_0 - c} + ... + e^{x_i - c} + ... + e^{x_{d-1} - c}}$$ \n",
    "\n",
    "Rewrite exponentials, \n",
    "$$ \\sigma_i(\\mathbf{x} - c) = \\frac{e^{x_i}e^{-c}}{e^{x_0}e^{-c} + ... + e^{x_i}e^{-c} + ... + e^{x_{d-1}}e^{-c}}$$ \n",
    "\n",
    "Factoring out $e^{-c}$, \n",
    "$$ \\sigma_i(\\mathbf{x} - c) = \\frac{e^{-c}}{e^{-c}} \\frac{e^{x_i}}{e^{x_0} + ... + e^{x_i} + ... + e^{x_{d-1}}} $$ \n",
    "\n",
    "The constant is equal to 1, \n",
    "\n",
    "$$ \\sigma_i(\\mathbf{x} - c) = \\frac{e^{x_i}}{e^{x_0} + ... + e^{x_i} + ... + e^{x_{d-1}}} $$ \n",
    "\n",
    "and \n",
    "\n",
    "$$\\sigma_i(\\mathbf{x}) = \\frac{e^{x_i}}{e^{x_0} + ... + e^{x_i} + ... + e^{x_{d-1}}} $$ \n",
    "\n",
    "We have shown this in the general case for the $i$th entry. Therefore, \n",
    "\n",
    "$$\\sigma(\\mathbf{x} - c) = \\sigma(\\mathbf{x}) $$ \n",
    "\n",
    "\n"
   ]
  },
  {
   "cell_type": "markdown",
   "metadata": {
    "tags": [
     "AST"
    ]
   },
   "source": [
    "### Problem 2.5"
   ]
  },
  {
   "cell_type": "markdown",
   "metadata": {
    "tags": [
     "AST"
    ]
   },
   "source": [
    "The code below is a partial implementation of a `softmax` layer. Replace the `pass` command with code so that the `SoftmaxLayer` class works correctly."
   ]
  },
  {
   "cell_type": "markdown",
   "metadata": {
    "tags": [
     "ST"
    ]
   },
   "source": [
    "### Answer (when Completed)"
   ]
  },
  {
   "cell_type": "code",
   "execution_count": 427,
   "metadata": {
    "collapsed": true,
    "tags": [
     "AT"
    ]
   },
   "outputs": [],
   "source": [
    "class SoftmaxLayer(Layer):\n",
    "    \n",
    "    def __softmax(x):\n",
    "        e = np.exp(x - np.max(x))\n",
    "        return e / np.sum(e)\n",
    "    \n",
    "    def __init__(self, n):\n",
    "        \n",
    "        def f(x):\n",
    "            self.x = tensorize(x)\n",
    "            return SoftmaxLayer.__softmax(self.x)\n",
    "        \n",
    "        def dfdx():\n",
    "            assert self.x is not None, 'dfdx called before f'\n",
    "            s = SoftmaxLayer.__softmax(self.x)\n",
    "            if s.size >= 2:\n",
    "                diagMat = np.diag(s)\n",
    "            else:\n",
    "                diagMat = s\n",
    "            sProd = np.outer(s, s)\n",
    "            return diagMat-sProd\n",
    "            \n",
    "        \n",
    "        Layer.__init__(self, [], f, dfdx)\n"
   ]
  },
  {
   "cell_type": "code",
   "execution_count": 428,
   "metadata": {
    "tags": [
     "AST"
    ]
   },
   "outputs": [
    {
     "data": {
      "image/png": "[encoded data removed]",
      "text/plain": [
       "<matplotlib.figure.Figure at 0x1a1a020908>"
      ]
     },
     "metadata": {},
     "output_type": "display_data"
    }
   ],
   "source": [
    "try:\n",
    "    ps = np.linspace(-2, 2, 101)\n",
    "    q = 0\n",
    "    softmax = SoftmaxLayer(2)\n",
    "    out = [(softmax.f((p, q)), softmax.dfdx()) for p in ps]\n",
    "    #print(out)\n",
    "\n",
    "    y0 = [a[0][0] for a in out]\n",
    "    y1 = [a[0][1] for a in out]\n",
    "    dydx00 = [a[1][0, 0] for a in out]\n",
    "    dydx01 = [a[1][0, 1] for a in out]\n",
    "\n",
    "    plt.figure()\n",
    "    plt.plot(ps, y0, label='y0')\n",
    "    plt.plot(ps, y1, label='y1')\n",
    "    plt.plot(ps, dydx00, label='dy0/dx0')\n",
    "    plt.plot(ps, dydx01, label='dy0/dx1')\n",
    "    plt.xlabel('x0')\n",
    "    plt.legend()\n",
    "    plt.show()\n",
    "except:\n",
    "    pass"
   ]
  },
  {
   "cell_type": "markdown",
   "metadata": {
    "tags": [
     "AST"
    ]
   },
   "source": [
    "### Problem 2.6"
   ]
  },
  {
   "cell_type": "markdown",
   "metadata": {
    "tags": [
     "AST"
    ]
   },
   "source": [
    "The code below is a partial implementation of a `Loss` class that embodies the cross-entropy loss and its Jacobian. Replace the two `pass` commands with code so that the `Loss` class works correctly."
   ]
  },
  {
   "cell_type": "markdown",
   "metadata": {
    "tags": [
     "ST"
    ]
   },
   "source": [
    "### Answer (when Completed)"
   ]
  },
  {
   "cell_type": "code",
   "execution_count": 429,
   "metadata": {
    "collapsed": true,
    "tags": [
     "AT"
    ]
   },
   "outputs": [],
   "source": [
    "class Loss:\n",
    "    def __init__(self):\n",
    "        self.small = 1e-8\n",
    "    \n",
    "    def f(self, y, p):\n",
    "        self.p = tensorize(p)\n",
    "        py = self.p[int(y)]\n",
    "        if py < self.small: py = self.small\n",
    "        return -np.log(py)\n",
    "    \n",
    "    def dfdx(self, y):\n",
    "        assert self.p is not None, 'dfdx called before f'\n",
    "        y = int(y)\n",
    "        d = np.zeros(len(self.p))\n",
    "        py = self.p[y]\n",
    "        if py < self.small: py = self.small\n",
    "        d[y] = -1/py    \n",
    "        return d\n"
   ]
  },
  {
   "cell_type": "code",
   "execution_count": 430,
   "metadata": {
    "tags": [
     "AST"
    ]
   },
   "outputs": [
    {
     "data": {
      "image/png": "[encoded data removed]",
      "text/plain": [
       "<matplotlib.figure.Figure at 0x1a1a036d68>"
      ]
     },
     "metadata": {},
     "output_type": "display_data"
    }
   ],
   "source": [
    "try:\n",
    "    loss = Loss()\n",
    "    l, d, y = [], [], 0\n",
    "    xs = np.linspace(0, 1, 301)\n",
    "    for x in xs:\n",
    "        p = (x, 1-x)\n",
    "        l.append(loss.f(y, p))\n",
    "        dfdx = loss.dfdx(y)\n",
    "        if dfdx is not None: d.append(dfdx[y])\n",
    "\n",
    "    plt.figure()\n",
    "    plt.plot(xs, l, label='loss')\n",
    "    plt.plot(xs, d, label='loss derivative')\n",
    "    plt.ylim((-20, 20))\n",
    "    plt.legend()\n",
    "    plt.show()\n",
    "except:\n",
    "    pass"
   ]
  },
  {
   "cell_type": "markdown",
   "metadata": {
    "tags": [
     "AST"
    ]
   },
   "source": [
    "## Part 3: Back-Propagation and SGD"
   ]
  },
  {
   "cell_type": "markdown",
   "metadata": {
    "tags": [
     "AST"
    ]
   },
   "source": [
    "### Problem 3.1"
   ]
  },
  {
   "cell_type": "markdown",
   "metadata": {
    "tags": [
     "AST"
    ]
   },
   "source": [
    "The code below is a partial implementation of a neural network. The only missing code is part of the `backprop` method that implements back-propagation. As usual, this part is replaced by a `pass` statement. Write code in place of this `pass` so that `backprop` computes its output by back-propagation."
   ]
  },
  {
   "cell_type": "markdown",
   "metadata": {
    "tags": [
     "ST"
    ]
   },
   "source": [
    "### Answer (when Completed)"
   ]
  },
  {
   "cell_type": "code",
   "execution_count": 431,
   "metadata": {
    "collapsed": true,
    "tags": [
     "AT"
    ]
   },
   "outputs": [],
   "source": [
    "class Network:\n",
    "    \n",
    "    def __init__(self, sizes):\n",
    "        self.layers = []\n",
    "        for i in range(len(sizes) - 1):\n",
    "            self.layers.append(FCLayer.ofShape(sizes[i], sizes[i+1]))\n",
    "            self.layers.append(ReLULayer())\n",
    "        self.layers.append(SoftmaxLayer(sizes[-1]))\n",
    "        self.p = None\n",
    "        \n",
    "    def reset(self, r=None):\n",
    "        for layer in self.layers: layer.reset(r)\n",
    "        self.p = None\n",
    "        \n",
    "    def getWeights(self):\n",
    "        return np.concatenate([layer.getWeights() for layer in self.layers])\n",
    "    \n",
    "    def setWeights(self, w):\n",
    "        for layer in self.layers:\n",
    "            n = len(layer.getWeights())\n",
    "            layer.setWeights(w[:n])\n",
    "            w = w[n:]\n",
    "        \n",
    "    def f(self, x):\n",
    "        x = tensorize(x)\n",
    "        for layer in self.layers: x = layer.f(x)\n",
    "        self.p = x\n",
    "        return self.p\n",
    "    \n",
    "    def backprop(self, x, y, loss):\n",
    "        '''\n",
    "        Performs backpropagation for a single training example \n",
    "        returns a pair (loss, gradient of loss)\n",
    "        '''\n",
    "        L = loss.f(y, self.f(x))  # forward pass \n",
    "        dldx = loss.dfdx(y)       # gradient of loss wrt x^(k) = p, where k is the last layer. This is a softmax layer. \n",
    "        gradL = []                # initialize the list of gradients of the loss wrt to the weights \n",
    "      \n",
    "        # iterate from the kth layer to the 1st layer\n",
    "        # Note: the indexing in theory is K ... 1\n",
    "        # but we the indexing is different in Python\n",
    "        for k in range(len(self.layers)-1, -1, -1): \n",
    "            if self.layers[k].dfdw().size != 0: # only calculate gradients if the layer has weights\n",
    "                dfdw = self.layers[k].dfdw()    # gradient of x^(k) wrt to w^(k)\n",
    "                dldw = np.dot(dldx, dfdw)       # gradient of loss wrt to w^(k)\n",
    "                dldw = np.flip(dldw, 0)         # reverse the order of the weights of layer k along axis 0 \n",
    "                gradL.append(dldw)              # append dldw to the list of the gradients of the loss\n",
    "            dfdx = self.layers[k].dfdx()        # gradient of x^(k) wrt to x^(k-1)\n",
    "            dldx = np.dot(dldx, dfdx)           # gradient of loss wrt to x^(k-1)\n",
    "            \n",
    "        gradL = np.concatenate(gradL)           # concatenate the arrays in the list of the gradients of the loss \n",
    "        gradL = np.flip(gradL, 0)               # reverse the order of the list of the gradients of the loss \n",
    "        \n",
    "        return (L, gradL)"
   ]
  },
  {
   "cell_type": "code",
   "execution_count": 432,
   "metadata": {
    "tags": [
     "AST"
    ]
   },
   "outputs": [
    {
     "name": "stdout",
     "output_type": "stream",
     "text": [
      "Gradient gap for Network: 2.058849846383457e-17\n"
     ]
    }
   ],
   "source": [
    "try:\n",
    "    net = Network((3, 2, 3))\n",
    "    L, x, y, w = Loss(), [0.1, -0.2, 0.3], 0, range(len(net.getWeights()))\n",
    "    net.setWeights(w)\n",
    "\n",
    "    def Lw(w):\n",
    "        net.setWeights(w)\n",
    "        return L.f(y, net.f(x))\n",
    "\n",
    "    def Jacobian(f, z, delta=1e-5):\n",
    "        return np.transpose([(f(z + delta * e) - f(z - delta * e)) / (2 * delta)\\\n",
    "                             for e in np.eye(len(z))])\n",
    "\n",
    "    net.setWeights(w)\n",
    "    backprop = net.backprop(x, y, L)\n",
    "    numerical = Jacobian(Lw, w)\n",
    "    backprop = backprop[1]\n",
    "    print('Gradient gap for Network:', np.linalg.norm(backprop - numerical))\n",
    "except:\n",
    "    print(\"error\")\n",
    "    pass"
   ]
  },
  {
   "cell_type": "markdown",
   "metadata": {
    "tags": [
     "AST"
    ]
   },
   "source": [
    "### Problem 3.2"
   ]
  },
  {
   "cell_type": "markdown",
   "metadata": {
    "tags": [
     "AST"
    ]
   },
   "source": [
    "Write a function with header\n",
    "\n",
    "    def sgd(net, loss, T, batch_size=1, max_iter=1, learning_rate_init=1e-3,\n",
    "        tol=1e-6, n_iter_no_change=10):\n",
    "        \n",
    "that uses your `Network.backprop` function to implement stochastic gradient descent without momentum:\n",
    "\n",
    "$$\n",
    "\\mathbf{w}_{t+1} = \\mathbf{w}_t - r \\nabla\\mathbf{w}_t \\;.\n",
    "$$\n",
    "\n",
    "where the gradient is computed on mini-batches.\n",
    "\n",
    "Place your code in a separate notebook cell before the test code."
   ]
  },
  {
   "cell_type": "markdown",
   "metadata": {
    "tags": [
     "ST"
    ]
   },
   "source": [
    "### Answer"
   ]
  },
  {
   "cell_type": "code",
   "execution_count": 433,
   "metadata": {
    "tags": [
     "ST"
    ]
   },
   "outputs": [],
   "source": [
    "# Place your code here\n",
    "import random \n",
    "\n",
    "def sgd(net, loss, T, batch_size=1, max_iter=1, learning_rate_init=1e-3, tol=1e-6, n_iter_no_change=10):\n",
    "    '''\n",
    "    net = instance of Network class \n",
    "    loss = instance of Loss class\n",
    "    T = training set specified with keywords 'x' and 'y'\n",
    "    batch_size = size of minibatches for stochastic optimizers\n",
    "    max_iter = Maximum number of iterations. The solver iterates until convergence (determined by ‘tol’) or this number of iterations\n",
    "    learning_rate_init = The initial learning rate used. It controls the step-size in updating the weights\n",
    "    tol = Tolerance for the optimization. when loss is not improving by at least tol, training stops \n",
    "    n_iter_no_change = Maximum number of epochs to not meet tol improvement\n",
    "    returns a list or array of the training risk L_T at the end of every epoch \n",
    "    '''\n",
    "    # generate an array of scrambled indices into T\n",
    "    n = len(T['y'])                       # the length of the training set \n",
    "    idx = np.argsort(np.random.random(n)) # creates a list of indexes of length n in a random order \n",
    "    \n",
    "    r = learning_rate_init                # this learning rate r never changes \n",
    "    L_T = []                              # training risk with size max_iter = iterations = epochs \n",
    "    w = net.getWeights()                  # initialize weights for the network\n",
    "    \n",
    "    # go through B = batch_size number of training examples and then take a step in the negative gradient \n",
    "    # After going through the entire training set once = one epoch, append the risk to L_T \n",
    "    \n",
    "    # goes through max_iter epochs \n",
    "    for epoch_num in range(max_iter): # iterate through the training set 'max_iter' = num. of epochs times \n",
    "        # used to print progress \n",
    "        if epoch_num % 20 == 0:\n",
    "            print(\"Starting epoch\", epoch_num) \n",
    "\n",
    "        tracker = 0                              # keeps track of how many training examples we've looked at\n",
    "        epoch_loss = 0                           # initialize epoch loss \n",
    "        \n",
    "        # goes through (n / batch_size) batches \n",
    "        for i in range(int(n / batch_size)):     # loop over the number of batches used per epoch\n",
    "            gradient_losses = np.zeros((len(w))) # initialize the gradients of loss wrt to weights to 0 for the batch\n",
    "            \n",
    "            # goes through one batch of size batch_size \n",
    "            for j in range(tracker, tracker + batch_size):\n",
    "                index = idx[j]    # value of idx at index j \n",
    "                x = T['x'][index] # the value of T['x'] at the index of the value of idx at index j\n",
    "                y = T['y'][index] # the value of T['y'] at the index of the value of idx at index j \n",
    "                backprop = net.backprop(x, y, loss) # do backprop, returns tuple \n",
    "                bp_loss = backprop[0]               # compute loss from backprop \n",
    "                bp_gradients = backprop[1]          # gradient of the loss wrt to weights from backprop\n",
    "                epoch_loss += bp_loss               # add loss to batch_loss (not normalized yet)\n",
    "                gradient_losses += bp_gradients     # add gradient of the loss wrt to the weights for the batch\n",
    "                tracker += 1                        # increase the tracker by one \n",
    "            w = w - r*gradient_losses               # do gradient descent for the batch \n",
    "            net.setWeights(w)                       # set the neural network weights to the new w\n",
    "        epoch_risk = (1 / n )* epoch_loss \n",
    "            \n",
    "        L_T.append(epoch_risk) # append the risk of the epoch to L_T\n",
    "        if epoch_num % 20 == 0:\n",
    "            print(\"Epoch\", epoch_num, \"risk:\", epoch_risk)\n",
    "     \n",
    "    return L_T\n",
    "    "
   ]
  },
  {
   "cell_type": "code",
   "execution_count": 434,
   "metadata": {
    "tags": [
     "ST"
    ]
   },
   "outputs": [
    {
     "name": "stdout",
     "output_type": "stream",
     "text": [
      "Starting epoch 0\n",
      "Epoch 0 risk: 0.6399355561502225\n",
      "Starting epoch 20\n",
      "Epoch 20 risk: 0.5816260729180347\n",
      "Starting epoch 40\n",
      "Epoch 40 risk: 0.5610776491653381\n",
      "Starting epoch 60\n",
      "Epoch 60 risk: 0.541395885809135\n",
      "Starting epoch 80\n",
      "Epoch 80 risk: 0.5237168321119043\n",
      "Starting epoch 100\n",
      "Epoch 100 risk: 0.5066155383428247\n",
      "Starting epoch 120\n",
      "Epoch 120 risk: 0.4907855530308446\n",
      "Starting epoch 140\n",
      "Epoch 140 risk: 0.4743842993479527\n",
      "Starting epoch 160\n",
      "Epoch 160 risk: 0.4553895573378711\n",
      "Starting epoch 180\n",
      "Epoch 180 risk: 0.44150291262763963\n"
     ]
    },
    {
     "data": {
      "image/png": "[encoded data removed]",
      "text/plain": [
       "<matplotlib.figure.Figure at 0x1a1a1f75f8>"
      ]
     },
     "metadata": {},
     "output_type": "display_data"
    }
   ],
   "source": [
    "try:\n",
    "    def readArray(filename):\n",
    "        with open(filename, 'r') as file:\n",
    "            X = np.array([[float(a) for a in line.strip().split()] for line in file])\n",
    "        return X\n",
    "\n",
    "    X = readArray('x')\n",
    "    y = readArray('y').flatten()\n",
    "    T = {'x': X, 'y': y}\n",
    "\n",
    "    net = Network((2, 16, 16, 2))\n",
    "    loss = Loss()\n",
    "    LT = sgd(net, loss, T, batch_size=20, max_iter=200)\n",
    "    plt.figure()\n",
    "    plt.plot(LT)\n",
    "    plt.xlabel('epoch', fontsize=18)\n",
    "    plt.ylabel('risk', fontsize=18)\n",
    "    plt.show()\n",
    "except:\n",
    "    print(\"error\")\n",
    "    pass"
   ]
  },
  {
   "cell_type": "markdown",
   "metadata": {
    "tags": [
     "AST"
    ]
   },
   "source": [
    "## Part 4: Training a Small Network"
   ]
  },
  {
   "cell_type": "code",
   "execution_count": 435,
   "metadata": {
    "tags": [
     "AST"
    ]
   },
   "outputs": [
    {
     "name": "stderr",
     "output_type": "stream",
     "text": [
      "/anaconda3/lib/python3.6/site-packages/numpy/ma/core.py:6442: MaskedArrayFutureWarning: In the future the default for ma.minimum.reduce will be axis=0, not the current None, to match np.minimum.reduce. Explicitly pass 0 or None to silence this warning.\n",
      "  return self.reduce(a)\n",
      "/anaconda3/lib/python3.6/site-packages/numpy/ma/core.py:6442: MaskedArrayFutureWarning: In the future the default for ma.maximum.reduce will be axis=0, not the current None, to match np.maximum.reduce. Explicitly pass 0 or None to silence this warning.\n",
      "  return self.reduce(a)\n"
     ]
    },
    {
     "data": {
      "text/plain": [
       "<matplotlib.figure.Figure at 0x113535b38>"
      ]
     },
     "metadata": {},
     "output_type": "display_data"
    },
    {
     "data": {
      "image/png": "[encoded data removed]",
      "text/plain": [
       "<matplotlib.figure.Figure at 0x10ce27f98>"
      ]
     },
     "metadata": {},
     "output_type": "display_data"
    }
   ],
   "source": [
    "def readArray(filename):\n",
    "    with open(filename, 'r') as file:\n",
    "        X = np.array([[float(a) for a in line.strip().split()] for line in file])\n",
    "    return X\n",
    "\n",
    "X = readArray('x')\n",
    "y = readArray('y').flatten()\n",
    "XTest = readArray('xTest')\n",
    "yTest = readArray('yTest').flatten()\n",
    "\n",
    "T = {'x': X, 'y': y}\n",
    "S = {'x': XTest, 'y': yTest, 'shape': (50, 50)}\n",
    "SGrid = {'x0': S['x'][:, 0].reshape(S['shape']),\n",
    "         'x1': S['x'][:, 1].reshape(S['shape']),\n",
    "         'y': S['y'].reshape(S['shape'])}\n",
    "\n",
    "def showRegions(grid, title, s = None):\n",
    "    if s:\n",
    "        plt.subplot(2, 3, s)\n",
    "    else:\n",
    "        plt.figure()\n",
    "    plt.contourf(grid['x0'], grid['x1'], grid['y'],\n",
    "                 cmap=plt.cm.RdBu, alpha=0.3)\n",
    "    plt.axis('equal')\n",
    "    plt.axis('off')\n",
    "    plt.title(title)\n",
    "\n",
    "plt.figure(1)\n",
    "showRegions(SGrid, 'True Regions')"
   ]
  },
  {
   "cell_type": "markdown",
   "metadata": {
    "tags": [
     "AST"
    ]
   },
   "source": [
    "### Problem 4.1"
   ]
  },
  {
   "cell_type": "code",
   "execution_count": 436,
   "metadata": {
    "tags": [
     "AST"
    ]
   },
   "outputs": [
    {
     "name": "stderr",
     "output_type": "stream",
     "text": [
      "/anaconda3/lib/python3.6/site-packages/numpy/ma/core.py:6442: MaskedArrayFutureWarning: In the future the default for ma.minimum.reduce will be axis=0, not the current None, to match np.minimum.reduce. Explicitly pass 0 or None to silence this warning.\n",
      "  return self.reduce(a)\n",
      "/anaconda3/lib/python3.6/site-packages/numpy/ma/core.py:6442: MaskedArrayFutureWarning: In the future the default for ma.maximum.reduce will be axis=0, not the current None, to match np.maximum.reduce. Explicitly pass 0 or None to silence this warning.\n",
      "  return self.reduce(a)\n"
     ]
    },
    {
     "data": {
      "image/png": "[encoded data removed]",
      "text/plain": [
       "<matplotlib.figure.Figure at 0x1a1a2a9080>"
      ]
     },
     "metadata": {},
     "output_type": "display_data"
    }
   ],
   "source": [
    "from sklearn.neural_network import MLPClassifier\n",
    "\n",
    "layerSizes = (16, 16, 2)\n",
    "SHatGrid = SGrid\n",
    "state = (2, 3, 6, 12, 13, 9)\n",
    "lossCurve = []\n",
    "plt.figure(figsize=(10,10))\n",
    "for k in range(len(state)):\n",
    "    network = MLPClassifier(hidden_layer_sizes = layerSizes, tol=1e-6,\n",
    "                        max_iter = 10000, random_state=state[k], verbose=False)\n",
    "    network.fit(T['x'], T['y'])\n",
    "    lossCurve.append(network.loss_curve_)\n",
    "    SHatGrid['y'] = network.predict(S['x']).reshape(S['shape'])\n",
    "    showRegions(SHatGrid, 'Predicted Regions ' + str(state[k]), k+1)\n",
    "plt.show()"
   ]
  },
  {
   "cell_type": "markdown",
   "metadata": {
    "tags": [
     "AST"
    ]
   },
   "source": [
    "Comment briefly on the importance of initialization when training a neural network. Why is this an issue in terms of advancing our empirical understanding of neural networks? Keep in mind that for larger networks training can take days or weeks, even on a cluster of GPUs."
   ]
  },
  {
   "cell_type": "markdown",
   "metadata": {
    "tags": [
     "ST"
    ]
   },
   "source": [
    "### Answer"
   ]
  },
  {
   "cell_type": "markdown",
   "metadata": {},
   "source": [
    "The six graphs show that neural networks, depending on its specific initialization, will give different results, even if they share some similarities. The reason we get different results from different initializations is that the loss function with respect to its weights is usually not convex. Since the weights are initialized differently in each plot, the results of computing the gradients of the loss and doing gradient descent can result in different local minimums. In addition, it is not clear a priori which initialization will give the lowest training risk or the fastest drop in risk over a given number of epochs.  \n",
    "\n",
    "One issue that arises in terms of advancing our empirical understanding of neural networks is that needing the exact initialization is a problem in the reproducibility of results, for example if the initialization is not published or unclear even to the researcher. In the case where a network takes days or weeks to train, the cost of trying to verify results is extremely high. Moreover, if a network takes days or weeks to train, it may not be possible to compare the network across many different initializations. We need to find another statistically significant factor to compare the accuracy of a model because it may not be possible to have the same network trained on different initializations. "
   ]
  },
  {
   "cell_type": "markdown",
   "metadata": {
    "tags": [
     "AST"
    ]
   },
   "source": [
    "### Problem 4.2"
   ]
  },
  {
   "cell_type": "code",
   "execution_count": 437,
   "metadata": {
    "tags": [
     "AST"
    ]
   },
   "outputs": [
    {
     "data": {
      "image/png": "[encoded data removed]",
      "text/plain": [
       "<matplotlib.figure.Figure at 0x1a1a2132b0>"
      ]
     },
     "metadata": {},
     "output_type": "display_data"
    }
   ],
   "source": [
    "plt.figure()\n",
    "for k in range(len(lossCurve)):\n",
    "    plt.plot(lossCurve[k], label=str(state[k]))\n",
    "plt.xlabel('epoch')\n",
    "plt.ylabel('training risk')\n",
    "plt.legend()\n",
    "plt.show()"
   ]
  },
  {
   "cell_type": "markdown",
   "metadata": {
    "tags": [
     "AST"
    ]
   },
   "source": [
    "In what way are these plots consistent with the decision regions displayed earlier? Comment in particular about the experiment with `random_state=9`."
   ]
  },
  {
   "cell_type": "markdown",
   "metadata": {
    "tags": [
     "ST"
    ]
   },
   "source": [
    "### Answer"
   ]
  },
  {
   "cell_type": "markdown",
   "metadata": {
    "collapsed": true
   },
   "source": [
    "The predicted decision boundaries shown do not always correspond to how quickly a network is able to minimize the training risk and find a minimum. Random_state = 9 looks graphically the most similar to the true region plot and has on average the lowest training risk. Random_state = 9 also looks the most similar to the training risk found in 3.2. Interestingly, by the end,  random_state = 2 has a decision boundary that looks similar to the true region plot, but has a higher training risk than most networks before epoch 600. Random_state = 3, 6, and 12 all had lower training risks than random_state = 2 before epoch 600, but random_state = 2 eventually reduced its training risk to something comparable to random_state = 9. Generally, it seems that it takes networks with different initializations different amounts of time to converge to a minimum. It seems like adaptive step size training helped achieve better training risk for random_state = 2, which has a noticeable drop starting at around epoch 600. From this plot, we can conclude that it is important to not only look at the risk at a certain epoch, but also the rate at which the training risk is decreasing. "
   ]
  },
  {
   "cell_type": "code",
   "execution_count": null,
   "metadata": {
    "collapsed": true
   },
   "outputs": [],
   "source": []
  }
 ],
 "metadata": {
  "kernelspec": {
   "display_name": "Python 3",
   "language": "python",
   "name": "python3"
  },
  "language_info": {
   "codemirror_mode": {
    "name": "ipython",
    "version": 3
   },
   "file_extension": ".py",
   "mimetype": "text/x-python",
   "name": "python",
   "nbconvert_exporter": "python",
   "pygments_lexer": "ipython3",
   "version": "3.6.3"
  }
 },
 "nbformat": 4,
 "nbformat_minor": 2
}
