{
 "cells": [
  {
   "cell_type": "markdown",
   "metadata": {
    "tags": [
     "T"
    ]
   },
   "source": [
    "> **Student Names and IDs**:\n",
    ">\n",
    "> - Newton Kwan, nk150 "
   ]
  },
  {
   "cell_type": "markdown",
   "metadata": {
    "tags": [
     "AST"
    ]
   },
   "source": [
    "# Homework 5"
   ]
  },
  {
   "cell_type": "markdown",
   "metadata": {
    "tags": [
     "AST"
    ]
   },
   "source": [
    "## Part 1: Numerical Differentiation"
   ]
  },
  {
   "cell_type": "markdown",
   "metadata": {
    "tags": [
     "AST"
    ]
   },
   "source": [
    "### Problem 1.1"
   ]
  },
  {
   "cell_type": "markdown",
   "metadata": {
    "tags": [
     "AST"
    ]
   },
   "source": [
    "Write a formula for the Jacobian $J_{P2C}$ of this transformation."
   ]
  },
  {
   "cell_type": "markdown",
   "metadata": {
    "tags": [
     "ST"
    ]
   },
   "source": [
    "### Answer"
   ]
  },
  {
   "cell_type": "markdown",
   "metadata": {},
   "source": [
    "$$\n",
    "J_{P2C} = \n",
    "\\left[\\begin{array}{cc}\n",
    "cos\\phi & -rsin\\phi \\\\\n",
    "sin\\phi & rcos\\phi\n",
    "\\end{array}\\right]\n",
    "$$"
   ]
  },
  {
   "cell_type": "markdown",
   "metadata": {
    "tags": [
     "AST"
    ]
   },
   "source": [
    "### Problem 1.2"
   ]
  },
  {
   "cell_type": "markdown",
   "metadata": {
    "tags": [
     "AST"
    ]
   },
   "source": [
    "Write functions with headers\n",
    "\n",
    "    def P2C(z):\n",
    "    \n",
    "and\n",
    "\n",
    "    def JacobianP2C(z):\n",
    "    \n",
    "that compute the transformation above and its Jacobian matrix. Inputs and outputs should be `numpy` arrays.\n",
    "\n",
    "Show your code. You will test it in a later problem."
   ]
  },
  {
   "cell_type": "markdown",
   "metadata": {
    "tags": [
     "ST"
    ]
   },
   "source": [
    "### Answer"
   ]
  },
  {
   "cell_type": "code",
   "execution_count": 647,
   "metadata": {},
   "outputs": [],
   "source": [
    "import numpy as np"
   ]
  },
  {
   "cell_type": "code",
   "execution_count": 648,
   "metadata": {},
   "outputs": [],
   "source": [
    "def P2C(z):\n",
    "    '''\n",
    "    This function transforms from polar to cartesian. Concretely, from r and phi to x and y \n",
    "    Inputs: z, a numpy array of r and phi  \n",
    "    Outputs: c, a numpy array of x and y\n",
    "    '''\n",
    "    r = z[0]\n",
    "    phi = z[1]\n",
    "    a = np.zeros(z.shape)\n",
    "    a[0] = r*np.cos(phi)\n",
    "    a[1] = r*np.sin(phi)\n",
    "    \n",
    "    return a"
   ]
  },
  {
   "cell_type": "code",
   "execution_count": 649,
   "metadata": {},
   "outputs": [],
   "source": [
    "def JacobianP2C(z):\n",
    "    '''\n",
    "    This function returns the Jacobian of a transformation from polar to cartesian\n",
    "    Input: numpy arrays, z = (2,)\n",
    "    Output: numpy arrays \n",
    "    '''\n",
    "    r = z[0]\n",
    "    phi = z[1]\n",
    "    a = np.zeros((2,2))\n",
    "    a[0][0] = np.cos(phi)\n",
    "    a[0][1] = -r*np.sin(phi)\n",
    "    a[1][0] = np.sin(phi)\n",
    "    a[1][1] = r*np.cos(phi)\n",
    "    return a "
   ]
  },
  {
   "cell_type": "markdown",
   "metadata": {
    "tags": [
     "AST"
    ]
   },
   "source": [
    "### Problem 1.3"
   ]
  },
  {
   "cell_type": "markdown",
   "metadata": {
    "tags": [
     "AST"
    ]
   },
   "source": [
    "Write a Python function with header\n",
    "\n",
    "    def Jacobian(f, z, delta=1e-5):\n",
    "    \n",
    "that takes a function `f` from $\\mathbb{R}^d$ to $\\mathbb{R}^e$, a `numpy` vector `z` with $d$ entries, and an optional value for $\\delta$ and returns a `numpy` array with the Jacobian of `f` at `z`, using the central difference formula given above.\n",
    "\n",
    "Show your code. You will test it in the next problem."
   ]
  },
  {
   "cell_type": "markdown",
   "metadata": {
    "tags": [
     "ST"
    ]
   },
   "source": [
    "### Answer"
   ]
  },
  {
   "cell_type": "code",
   "execution_count": 650,
   "metadata": {},
   "outputs": [],
   "source": [
    "def Jacobian(f, z, delta=1e-5):\n",
    "    '''\n",
    "    \n",
    "    Input: f, function\n",
    "    z, numpy vector with d entries \n",
    "    delta, optional value for small distance \n",
    "    Output: numpy array of Jacobian of f at z using central difference that is (e,d)\n",
    "    '''\n",
    "    e = f(z).size            # length of f(z)\n",
    "    d = z.size               # length of z \n",
    "    j = np.zeros((e, d))     # (e,d)\n",
    "    eye = np.identity(d)     # (d,d) identity matrix \n",
    "\n",
    "    for i in range(d):\n",
    "        e_i = eye[i]\n",
    "        df = (f(z + e_i*delta) - f(z - e_i*delta)) / (2*delta) # e \n",
    "        j[:, i] = df\n",
    "    \n",
    "    return j "
   ]
  },
  {
   "cell_type": "markdown",
   "metadata": {
    "tags": [
     "AST"
    ]
   },
   "source": [
    "### Problem 1.4"
   ]
  },
  {
   "cell_type": "markdown",
   "metadata": {
    "tags": [
     "AST"
    ]
   },
   "source": [
    "Show the result of running the tests below. This will happen automatically once your functions `Jacobian`, `P2C`, and `JacobianP2C`, are defined correctly (and you run the cell below)."
   ]
  },
  {
   "cell_type": "markdown",
   "metadata": {
    "tags": [
     "ST"
    ]
   },
   "source": [
    "### Answer"
   ]
  },
  {
   "cell_type": "code",
   "execution_count": 651,
   "metadata": {
    "scrolled": true,
    "tags": [
     "AST"
    ]
   },
   "outputs": [
    {
     "name": "stdout",
     "output_type": "stream",
     "text": [
      "Jacobian(P2C, [0, 0]) = [1, 0; 0, 0]\n",
      "JacobianP2C([0, 0]) = [1, 0; 0, 0]\n",
      "\n",
      "Jacobian(P2C, [1, 0]) = [1, 0; 0, 1]\n",
      "JacobianP2C([1, 0]) = [1, -0; 0, 1]\n",
      "\n",
      "Jacobian(P2C, [2, 1]) = [0.5403, -1.6829; 0.8415, 1.0806]\n",
      "JacobianP2C([2, 1]) = [0.5403, -1.6829; 0.8415, 1.0806]\n",
      "\n",
      "Jacobian(P2C, [2, 2]) = [-0.4161, -1.8186; 0.9093, -0.8323]\n",
      "JacobianP2C([2, 2]) = [-0.4161, -1.8186; 0.9093, -0.8323]\n",
      "\n"
     ]
    }
   ],
   "source": [
    "def compare(a, f, b, delta=1e-5):\n",
    "    def a2s(a):\n",
    "        def n2s(x):\n",
    "            return '{:g}'.format(round(x, 4))\n",
    "        \n",
    "        try:\n",
    "            return '[' + '; '.join([', '.join([n2s(y) for y in row]) for row in a]) + ']'\n",
    "        except TypeError:\n",
    "            try:\n",
    "                return '[' + ', '.join([n2s(y) for y in a]) + ']'\n",
    "            except TypeError:\n",
    "                return '[]' if a.size == 0 else n2s(a)\n",
    "\n",
    "    aName, fName, bName = a.__name__, f.__name__, b.__name__\n",
    "    msgBase = '{:s}({:s}, {{:s}}) = {{:s}}\\n{:s}({{:s}}) = {{:s}}'\n",
    "    msg = msgBase.format(aName, fName, bName)\n",
    "    zs = np.array([[0, 0], [1, 0], [2, 1], [2, 2]])\n",
    "    for z in zs:\n",
    "        print(msg.format(a2s(z), a2s(a(f, z, delta)), a2s(z), a2s(b(z))), end='\\n\\n')\n",
    "\n",
    "try:\n",
    "    compare(Jacobian, P2C, JacobianP2C)\n",
    "except NameError:\n",
    "    pass"
   ]
  },
  {
   "cell_type": "markdown",
   "metadata": {
    "tags": [
     "AST"
    ]
   },
   "source": [
    "### Problem 1.5"
   ]
  },
  {
   "cell_type": "markdown",
   "metadata": {
    "tags": [
     "AST"
    ]
   },
   "source": [
    "Use the fact that the Hessian is the Jacobian of the gradient to write a Python function with header\n",
    "\n",
    "    def Hessian(f, x, delta=1e-5):\n",
    "    \n",
    "that uses your `gradient` function to compute the Hessian of `f` at `x`. Show your code."
   ]
  },
  {
   "cell_type": "markdown",
   "metadata": {
    "tags": [
     "ST"
    ]
   },
   "source": [
    "### Answer"
   ]
  },
  {
   "cell_type": "code",
   "execution_count": 652,
   "metadata": {},
   "outputs": [],
   "source": [
    "def Hessian(f, x, delta=1e-5):\n",
    "    d = x.size\n",
    "    H = np.zeros((d, d))           # (d,d)\n",
    "    J = Jacobian(f, x, delta=1e-5) # (1,d) with first derivatives\n",
    "    J = J.reshape((d,))            # reshape so that we can reuse J \n",
    "    H = Jacobian(lambda x: Jacobian(f, x, delta=1e-5), x, delta=1e-5)\n",
    "    return H"
   ]
  },
  {
   "cell_type": "markdown",
   "metadata": {
    "tags": [
     "AST"
    ]
   },
   "source": [
    "### Problem 1.6"
   ]
  },
  {
   "cell_type": "markdown",
   "metadata": {
    "tags": [
     "AST"
    ]
   },
   "source": [
    "Show the result of running the tests below. This will happen automatically once your function `Hessian` is defined correctly (and you run the cell below)."
   ]
  },
  {
   "cell_type": "markdown",
   "metadata": {
    "tags": [
     "ST"
    ]
   },
   "source": [
    "### Answer"
   ]
  },
  {
   "cell_type": "code",
   "execution_count": 653,
   "metadata": {
    "tags": [
     "AST"
    ]
   },
   "outputs": [
    {
     "name": "stdout",
     "output_type": "stream",
     "text": [
      "Jacobian(f, [0, 0]) = [0.027, 0.0135]\n",
      "gradientF([0, 0]) = [0.027, 0.0135]\n",
      "\n",
      "Jacobian(f, [1, 0]) = [0.4707, 0.2707]\n",
      "gradientF([1, 0]) = [0.4707, 0.2707]\n",
      "\n",
      "Jacobian(f, [2, 1]) = [0.4, 0.2]\n",
      "gradientF([2, 1]) = [0.4, 0.2]\n",
      "\n",
      "Jacobian(f, [2, 2]) = [0.4, -0.3358]\n",
      "gradientF([2, 2]) = [0.4, -0.3358]\n",
      "\n",
      "Hessian(f, [0, 0]) = [0.2943, 0.0539; 0.0539, 0.2135]\n",
      "HessianF([0, 0]) = [0.2943, 0.0539; 0.0539, 0.2135]\n",
      "\n",
      "Hessian(f, [1, 0]) = [0.4707, 0.5413; 0.5413, 0.4707]\n",
      "HessianF([1, 0]) = [0.4707, 0.5413; 0.5413, 0.4707]\n",
      "\n",
      "Hessian(f, [2, 1]) = [-1.8, 0; 0, -1.8]\n",
      "HessianF([2, 1]) = [-1.8, 0; 0, -1.8]\n",
      "\n",
      "Hessian(f, [2, 2]) = [-0.5358, -0; -0, 0.9358]\n",
      "HessianF([2, 2]) = [-0.5358, 0; 0, 0.9358]\n",
      "\n"
     ]
    }
   ],
   "source": [
    "shift, scale = [2, 1], 10\n",
    "\n",
    "def f(z):\n",
    "    d = z - shift\n",
    "    return np.array(np.inner(z, z) / scale + np.exp(-np.inner(d, d)))\n",
    "\n",
    "def gradientF(z):\n",
    "    d = z - shift\n",
    "    return 2 * (z / scale - d * np.exp(-np.inner(d, d)))\n",
    "\n",
    "\n",
    "def HessianF(z):    \n",
    "    I = np.eye(2)\n",
    "    d = z - shift\n",
    "    return 2 * (I / scale + (2 * np.outer(d, d) - I) * np.exp(-np.inner(d, d)))\n",
    "\n",
    "try:\n",
    "    compare(Jacobian, f, gradientF)\n",
    "    compare(Hessian, f, HessianF)\n",
    "except NameError:\n",
    "    pass"
   ]
  },
  {
   "cell_type": "markdown",
   "metadata": {
    "tags": [
     "AST"
    ]
   },
   "source": [
    "### Problem 1.7"
   ]
  },
  {
   "cell_type": "markdown",
   "metadata": {
    "tags": [
     "AST"
    ]
   },
   "source": [
    "Write one clear and concise sentence to describe which results are good and which are not in the tests below."
   ]
  },
  {
   "cell_type": "code",
   "execution_count": 654,
   "metadata": {
    "tags": [
     "AST"
    ]
   },
   "outputs": [
    {
     "name": "stdout",
     "output_type": "stream",
     "text": [
      "Jacobian(f, [0, 0]) = [0.027, 0.0135]\n",
      "gradientF([0, 0]) = [0.027, 0.0135]\n",
      "\n",
      "Jacobian(f, [1, 0]) = [0.4707, 0.2707]\n",
      "gradientF([1, 0]) = [0.4707, 0.2707]\n",
      "\n",
      "Jacobian(f, [2, 1]) = [0.4, 0.2]\n",
      "gradientF([2, 1]) = [0.4, 0.2]\n",
      "\n",
      "Jacobian(f, [2, 2]) = [0.4, -0.3358]\n",
      "gradientF([2, 2]) = [0.4, -0.3358]\n",
      "\n",
      "Hessian(f, [0, 0]) = [0.2943, 0.0539; 0.0539, 0.2135]\n",
      "HessianF([0, 0]) = [0.2943, 0.0539; 0.0539, 0.2135]\n",
      "\n",
      "Hessian(f, [1, 0]) = [0.4707, 0.5413; 0.5413, 0.4707]\n",
      "HessianF([1, 0]) = [0.4707, 0.5413; 0.5413, 0.4707]\n",
      "\n",
      "Hessian(f, [2, 1]) = [-1.8, 0; 0, -1.8]\n",
      "HessianF([2, 1]) = [-1.8, 0; 0, -1.8]\n",
      "\n",
      "Hessian(f, [2, 2]) = [-0.5358, -0; -0, 0.9358]\n",
      "HessianF([2, 2]) = [-0.5358, 0; 0, 0.9358]\n",
      "\n"
     ]
    }
   ],
   "source": [
    "try:\n",
    "    delta = 1e-9\n",
    "    compare(Jacobian, f, gradientF, delta)\n",
    "    compare(Hessian, f, HessianF, delta)\n",
    "except NameError:\n",
    "    pass"
   ]
  },
  {
   "cell_type": "markdown",
   "metadata": {
    "tags": [
     "ST"
    ]
   },
   "source": [
    "### Answer"
   ]
  },
  {
   "cell_type": "markdown",
   "metadata": {},
   "source": [
    "All of the results are good. "
   ]
  },
  {
   "cell_type": "markdown",
   "metadata": {
    "tags": [
     "AST"
    ]
   },
   "source": [
    "## Part 2: Steepest Descent"
   ]
  },
  {
   "cell_type": "markdown",
   "metadata": {
    "tags": [
     "AST"
    ]
   },
   "source": [
    "### Problem 2.1"
   ]
  },
  {
   "cell_type": "markdown",
   "metadata": {
    "tags": [
     "AST"
    ]
   },
   "source": [
    "Using the imports and definition in the cell below, write a function with header\n",
    "\n",
    "    def lineSearch(f, g, z0):\n",
    "\n",
    "that performs line search on the function `f`, whose gradient is computed by the function `g`, starting at point `z0`. If the starting point $\\mathbf{z}_0$ is in $\\mathbb{R}^d$, then functions $f$ and $g$ have the following signatures:\n",
    "\n",
    "$$\n",
    "f\\ :\\ \\mathbb{R}^d \\rightarrow \\mathbb{R} \\;\\;\\;\\;\\;\\text{and}\\;\\;\\;\\;\\;\n",
    "g\\ :\\ \\mathbb{R}^d \\rightarrow \\mathbb{R}^d\n",
    "$$\n",
    "\n",
    "Show your code, and the result of running the function with the function $f$ and value `z0` defined below. Defining the corresponding gradient $g$ is your task."
   ]
  },
  {
   "cell_type": "code",
   "execution_count": 655,
   "metadata": {
    "tags": [
     "AST"
    ]
   },
   "outputs": [],
   "source": [
    "from scipy import optimize as opt\n",
    "import numpy as np\n",
    "import math\n",
    "import matplotlib.pyplot as plt\n",
    "\n",
    "small = math.sqrt(np.finfo(float).eps)\n",
    "\n",
    "f, z0 = lambda z: -np.sin(z), 0"
   ]
  },
  {
   "cell_type": "markdown",
   "metadata": {
    "tags": [
     "ST"
    ]
   },
   "source": [
    "### Answer"
   ]
  },
  {
   "cell_type": "code",
   "execution_count": 656,
   "metadata": {},
   "outputs": [],
   "source": [
    "# gradient function \n",
    "def g(z):\n",
    "    return -np.cos(z)"
   ]
  },
  {
   "cell_type": "code",
   "execution_count": 657,
   "metadata": {},
   "outputs": [],
   "source": [
    "def lineSearch(f, g, z0):\n",
    "    '''\n",
    "    This function performs line search on the function f, whose gradient is computed by the function g, starting at point z0.\n",
    "    a_k, the distance we travel on the line h(a_k)\n",
    "    z_k+1, the input of the minimumm of f(z) found using line search (the next step to take)\n",
    "    Outputs: z, the next step of steepest descent \n",
    "    '''\n",
    "    mag_g = np.linalg.norm(g(z0)) # magnitude of gradient of f at z0 \n",
    "    if mag_g < small:\n",
    "        return z0\n",
    "    def hi(c):                   # function h from R to R \n",
    "        return f(z0 + c*(-g_i))\n",
    "    \n",
    "    # Find the third element c of the bracketing triplet \n",
    "    g_i = g(z0)\n",
    "    c = small                   # starting value for c \n",
    "    h_prev =  f(z0 + c*(-g_i))  # initial h(c)\n",
    "    c *= 1.2                       \n",
    "    h = f(z0 + c*(-g_i))        # next h(c)\n",
    "    while h < h_prev: \n",
    "        c *= 1.2\n",
    "        h_prev = h \n",
    "        h = f(z0 + c*(-g_i))\n",
    "        if c > 100:\n",
    "            print(\"Error: c > 100\")\n",
    "            return z0     \n",
    "    # now we should have a c in which h_prev(c) < h(c)\n",
    "    a = 0 \n",
    "    bracket = (a,c)\n",
    "    b = opt.minimize_scalar(hi, bounds = bracket, method = 'bounded')\n",
    "    z_next = z0 - (b.x * g_i) \n",
    "        \n",
    "    return z_next"
   ]
  },
  {
   "cell_type": "code",
   "execution_count": 658,
   "metadata": {},
   "outputs": [
    {
     "name": "stdout",
     "output_type": "stream",
     "text": [
      "Running lineSearch with f and z0 returns a value of z = 1.5707961264726962\n"
     ]
    }
   ],
   "source": [
    "answer = lineSearch(f, g, z0)\n",
    "print(\"Running lineSearch with f and z0 returns a value of z =\",answer)"
   ]
  },
  {
   "cell_type": "markdown",
   "metadata": {
    "tags": [
     "AST"
    ]
   },
   "source": [
    "### Problem 2.2"
   ]
  },
  {
   "cell_type": "markdown",
   "metadata": {
    "tags": [
     "AST"
    ]
   },
   "source": [
    "Write a function with header\n",
    "\n",
    "    def steepest(f, g, z0, maxK=10000, delta=small, remember=False):\n",
    "    \n",
    "that uses your `lineSearch` function to implement steepest descent with line search.\n",
    "\n",
    "Show your code and the value of $\\mathbf{z}$ that results from minimizing the provided function `Rosenbrock` with `steepest`. Start the minimization at $\\mathbf{z}_0 = (-1.2, 1)$ (defined below), and use the default values for the keyword arguments. "
   ]
  },
  {
   "cell_type": "code",
   "execution_count": 659,
   "metadata": {
    "tags": [
     "AST"
    ]
   },
   "outputs": [],
   "source": [
    "def Rosenbrock(z):\n",
    "    return 100 * (z[1] - z[0] ** 2) ** 2 + (1 - z[0]) ** 2 \n",
    "\n",
    "def RosenGrad(z):\n",
    "    return np.array([400 * (z[0] ** 3 - z[0] * z[1]) + 2 * z[0] - 2,\n",
    "                     200 * (z[1] - z[0] ** 2)])\n",
    "\n",
    "z0, zStar = np.array([-1.2, 1]), np.array([1, 1])"
   ]
  },
  {
   "cell_type": "markdown",
   "metadata": {
    "tags": [
     "ST"
    ]
   },
   "source": [
    "### Answer"
   ]
  },
  {
   "cell_type": "code",
   "execution_count": 660,
   "metadata": {},
   "outputs": [],
   "source": [
    "def steepest(f, g, z0, maxK=10000, delta=small, remember=False):\n",
    "    '''\n",
    "    uses lineSearch function to implement steepest descent with line search\n",
    "    '''\n",
    "    count = 0 \n",
    "    steps = [] \n",
    "    steps.append(z0)\n",
    "    z_prev = lineSearch(f, g, z0) # this is scalar, but I want my line search to return a R^d vector z \n",
    "    steps.append(z_prev)\n",
    "    count += 1\n",
    "    z_current = lineSearch(f, g, z_prev)\n",
    "    count += 1\n",
    "    steps.append(z_current)\n",
    "    \n",
    "    while True:\n",
    "        count += 1\n",
    "        if np.linalg.norm(z_current - z_prev) < delta or count > maxK:\n",
    "            break\n",
    "        z_prev = z_current \n",
    "        z_current = lineSearch(f, g, z_prev)\n",
    "        steps.append(z_current)\n",
    "    m = len(steps)\n",
    "    d = z0.size\n",
    "    history = np.zeros((m,d))\n",
    "    \n",
    "    for i in range(m):\n",
    "        history[i,:] = steps[i]\n",
    "    if remember == True:\n",
    "        return (z_current, history)\n",
    "    elif remember == False:\n",
    "        return z_current"
   ]
  },
  {
   "cell_type": "code",
   "execution_count": 661,
   "metadata": {},
   "outputs": [
    {
     "name": "stdout",
     "output_type": "stream",
     "text": [
      "Running steepest with Rosenbrock and z0 returns a value of z = [0.99995379 0.99990749]\n"
     ]
    }
   ],
   "source": [
    "answer = steepest(Rosenbrock, RosenGrad, z0, maxK=10000, delta=small, remember=False)\n",
    "print(\"Running steepest with Rosenbrock and z0 returns a value of z =\",answer)"
   ]
  },
  {
   "cell_type": "markdown",
   "metadata": {
    "tags": [
     "AST"
    ]
   },
   "source": [
    "### Problem 2.3"
   ]
  },
  {
   "cell_type": "markdown",
   "metadata": {
    "tags": [
     "AST"
    ]
   },
   "source": [
    "Now run `steepest` as follows (the `try`/`except` is there so that the notebook will still run if `steepest` is undefined)."
   ]
  },
  {
   "cell_type": "code",
   "execution_count": 662,
   "metadata": {
    "tags": [
     "AST"
    ]
   },
   "outputs": [],
   "source": [
    "try:\n",
    "    [zHat, history] = steepest(Rosenbrock, RosenGrad, z0, maxK=1000, remember=True)\n",
    "except NameError:\n",
    "    pass"
   ]
  },
  {
   "cell_type": "markdown",
   "metadata": {
    "tags": [
     "AST"
    ]
   },
   "source": [
    "Make a contour plot of the Rosenbrock function using 10 levels drawn as thin gray lines (use `colors='grey', linewidths=1` in your call to `matplotlib.pyplot.contour` to this effect) for $-1.5 \\leq z_1 \\leq 1.5$ and $-0.5 \\leq z_2 \\leq 1.5$. To make the contour plot, sample this rectangle of values with 100 samples in each dimension.\n",
    "\n",
    "Superimpose a plot of the path recorded in `history` on the contour plot. Also draw a blue dot at $\\mathbf{z}_0$ and a red dot at $\\mathbf{z}^{\\ast}$, the true minimum.\n",
    "\n",
    "Show code and plot."
   ]
  },
  {
   "cell_type": "markdown",
   "metadata": {
    "tags": [
     "ST"
    ]
   },
   "source": [
    "### Answer"
   ]
  },
  {
   "cell_type": "code",
   "execution_count": 663,
   "metadata": {},
   "outputs": [],
   "source": [
    "x = np.linspace(-1.5, 1.5, 100)\n",
    "y = np.linspace(-0.5, 1.5, 100)\n",
    "X, Y = np.meshgrid(x,y)\n",
    "Z = np.zeros(((100,100)))\n",
    "Z[0][0] = 1\n",
    "for i in range(100):\n",
    "    for j in range(100):\n",
    "        Z[i][j] = Rosenbrock(np.array([x[i], y[j]]))\n",
    "x_hist = history[:,0]\n",
    "y_hist = history[:,1]"
   ]
  },
  {
   "cell_type": "code",
   "execution_count": 664,
   "metadata": {},
   "outputs": [
    {
     "name": "stderr",
     "output_type": "stream",
     "text": [
      "/anaconda3/lib/python3.6/site-packages/numpy/ma/core.py:6434: MaskedArrayFutureWarning: In the future the default for ma.minimum.reduce will be axis=0, not the current None, to match np.minimum.reduce. Explicitly pass 0 or None to silence this warning.\n",
      "  return self.reduce(a)\n",
      "/anaconda3/lib/python3.6/site-packages/numpy/ma/core.py:6434: MaskedArrayFutureWarning: In the future the default for ma.maximum.reduce will be axis=0, not the current None, to match np.maximum.reduce. Explicitly pass 0 or None to silence this warning.\n",
      "  return self.reduce(a)\n"
     ]
    },
    {
     "data": {
      "text/plain": [
       "<matplotlib.text.Text at 0x11960fef0>"
      ]
     },
     "execution_count": 664,
     "metadata": {},
     "output_type": "execute_result"
    },
    {
     "data": {
      "image/png": "[encoded data removed]",
      "text/plain": [
       "<matplotlib.figure.Figure at 0x118f9a128>"
      ]
     },
     "metadata": {},
     "output_type": "display_data"
    }
   ],
   "source": [
    "plt.contour(grid[0,:,:], grid[1,:,:], Z, 10,colors='grey', linewidths=1)\n",
    "plt.plot(z0[0],z0[1], 'bo')\n",
    "plt.plot(zStar[0], zStar[1], 'ro')\n",
    "plt.plot(x_hist, y_hist)\n",
    "plt.xlabel(\"z1\")\n",
    "plt.ylabel(\"z2\")\n",
    "plt.title(\"Steepest descent for m=1000\")"
   ]
  },
  {
   "cell_type": "markdown",
   "metadata": {
    "tags": [
     "AST"
    ]
   },
   "source": [
    "### Problem 2.4"
   ]
  },
  {
   "cell_type": "markdown",
   "metadata": {
    "tags": [
     "AST"
    ]
   },
   "source": [
    "Convergence slows down as $\\mathbf{z}^{\\ast}$ is approached, and even after 1000 iterations there is still a way to go. To see this slowdown more clearly, plot a vector `distance` with the Euclidean distances between each of the points in `history` (obtained in the previous problem) and $\\mathbf{z}^{\\ast}$. Label the plot axes meaningfully.\n",
    "\n",
    "Show code and plot."
   ]
  },
  {
   "cell_type": "markdown",
   "metadata": {
    "tags": [
     "ST"
    ]
   },
   "source": [
    "### Answer"
   ]
  },
  {
   "cell_type": "code",
   "execution_count": 665,
   "metadata": {},
   "outputs": [],
   "source": [
    "distances = []\n",
    "for i in range(len(history)):\n",
    "    d = np.linalg.norm(history[i] - zStar)\n",
    "    distances.append(d)    "
   ]
  },
  {
   "cell_type": "code",
   "execution_count": 666,
   "metadata": {},
   "outputs": [
    {
     "data": {
      "text/plain": [
       "<matplotlib.text.Text at 0x119595080>"
      ]
     },
     "execution_count": 666,
     "metadata": {},
     "output_type": "execute_result"
    },
    {
     "data": {
      "image/png": "[encoded data removed]",
      "text/plain": [
       "<matplotlib.figure.Figure at 0x11969ea90>"
      ]
     },
     "metadata": {},
     "output_type": "display_data"
    }
   ],
   "source": [
    "plt.plot(range(len(history)), distances)\n",
    "plt.xlabel(\"mth step\")\n",
    "plt.ylabel(\"distance between z_m and z*\")\n",
    "plt.title(\"Decreasing step sizes in steepest descent\")"
   ]
  },
  {
   "cell_type": "code",
   "execution_count": null,
   "metadata": {},
   "outputs": [],
   "source": []
  }
 ],
 "metadata": {
  "kernelspec": {
   "display_name": "Python 3",
   "language": "python",
   "name": "python3"
  },
  "language_info": {
   "codemirror_mode": {
    "name": "ipython",
    "version": 3
   },
   "file_extension": ".py",
   "mimetype": "text/x-python",
   "name": "python",
   "nbconvert_exporter": "python",
   "pygments_lexer": "ipython3",
   "version": "3.6.3"
  }
 },
 "nbformat": 4,
 "nbformat_minor": 2
}
