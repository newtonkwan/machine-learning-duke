{
 "cells": [
  {
   "cell_type": "markdown",
   "metadata": {
    "tags": [
     "names"
    ]
   },
   "source": [
    "> **Student Names and IDs**:\n",
    ">\n",
    "> - Newton Kwan, nk150 "
   ]
  },
  {
   "cell_type": "markdown",
   "metadata": {
    "tags": [
     "question"
    ]
   },
   "source": [
    "---\n",
    "#### Problem 1.1\n",
    "\n",
    "> Spell out the system $$A \\mathbf{c} = \\mathbf{a}$$ for this special case."
   ]
  },
  {
   "cell_type": "markdown",
   "metadata": {},
   "source": [
    "---\n",
    "#### Solution 1.1\n",
    "\n",
    "$$ c_01 + c_1x_0 = y_0 $$"
   ]
  },
  {
   "cell_type": "markdown",
   "metadata": {
    "tags": [
     "question"
    ]
   },
   "source": [
    "---\n",
    "#### Problem 1.2\n",
    "\n",
    "> Give expressions for two different possible solutions $\\mathbf{c}$ to this equation in terms of $x_0$ and $y_0$."
   ]
  },
  {
   "cell_type": "markdown",
   "metadata": {},
   "source": [
    "---\n",
    "#### Solution 1.2\n",
    "\n",
    "$$ c' = [y_0, 0]^T$$\n",
    "\n",
    "$$ c'' = [y_0(1-x_0), y_0]^T $$ "
   ]
  },
  {
   "cell_type": "markdown",
   "metadata": {
    "tags": [
     "question"
    ]
   },
   "source": [
    "---\n",
    "#### Problem 1.3\n",
    "\n",
    "> Write and run Python code to draw, in a single plot, the two lines corresponding to the two solutions you gave when $$(x_0, y_0) = (2, 1).$$"
   ]
  },
  {
   "cell_type": "code",
   "execution_count": 1,
   "metadata": {
    "scrolled": true,
    "tags": [
     "question"
    ]
   },
   "outputs": [
    {
     "data": {
      "image/png": "[encoded data removed]",
      "text/plain": [
       "<matplotlib.figure.Figure at 0x104bcfd68>"
      ]
     },
     "metadata": {},
     "output_type": "display_data"
    }
   ],
   "source": [
    "import numpy as np\n",
    "import matplotlib.pyplot as plt\n",
    "\n",
    "def show(x, y, cList = []):\n",
    "    plt.ion()\n",
    "    plt.plot(x, y, marker='.', markersize=12, ls='')\n",
    "    npt = 100\n",
    "    xrange = [x - 1, x + 1] if x.size == 1 else [np.amin(x), np.amax(x)]\n",
    "    xFine = np.linspace(xrange[0], xrange[1], npt)\n",
    "    for c in cList:\n",
    "        nc = c.size\n",
    "        ycFine = np.zeros(xFine.shape)\n",
    "        xPow = np.ones(xFine.shape)\n",
    "        for i in range(nc):\n",
    "            ycFine += c.item(i) * xPow\n",
    "            xPow *= xFine\n",
    "        plt.plot(xFine, ycFine, label = 'degree ' + str(nc-1))\n",
    "    plt.xlabel('x')\n",
    "    plt.ylabel('y')\n",
    "    plt.legend()\n",
    "    plt.show()\n",
    "    \n",
    "# Usage example\n",
    "p = [2, 1]\n",
    "show(np.array(p[0]), np.array(p[1]), [np.array([1, 0]), np.array([-1,1])])\n",
    "#show(np.array(p[0]), np.array(p[1]), [np.array([1, 1])])"
   ]
  },
  {
   "cell_type": "markdown",
   "metadata": {
    "tags": [
     "question"
    ]
   },
   "source": [
    "---\n",
    "#### Problem 2.1\n",
    "\n",
    "> Derive this last equation from the system\n",
    "> $$A\\mathbf{c} = \\mathbf{a}$$\n",
    "> spelled out for this special case."
   ]
  },
  {
   "cell_type": "markdown",
   "metadata": {},
   "source": [
    "---\n",
    "#### Solution 2.1\n",
    "\n",
    "Given the initial equations\n",
    "$$ c_0 + c_1x = y $$\n",
    "$$A\\mathbf{c} = \n",
    "\\left[\\begin{array}{cc}1 & x_0\\\\1 & x_1\\end{array}\\right]\n",
    "\\left[\\begin{array}{c}c_0\\\\c_1\\end{array}\\right]\n",
    "=\\\n",
    "\\left[\\begin{array}{c}y_0\\\\y_11\\end{array}\\right]\n",
    "= \\mathbf{a}$$\n",
    "\n",
    "Using Gaussian elimination, \n",
    "\n",
    "$$\\left[\\begin{array}{cc|c}1 & x_0 & y_0\\\\1 & x_1 & y_1\\end{array}\\right]\n",
    "\\rightarrow\n",
    "\\left[\\begin{array}{cc|c}1 & x_0 & y_0\\\\0 & x_1 - x_0 & y_1-y_0\\end{array}\\right]$$\n",
    "\n",
    "This gives us the following two equations: \n",
    "\n",
    "$$c_0 + c_1x_0 = y_0$$\n",
    "$$ c_0(x_1-x_0) = y_1 - y_0$$\n",
    "\n",
    "Rearranging the equations for $c_0$ and $c_1$: \n",
    "\n",
    "$$ c_0 = y_0 - c_1x_0$$ \n",
    "$$ c_1 = \\frac{y_1 - y_0}{x_1-x_0}$$\n",
    "\n",
    "Substituting the second equation into the first equation: \n",
    "\n",
    "$$ c_0 = y_0 - \\frac{y_1 - y_0}{x_1-x_0}x_0$$ \n",
    "\n",
    "Substituting $c_0$ and $c_1$ into the first equation: \n",
    "\n",
    "$$y_0 - \\frac{y_1 - y_0}{x_1-x_0}x_0 + \\frac{y_1 - y_0}{x_1-x_0}x = y$$\n",
    "\n",
    "Rearranging, \n",
    "\n",
    "$$ y - y_0 = \\frac{y_1 - y_0}{x_1 - x_0}\\ (x - x_0) $$"
   ]
  },
  {
   "cell_type": "markdown",
   "metadata": {
    "tags": [
     "question"
    ]
   },
   "source": [
    "---\n",
    "#### Problem 3.1\n",
    "\n",
    "> Write the matrix $A^T A$ and vector $A^T \\mathbf{a}$ in terms of $N, X, Y, S, P$ for the special case $k=1$."
   ]
  },
  {
   "cell_type": "markdown",
   "metadata": {},
   "source": [
    "---\n",
    "#### Solution 3.1\n",
    "\n",
    "$$ A^T A\\ \n",
    "=\\\n",
    "\\left[\\begin{array}{ccc}1 & 1 & 1\\\\x_0 & x_1 & x_2 \\end{array}\\right]\\\n",
    "\\left[\\begin{array}{cc}1 & x_0\\\\1 & x_1\\\\ 1 & x_2\\end{array}\\right]\\\n",
    "=\\\n",
    "\\left[\\begin{array}{cc}N & X\\\\ X & S\\end{array}\\right]$$\n",
    "\n",
    "$$ A^T\\mathbf{a} \n",
    "=\\ \n",
    "\\left[\\begin{array}{ccc}1 & 1 & 1\\\\x_0 & x_1 & x_2 \\end{array}\\right]\\\n",
    "\\left[\\begin{array}{c}y_0\\\\y_1\\\\y_2 \\end{array}\\right]\\\n",
    "=\\ \n",
    "\\left[\\begin{array}{c}Y\\\\P\\end{array}\\right]\n",
    "$$ "
   ]
  },
  {
   "cell_type": "markdown",
   "metadata": {
    "tags": [
     "question"
    ]
   },
   "source": [
    "---\n",
    "#### Problem 3.2\n",
    "\n",
    "> Find expressions for $c_0$ and $c_1$ in terms of $N, X, Y, S, P$ by solving the normal equations. Recall that\n",
    "> $$\\left[\\begin{array}{cc}a & b\\\\c & d \\end{array}\\right]^{-1} \\;=\\; \n",
    "\\frac{1}{ad-bc}\\ \\left[\\begin{array}{rr}d & -b\\\\-c & a \\end{array}\\right]$$"
   ]
  },
  {
   "cell_type": "markdown",
   "metadata": {},
   "source": [
    "---\n",
    "#### Solution 3.2\n",
    "\n",
    "First, we solve for $\\mathbf{a}$, \n",
    "\n",
    "$$ A^T A \\mathbf{c} = A^T \\mathbf{a}$$\n",
    "\n",
    "Multiplying both sides by the inverse of $A^T A$\n",
    "$$ (A^T A)^{-1} (A^T A) \\mathbf{c} = (A^T A)^{-1} A^T \\mathbf{a} $$\n",
    "$$\\mathbf{c} = (A^T A)^{-1} A^T \\mathbf{a} $$\n",
    "\n",
    "Using the definition of the the inverse of a 2x2 matrix, \n",
    "\n",
    "$$\\left[\\begin{array}{cc}a & b\\\\c & d \\end{array}\\right]^{-1} \\;=\\; \n",
    "\\frac{1}{ad-bc}\\ \\left[\\begin{array}{rr}d & -b\\\\-c & a \\end{array}\\right]$$\n",
    "\n",
    "$$ (A^T A)^{-1} \n",
    "=\\ \n",
    "\\left[\\begin{array}{cc}N & X\\\\ X & S\\end{array}\\right]^{-1}\n",
    "=\\ \n",
    "\\frac{1}{NS - X^2} \n",
    "\\left[\\begin{array}{cc}S & -X\\\\ -X & N\\end{array}\\right]\n",
    "$$\n",
    "\n",
    "Substituting into the equation above, \n",
    "\n",
    "$$\\mathbf{c} \n",
    "=\\\n",
    "\\left[\\begin{array}{c}c_0\\\\ c_1\\end{array}\\right]\n",
    "=\\\n",
    "\\frac{1}{NS - X^2} \n",
    "\\left[\\begin{array}{cc}S & -X\\\\ -X & N\\end{array}\\right]\n",
    "\\left[\\begin{array}{c}Y\\\\P\\end{array}\\right]\n",
    "=\\\n",
    "\\frac{1}{NS - X^2} \n",
    "\\left[\\begin{array}{c}SY - XP\\\\ -XY + NP\\end{array}\\right]\n",
    "$$\n",
    "\n",
    "\n"
   ]
  },
  {
   "cell_type": "markdown",
   "metadata": {
    "tags": [
     "question"
    ]
   },
   "source": [
    "---\n",
    "#### Problem 3.3\n",
    "\n",
    "> Use the function `show` given earlier to display the three points $(0, -1), (1, 1), (3, 0)$ and the line fit to them with the formulas you just found for $c_0$ and $c_1$."
   ]
  },
  {
   "cell_type": "code",
   "execution_count": 2,
   "metadata": {},
   "outputs": [
    {
     "name": "stdout",
     "output_type": "stream",
     "text": [
      "c0 = -0.286\n",
      "c1 = 0.214\n"
     ]
    },
    {
     "data": {
      "image/png": "[encoded data removed]",
      "text/plain": [
       "<matplotlib.figure.Figure at 0x1063305f8>"
      ]
     },
     "metadata": {},
     "output_type": "display_data"
    }
   ],
   "source": [
    "import numpy as np\n",
    "import matplotlib.pyplot as plt\n",
    "\n",
    "def show(x, y, cList = []):\n",
    "    plt.ion()\n",
    "    plt.plot(x, y, marker='.', markersize=12, ls='')\n",
    "    npt = 100\n",
    "    xrange = [x - 1, x + 1] if x.size == 1 else [np.amin(x), np.amax(x)]\n",
    "    xFine = np.linspace(xrange[0], xrange[1], npt)\n",
    "    for c in cList:\n",
    "        nc = c.size\n",
    "        ycFine = np.zeros(xFine.shape)\n",
    "        xPow = np.ones(xFine.shape)\n",
    "        for i in range(nc):\n",
    "            ycFine += c.item(i) * xPow\n",
    "            xPow *= xFine\n",
    "        plt.plot(xFine, ycFine, label = 'degree ' + str(nc-1))\n",
    "    plt.xlabel('x')\n",
    "    plt.ylabel('y')\n",
    "    plt.legend()\n",
    "    plt.show()\n",
    "    \n",
    "# Usage example\n",
    "p = [0, -1, 1, 1, 3, 0]\n",
    "N = 3 \n",
    "X = 4 \n",
    "Y = 0\n",
    "S = 10\n",
    "P = 1\n",
    "coeff = 1 / ((N*S) - (X**2))\n",
    "c0 = coeff * (S*Y - X*P)\n",
    "c1 = coeff * (-X*Y + N*P)\n",
    "print(\"c0 = {:.3f}\".format(c0))\n",
    "print(\"c1 = {:.3f}\".format(c1))\n",
    "show(np.array([p[0], p[2], p[4]]), np.array([p[1], p[3], p[5]]), [np.array([c0, c1])])\n",
    "#show(np.array(p[0]), np.array(p[1]), [np.array([1, 1])])"
   ]
  },
  {
   "cell_type": "markdown",
   "metadata": {
    "tags": [
     "question"
    ]
   },
   "source": [
    "---\n",
    "#### Problem 4.1\n",
    "\n",
    "> In problem 1.3 you found two different solutions to a data fitting problem. Let us call the corresponding coefficient vectors $\\mathbf{c}$ and $\\mathbf{d}$. Write the values of $\\mathbf{c}$ and $\\mathbf{d}$, and report their norms. Which is smaller?"
   ]
  },
  {
   "cell_type": "markdown",
   "metadata": {},
   "source": [
    "---\n",
    "#### Solutions 4.1"
   ]
  },
  {
   "cell_type": "code",
   "execution_count": 3,
   "metadata": {},
   "outputs": [
    {
     "name": "stdout",
     "output_type": "stream",
     "text": [
      "c =  [1 0]\n",
      "d =  [-1  1]\n",
      "The norm of c is 1.000\n",
      "The norm of d is 1.414\n",
      "The norm of c is smaller than the norm of d\n"
     ]
    }
   ],
   "source": [
    "c = np.array([1, 0])\n",
    "d = np.array([-1,1])\n",
    "\n",
    "c_norm = np.linalg.norm(c)\n",
    "d_norm = np.linalg.norm(d)\n",
    "\n",
    "print(\"c = \", c)\n",
    "print(\"d = \", d)\n",
    "print(\"The norm of c is {:.3f}\".format(c_norm))\n",
    "print(\"The norm of d is {:.3f}\".format(d_norm))\n",
    "print(\"The norm of c is smaller than the norm of d\")"
   ]
  },
  {
   "cell_type": "markdown",
   "metadata": {
    "tags": [
     "question"
    ]
   },
   "source": [
    "---\n",
    "#### Problem 4.2\n",
    "\n",
    "> Write a function with header\n",
    ">\n",
    ">    `def fit(x, y, k):`\n",
    ">\n",
    "> that fits a polynomial of degree `k` to the data in `x` and `y`."
   ]
  },
  {
   "cell_type": "markdown",
   "metadata": {},
   "source": [
    "---\n",
    "#### Solutions 4.1"
   ]
  },
  {
   "cell_type": "code",
   "execution_count": 4,
   "metadata": {},
   "outputs": [],
   "source": [
    "def fit(x,y,k):\n",
    "    '''\n",
    "    This function takes `numpy` vectors `x` and `y` with $N$ coordinates each \n",
    "    and a degree `k` (a nonnegative integer), and returns a `numpy` vector `c` \n",
    "    with the coefficients of the polynomial of degree `k` that fits \n",
    "    the points `(x[n], y[n])` best in the Least-Squares sense.\n",
    "    '''\n",
    "\n",
    "    N = len(y)\n",
    "    arr = np.zeros((N, k+1))\n",
    "    for i in range(N):\n",
    "        for j in range(k+1):\n",
    "            arr[i, j] = x.item(i) ** j\n",
    "        \n",
    "    A = np.matrix(arr)\n",
    "    a = np.reshape(y, [y.size, 1])\n",
    "    \n",
    "    c = np.linalg.lstsq(A, a, rcond=None)[0]\n",
    "    return c"
   ]
  },
  {
   "cell_type": "code",
   "execution_count": null,
   "metadata": {},
   "outputs": [],
   "source": []
  },
  {
   "cell_type": "markdown",
   "metadata": {
    "tags": [
     "question"
    ]
   },
   "source": [
    "---\n",
    "#### Problem 4.3\n",
    "\n",
    "> Show the plot and output obtained with the following code, where `fit` is your function. The file `T.txt` should be in the same directory as your notebook."
   ]
  },
  {
   "cell_type": "markdown",
   "metadata": {},
   "source": [
    "---\n",
    "#### Solutions 4.3"
   ]
  },
  {
   "cell_type": "code",
   "execution_count": 5,
   "metadata": {
    "scrolled": true,
    "tags": [
     "question"
    ]
   },
   "outputs": [
    {
     "data": {
      "image/png": "[encoded data removed]",
      "text/plain": [
       "<matplotlib.figure.Figure at 0x104bcf198>"
      ]
     },
     "metadata": {},
     "output_type": "display_data"
    },
    {
     "name": "stdout",
     "output_type": "stream",
     "text": [
      "[[ 0.200  0.400]]\n"
     ]
    }
   ],
   "source": [
    "try:\n",
    "    p13 = {'x' : np.array(2), 'y' : np.array([1]), 'k' : [1]}\n",
    "    \n",
    "    np.set_printoptions(formatter={'float': '{: .3f}'.format})\n",
    "\n",
    "    def run(p):\n",
    "        x, y = p['x'], p['y']\n",
    "        cList = [fit(x, y, k) for k in p['k']]\n",
    "        show(x, y, cList)\n",
    "        for c in cList:\n",
    "            print(c.T)\n",
    "            \n",
    "    run(p13)\n",
    "except NameError:\n",
    "    pass\n"
   ]
  },
  {
   "cell_type": "markdown",
   "metadata": {
    "tags": [
     "question"
    ]
   },
   "source": [
    "---\n",
    "#### Problem 4.4\n",
    "\n",
    "> What is the approximate norm of the solution (to three decimal digits), and is this result consistent with your results in problem 1.3? Why or why not?"
   ]
  },
  {
   "cell_type": "markdown",
   "metadata": {},
   "source": [
    "---\n",
    "#### Solutions 4.4"
   ]
  },
  {
   "cell_type": "code",
   "execution_count": 6,
   "metadata": {},
   "outputs": [
    {
     "name": "stdout",
     "output_type": "stream",
     "text": [
      "c =  [ 0.200  0.400]\n",
      "The norm of c is 0.447\n",
      "The results are not consistent with problem 1.3. The inconsistency arises because we did not use Least Squares in 1.3, picking a single solution of many. In 4.3, we picked the solution using Least Squares, giving us the answer with the lowest risk. \n"
     ]
    }
   ],
   "source": [
    "c = np.array([0.2, 0.4])\n",
    "c_norm = np.linalg.norm(c)\n",
    "\n",
    "print(\"c = \", c)\n",
    "print(\"The norm of c is {:.3f}\".format(c_norm))\n",
    "print(\"The results are not consistent with problem 1.3. The inconsistency arises because we did not use Least Squares in 1.3, \" \n",
    "      + \"picking a single solution of many. In 4.3, we picked the solution using Least Squares, giving\" \n",
    "     + \" us the answer with the lowest risk. \")"
   ]
  },
  {
   "cell_type": "markdown",
   "metadata": {
    "tags": [
     "question"
    ]
   },
   "source": [
    "---\n",
    "#### Problem 4.5\n",
    "\n",
    "> a. Show the plots and outputs obtained with the code below, and answer the following questions:\n",
    ">\n",
    "> b. Are the plot and value of $\\mathbf{c}$  from the data in `p33` consistent with your answer to problem 3.3?\n",
    ">\n",
    "> c. Give a brief qualitative description of the way(s) in which the curves in the plot from the data in `notes` differ from the curves in Figure 1 of the [class notes on data fitting](https://www2.cs.duke.edu/courses/fall18/compsci371d/notes/01_DataFitting.pdf). The plots in that Figure were computed from the same ten points as in `T.txt` but with a different numerical package."
   ]
  },
  {
   "cell_type": "code",
   "execution_count": 7,
   "metadata": {
    "tags": [
     "question"
    ]
   },
   "outputs": [
    {
     "data": {
      "image/png": "[encoded data removed]",
      "text/plain": [
       "<matplotlib.figure.Figure at 0x106577f28>"
      ]
     },
     "metadata": {},
     "output_type": "display_data"
    },
    {
     "name": "stdout",
     "output_type": "stream",
     "text": [
      "[[-0.286  0.214]]\n"
     ]
    },
    {
     "data": {
      "image/png": "[encoded data removed]",
      "text/plain": [
       "<matplotlib.figure.Figure at 0x106ace128>"
      ]
     },
     "metadata": {},
     "output_type": "display_data"
    },
    {
     "name": "stdout",
     "output_type": "stream",
     "text": [
      "[[ 3.394 -1.655]]\n",
      "[[ 2.089  18.049 -49.900  32.440]]\n",
      "[[ 2.030 -292.804  7046.148 -62434.420  285853.947 -759114.988\n",
      "   1214741.224 -1155128.463  601089.629 -131759.602]]\n"
     ]
    }
   ],
   "source": [
    "try:\n",
    "    p33 = {'x' : np.array([0, 1, 3]), 'y' : np.array([-1, 1, 0]), 'k' : [1]}\n",
    "\n",
    "    x, y = np.loadtxt('T.txt', unpack=True)\n",
    "    notes = {'x' :x, 'y' : y, 'k' : [1, 3, 9]}\n",
    "\n",
    "    run(p33)\n",
    "    run(notes)\n",
    "except NameError:\n",
    "    pass"
   ]
  },
  {
   "cell_type": "markdown",
   "metadata": {},
   "source": [
    "---\n",
    "#### Solutions 4.5\n",
    "\n",
    "b) The plot and value of c are consistent with question 3.3 \n",
    "<br>\n",
    "c) The graphs from Figure 1 and the plots shown above look identical. \n",
    "\n"
   ]
  },
  {
   "cell_type": "code",
   "execution_count": null,
   "metadata": {},
   "outputs": [],
   "source": []
  },
  {
   "cell_type": "markdown",
   "metadata": {
    "tags": [
     "question"
    ]
   },
   "source": [
    "---\n",
    "#### Problem 4.6 (Extra Credit, 5 Points)\n",
    "\n",
    ">If you noticed any discrepancies between your plot and the Figure in the class notes, first state why the discrepancies should not occur under ideal circumstances. Then suggest some reasons for them. For your information, the coefficients found for $k=9$ for the Figure in the class notes are as follows:\n",
    ">\n",
    ">$2.030, -295.642, 7107.144, -62956.114, 288218.499, -765400.622, 1224862.633, -1164835.634, 606187.939, -132887.534$"
   ]
  },
  {
   "cell_type": "markdown",
   "metadata": {},
   "source": [
    "---\n",
    "#### Solutions 4.6\n",
    "\n",
    "I did not find any visual discrepancies between my plots and the Figure in the class notes. But, I can see that the coefficients are differnet. With that said, there are a few reasons I think that the numbers are slightly different: \n",
    "<br>\n",
    "1) differences in implentation within numerical packages, which can come from the liberty of the programmers and scientists who create them. One example may be that one scientist writing code for numpy might see a particular optimization as more beneficial over another kind, where as another scientist may think the opposite or take liberties elsewhere. I can imagine that these decisions are guided by how the packages are intended to be used by its users; \n",
    "<br>\n",
    "2) Operating systems varies from computer to computer, and it is possible that a machine running linux vs OSX may produce slightly different outputs; \n",
    "<br>\n",
    "3) General hardware and limitations of computing: these include how many decimals places python and your computer can store accurately and how much error there will be once you go past something like 13 decimal places. This is why we don't test if a float is equal to another float because they often have trailing digits that don't mean anything after a certain decimal places.\n"
   ]
  },
  {
   "cell_type": "markdown",
   "metadata": {},
   "source": []
  }
 ],
 "metadata": {
  "kernelspec": {
   "display_name": "Python 3",
   "language": "python",
   "name": "python3"
  },
  "language_info": {
   "codemirror_mode": {
    "name": "ipython",
    "version": 3
   },
   "file_extension": ".py",
   "mimetype": "text/x-python",
   "name": "python",
   "nbconvert_exporter": "python",
   "pygments_lexer": "ipython3",
   "version": "3.6.3"
  }
 },
 "nbformat": 4,
 "nbformat_minor": 2
}
